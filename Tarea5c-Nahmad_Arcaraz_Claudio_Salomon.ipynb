{
 "cells": [
  {
   "cell_type": "code",
   "execution_count": 1,
   "id": "8452c395",
   "metadata": {},
   "outputs": [],
   "source": [
    "import sympy as sy\n",
    "sy.init_printing()"
   ]
  },
  {
   "cell_type": "code",
   "execution_count": 2,
   "id": "2c324a37",
   "metadata": {},
   "outputs": [],
   "source": [
    "from sympy.vector import CoordSys3D\n",
    "from sympy.vector import gradient, curl, divergence, laplacian\n",
    "from sympy import symbols"
   ]
  },
  {
   "cell_type": "markdown",
   "id": "302503c6",
   "metadata": {},
   "source": [
    "# Tarea 5c"
   ]
  },
  {
   "cell_type": "markdown",
   "id": "3cac3985",
   "metadata": {},
   "source": [
    "https://docs.sympy.org/latest/modules/vector/api/vectorfunctions.html"
   ]
  },
  {
   "cell_type": "code",
   "execution_count": 3,
   "id": "41762d6d",
   "metadata": {},
   "outputs": [],
   "source": [
    "R3 = CoordSys3D('R3')"
   ]
  },
  {
   "cell_type": "code",
   "execution_count": 4,
   "id": "2730b589",
   "metadata": {},
   "outputs": [],
   "source": [
    "x,y,z,i,j,k=symbols('x y z i j k')"
   ]
  },
  {
   "cell_type": "code",
   "execution_count": 5,
   "id": "329da907",
   "metadata": {},
   "outputs": [],
   "source": [
    "x=R3.x\n",
    "y=R3.y\n",
    "z=R3.z\n",
    "\n",
    "i=R3.i\n",
    "j=R3.j\n",
    "k=R3.k"
   ]
  },
  {
   "cell_type": "markdown",
   "id": "c8f7d12e",
   "metadata": {},
   "source": [
    "## 1. Gradiente"
   ]
  },
  {
   "cell_type": "code",
   "execution_count": 6,
   "id": "24d9542e",
   "metadata": {},
   "outputs": [
    {
     "data": {
      "image/png": "[encoded data removed]",
      "text/latex": [
       "$\\displaystyle \\mathbf{{x}_{R3}} \\mathbf{{y}_{R3}}^{2} \\mathbf{{z}_{R3}}^{2}$"
      ],
      "text/plain": [
       "         2     2\n",
       "x_R3⋅y_R3 ⋅z_R3 "
      ]
     },
     "execution_count": 6,
     "metadata": {},
     "output_type": "execute_result"
    }
   ],
   "source": [
    "phi=x*(y**2)*(z**2)\n",
    "phi"
   ]
  },
  {
   "cell_type": "code",
   "execution_count": 7,
   "id": "8131f787",
   "metadata": {},
   "outputs": [
    {
     "data": {
      "image/png": "[encoded data removed]",
      "text/latex": [
       "$\\displaystyle (\\mathbf{{y}_{R3}}^{2} \\mathbf{{z}_{R3}}^{2})\\mathbf{\\hat{i}_{R3}} + (2 \\mathbf{{x}_{R3}} \\mathbf{{y}_{R3}} \\mathbf{{z}_{R3}}^{2})\\mathbf{\\hat{j}_{R3}} + (2 \\mathbf{{x}_{R3}} \\mathbf{{y}_{R3}}^{2} \\mathbf{{z}_{R3}})\\mathbf{\\hat{k}_{R3}}$"
      ],
      "text/plain": [
       "⎛    2     2⎞         ⎛                2⎞         ⎛           2     ⎞      \n",
       "⎝y_R3 ⋅z_R3 ⎠ i_R3  + ⎝2⋅x_R3⋅y_R3⋅z_R3 ⎠ j_R3  + ⎝2⋅x_R3⋅y_R3 ⋅z_R3⎠ k_R3 "
      ]
     },
     "execution_count": 7,
     "metadata": {},
     "output_type": "execute_result"
    }
   ],
   "source": [
    "grd=gradient(phi)\n",
    "grd"
   ]
  },
  {
   "cell_type": "markdown",
   "id": "9df79ef0",
   "metadata": {},
   "source": [
    "## 2. Divergencia"
   ]
  },
  {
   "cell_type": "code",
   "execution_count": 8,
   "id": "21af4874",
   "metadata": {},
   "outputs": [
    {
     "data": {
      "image/png": "[encoded data removed]",
      "text/latex": [
       "$\\displaystyle (\\mathbf{{x}_{R3}}^{2} \\mathbf{{y}_{R3}}^{2})\\mathbf{\\hat{i}_{R3}} + (\\mathbf{{y}_{R3}}^{2} \\mathbf{{z}_{R3}}^{2})\\mathbf{\\hat{j}_{R3}} + (\\mathbf{{x}_{R3}}^{2} \\mathbf{{z}_{R3}}^{2})\\mathbf{\\hat{k}_{R3}}$"
      ],
      "text/plain": [
       "⎛    2     2⎞         ⎛    2     2⎞         ⎛    2     2⎞      \n",
       "⎝x_R3 ⋅y_R3 ⎠ i_R3  + ⎝y_R3 ⋅z_R3 ⎠ j_R3  + ⎝x_R3 ⋅z_R3 ⎠ k_R3 "
      ]
     },
     "execution_count": 8,
     "metadata": {},
     "output_type": "execute_result"
    }
   ],
   "source": [
    "a=(x**2*y**2)*i+(y**2*z**2)*j+(x**2*z**2)*k\n",
    "a"
   ]
  },
  {
   "cell_type": "code",
   "execution_count": 9,
   "id": "46bff5b2",
   "metadata": {},
   "outputs": [
    {
     "data": {
      "image/png": "[encoded data removed]",
      "text/latex": [
       "$\\displaystyle 2 \\mathbf{{x}_{R3}}^{2} \\mathbf{{z}_{R3}} + 2 \\mathbf{{x}_{R3}} \\mathbf{{y}_{R3}}^{2} + 2 \\mathbf{{y}_{R3}} \\mathbf{{z}_{R3}}^{2}$"
      ],
      "text/plain": [
       "      2                   2              2\n",
       "2⋅x_R3 ⋅z_R3 + 2⋅x_R3⋅y_R3  + 2⋅y_R3⋅z_R3 "
      ]
     },
     "execution_count": 9,
     "metadata": {},
     "output_type": "execute_result"
    }
   ],
   "source": [
    "divg=divergence(a)\n",
    "divg"
   ]
  },
  {
   "cell_type": "markdown",
   "id": "9a459d00",
   "metadata": {},
   "source": [
    "## 3. Laplaciano"
   ]
  },
  {
   "cell_type": "code",
   "execution_count": 10,
   "id": "783c91aa",
   "metadata": {},
   "outputs": [
    {
     "data": {
      "image/png": "[encoded data removed]",
      "text/latex": [
       "$\\displaystyle 6 \\mathbf{{x}_{R3}} \\mathbf{{y}_{R3}}^{2} \\mathbf{{z}_{R3}} + 2 \\mathbf{{x}_{R3}} \\mathbf{{z}_{R3}}^{3}$"
      ],
      "text/plain": [
       "           2                   3\n",
       "6⋅x_R3⋅y_R3 ⋅z_R3 + 2⋅x_R3⋅z_R3 "
      ]
     },
     "execution_count": 10,
     "metadata": {},
     "output_type": "execute_result"
    }
   ],
   "source": [
    "phi2=x*(y**2)*(z**3)\n",
    "laplacian(phi2)"
   ]
  },
  {
   "cell_type": "markdown",
   "id": "518c16db",
   "metadata": {},
   "source": [
    "## 4. Checar identidades"
   ]
  },
  {
   "cell_type": "markdown",
   "id": "bc0d0140",
   "metadata": {},
   "source": [
    "https://docs.sympy.org/latest/modules/vector/fields.html"
   ]
  },
  {
   "cell_type": "code",
   "execution_count": 11,
   "id": "4696f2eb",
   "metadata": {},
   "outputs": [],
   "source": [
    "from sympy.vector import Del\n",
    "delop=Del()"
   ]
  },
  {
   "cell_type": "markdown",
   "id": "0ad5c0cb",
   "metadata": {},
   "source": [
    "### a) $\\nabla \\times (\\phi\\vec{a}) = \\nabla\\phi\\times\\vec{a}+\\phi\\nabla\\times\\vec{a}$"
   ]
  },
  {
   "cell_type": "markdown",
   "id": "0372a516",
   "metadata": {},
   "source": [
    "término izquierdo"
   ]
  },
  {
   "cell_type": "code",
   "execution_count": 12,
   "id": "45b66c18",
   "metadata": {},
   "outputs": [],
   "source": [
    "izq=delop^(phi*a)"
   ]
  },
  {
   "cell_type": "markdown",
   "id": "e80413f4",
   "metadata": {},
   "source": [
    "término derecho"
   ]
  },
  {
   "cell_type": "code",
   "execution_count": 13,
   "id": "bce3b431",
   "metadata": {},
   "outputs": [],
   "source": [
    "der=((grd).cross(a))+(phi*delop.cross(a))"
   ]
  },
  {
   "cell_type": "markdown",
   "id": "0cfc014e",
   "metadata": {},
   "source": [
    "Ahora restamos y debe dar cero"
   ]
  },
  {
   "cell_type": "code",
   "execution_count": 14,
   "id": "7e5b34e2",
   "metadata": {},
   "outputs": [
    {
     "data": {
      "image/png": "[encoded data removed]",
      "text/latex": [
       "$\\displaystyle \\mathbf{\\hat{0}}$"
      ],
      "text/plain": [
       "0"
      ]
     },
     "execution_count": 14,
     "metadata": {},
     "output_type": "execute_result"
    }
   ],
   "source": [
    "sy.simplify(izq-der)"
   ]
  },
  {
   "cell_type": "markdown",
   "id": "c5311164",
   "metadata": {},
   "source": [
    "### b) $\\nabla \\cdot (\\nabla\\phi \\times \\nabla\\psi) = 0$"
   ]
  },
  {
   "cell_type": "markdown",
   "id": "aa3089b5",
   "metadata": {},
   "source": [
    "Ya que no tenemos un $\\psi$ podemos suponer que $\\psi$ se refiere al segundo $\\phi$, al del problema 3. Sin embargo, el resultado no es igual a cero..."
   ]
  },
  {
   "cell_type": "code",
   "execution_count": 15,
   "id": "8096314e",
   "metadata": {},
   "outputs": [
    {
     "data": {
      "image/png": "[encoded data removed]",
      "text/latex": [
       "$\\displaystyle \\frac{\\partial}{\\partial \\mathbf{{y}_{R3}}} \\left(- \\mathbf{{x}_{R3}} \\mathbf{{y}_{R3}}^{4} \\mathbf{{z}_{R3}}^{4}\\right) + \\frac{\\partial}{\\partial \\mathbf{{x}_{R3}}} 2 \\mathbf{{x}_{R3}}^{2} \\mathbf{{y}_{R3}}^{3} \\mathbf{{z}_{R3}}^{4}$"
      ],
      "text/plain": [
       "  ∂  ⎛          4     4⎞     ∂  ⎛      2     3     4⎞\n",
       "─────⎝-x_R3⋅y_R3 ⋅z_R3 ⎠ + ─────⎝2⋅x_R3 ⋅y_R3 ⋅z_R3 ⎠\n",
       "∂y_R3                      ∂x_R3                     "
      ]
     },
     "execution_count": 15,
     "metadata": {},
     "output_type": "execute_result"
    }
   ],
   "source": [
    "delop.dot((gradient(phi))^(gradient(phi2)))"
   ]
  },
  {
   "cell_type": "markdown",
   "id": "ecb7ca3f",
   "metadata": {},
   "source": [
    "Si suponemos ahora que $\\psi$ y $\\phi$ tienen la misma forma, el resultado es trivial pues el producto vectorial entre ambos es cero"
   ]
  },
  {
   "cell_type": "code",
   "execution_count": 16,
   "id": "035b589e",
   "metadata": {},
   "outputs": [
    {
     "data": {
      "image/png": "[encoded data removed]",
      "text/latex": [
       "$\\displaystyle 0$"
      ],
      "text/plain": [
       "0"
      ]
     },
     "execution_count": 16,
     "metadata": {},
     "output_type": "execute_result"
    }
   ],
   "source": [
    "delop.dot((gradient(phi))^(gradient(phi)))"
   ]
  },
  {
   "cell_type": "markdown",
   "id": "55f4a90f",
   "metadata": {},
   "source": [
    "### c) $\\nabla\\cdot(\\nabla\\times\\vec{a})=0$"
   ]
  },
  {
   "cell_type": "code",
   "execution_count": 17,
   "id": "b96e083e",
   "metadata": {},
   "outputs": [
    {
     "data": {
      "image/png": "[encoded data removed]",
      "text/latex": [
       "$\\displaystyle 0$"
      ],
      "text/plain": [
       "0"
      ]
     },
     "execution_count": 17,
     "metadata": {},
     "output_type": "execute_result"
    }
   ],
   "source": [
    "sy.simplify(delop.dot(delop^a))"
   ]
  },
  {
   "cell_type": "markdown",
   "id": "1d9c1474",
   "metadata": {},
   "source": [
    "## 5. Calcular el volumen entre los vectores "
   ]
  },
  {
   "cell_type": "code",
   "execution_count": 18,
   "id": "72a922bb",
   "metadata": {},
   "outputs": [],
   "source": [
    "a=i+2*j+3*k\n",
    "b=4*i+5*j+6*k\n",
    "c=7*i+8*j+10*k"
   ]
  },
  {
   "cell_type": "code",
   "execution_count": 19,
   "id": "5b0535b8",
   "metadata": {},
   "outputs": [
    {
     "data": {
      "image/png": "[encoded data removed]",
      "text/latex": [
       "$\\displaystyle (84)\\mathbf{\\hat{i}_{R3}} + (9)\\mathbf{\\hat{j}_{R3}} + (-66)\\mathbf{\\hat{k}_{R3}}$"
      ],
      "text/plain": [
       "(84) i_R3 + (9) j_R3 + (-66) k_R3"
      ]
     },
     "execution_count": 19,
     "metadata": {},
     "output_type": "execute_result"
    }
   ],
   "source": [
    "a^b^c"
   ]
  },
  {
   "cell_type": "code",
   "execution_count": 20,
   "id": "62e2660b",
   "metadata": {},
   "outputs": [
    {
     "data": {
      "image/png": "[encoded data removed]",
      "text/latex": [
       "$\\displaystyle 3 \\sqrt{1277}$"
      ],
      "text/plain": [
       "3⋅√1277"
      ]
     },
     "execution_count": 20,
     "metadata": {},
     "output_type": "execute_result"
    }
   ],
   "source": [
    "(a^b^c).magnitude() #la magnitud del producto vectorial entre los 3 nos da el volumen"
   ]
  },
  {
   "cell_type": "markdown",
   "id": "d924ee9d",
   "metadata": {},
   "source": [
    "## 6. Serie de Fourier $f(x)=x^2$ para $0\\leq x\\leq2$"
   ]
  },
  {
   "cell_type": "markdown",
   "id": "70f9758d",
   "metadata": {},
   "source": [
    "https://docs.sympy.org/latest/modules/series/fourier.html"
   ]
  },
  {
   "cell_type": "code",
   "execution_count": 21,
   "id": "ba2f18e7",
   "metadata": {},
   "outputs": [],
   "source": [
    "from sympy import fourier_series, pi"
   ]
  },
  {
   "cell_type": "code",
   "execution_count": 22,
   "id": "abdfe726",
   "metadata": {},
   "outputs": [],
   "source": [
    "x2 = symbols('x') #usamos x2 pues x ya lo definimos como R3.x"
   ]
  },
  {
   "cell_type": "code",
   "execution_count": 23,
   "id": "7085eaf9",
   "metadata": {},
   "outputs": [
    {
     "data": {
      "image/png": "[encoded data removed]",
      "text/latex": [
       "$\\displaystyle x^{2}$"
      ],
      "text/plain": [
       " 2\n",
       "x "
      ]
     },
     "execution_count": 23,
     "metadata": {},
     "output_type": "execute_result"
    }
   ],
   "source": [
    "f1=x2**2\n",
    "f1"
   ]
  },
  {
   "cell_type": "code",
   "execution_count": 24,
   "id": "8c24241d",
   "metadata": {},
   "outputs": [
    {
     "data": {
      "image/png": "[encoded data removed]",
      "text/latex": [
       "$\\displaystyle - \\frac{4 \\sin{\\left(\\pi x \\right)}}{\\pi} - \\frac{2 \\sin{\\left(2 \\pi x \\right)}}{\\pi} - \\frac{4 \\sin{\\left(3 \\pi x \\right)}}{3 \\pi} - \\frac{\\sin{\\left(4 \\pi x \\right)}}{\\pi} - \\frac{4 \\sin{\\left(5 \\pi x \\right)}}{5 \\pi} - \\frac{2 \\sin{\\left(6 \\pi x \\right)}}{3 \\pi} - \\frac{4 \\sin{\\left(7 \\pi x \\right)}}{7 \\pi} - \\frac{\\sin{\\left(8 \\pi x \\right)}}{2 \\pi} - \\frac{4 \\sin{\\left(9 \\pi x \\right)}}{9 \\pi} + \\frac{4 \\cos{\\left(\\pi x \\right)}}{\\pi^{2}} + \\frac{\\cos{\\left(2 \\pi x \\right)}}{\\pi^{2}} + \\frac{4 \\cos{\\left(3 \\pi x \\right)}}{9 \\pi^{2}} + \\frac{\\cos{\\left(4 \\pi x \\right)}}{4 \\pi^{2}} + \\frac{4 \\cos{\\left(5 \\pi x \\right)}}{25 \\pi^{2}} + \\frac{\\cos{\\left(6 \\pi x \\right)}}{9 \\pi^{2}} + \\frac{4 \\cos{\\left(7 \\pi x \\right)}}{49 \\pi^{2}} + \\frac{\\cos{\\left(8 \\pi x \\right)}}{16 \\pi^{2}} + \\frac{4 \\cos{\\left(9 \\pi x \\right)}}{81 \\pi^{2}} + \\frac{4}{3}$"
      ],
      "text/plain": [
       "  4⋅sin(π⋅x)   2⋅sin(2⋅π⋅x)   4⋅sin(3⋅π⋅x)   sin(4⋅π⋅x)   4⋅sin(5⋅π⋅x)   2⋅sin(6⋅π⋅x)   4⋅sin(7⋅π⋅x)   sin(8⋅π⋅x)   4⋅\n",
       "- ────────── - ──────────── - ──────────── - ────────── - ──────────── - ──────────── - ──────────── - ────────── - ──\n",
       "      π             π             3⋅π            π            5⋅π            3⋅π            7⋅π           2⋅π         \n",
       "                                                                                                                      \n",
       "\n",
       "sin(9⋅π⋅x)   4⋅cos(π⋅x)   cos(2⋅π⋅x)   4⋅cos(3⋅π⋅x)   cos(4⋅π⋅x)   4⋅cos(5⋅π⋅x)   cos(6⋅π⋅x)   4⋅cos(7⋅π⋅x)   cos(8⋅π⋅\n",
       "────────── + ────────── + ────────── + ──────────── + ────────── + ──────────── + ────────── + ──────────── + ────────\n",
       "  9⋅π             2            2              2             2             2             2             2             2 \n",
       "                 π            π            9⋅π           4⋅π          25⋅π           9⋅π          49⋅π          16⋅π  \n",
       "\n",
       "x)   4⋅cos(9⋅π⋅x)   4\n",
       "── + ──────────── + ─\n",
       "            2       3\n",
       "        81⋅π         "
      ]
     },
     "execution_count": 24,
     "metadata": {},
     "output_type": "execute_result"
    }
   ],
   "source": [
    "fou=fourier_series(f1,(x2,0,2)).truncate(10)\n",
    "fou"
   ]
  },
  {
   "cell_type": "markdown",
   "id": "a7ec2f85",
   "metadata": {},
   "source": [
    "Truncando a los primeros 10 términos de la serie, notamos que se cumple que:\n",
    "\n",
    "$$x^2=\\frac{4}{3} + 16 \\sum_{r=1}^{\\infty} \\frac{(-1)^r}{\\pi^2 r^2}\\cos\\left(\\frac{\\pi rx}{2}\\right)$$"
   ]
  },
  {
   "cell_type": "markdown",
   "id": "9af5fa41",
   "metadata": {},
   "source": [
    "## 7. Transformada de Fourier de $f(t)$"
   ]
  },
  {
   "cell_type": "markdown",
   "id": "e68b00e0",
   "metadata": {},
   "source": [
    "https://docs.sympy.org/latest/modules/integrals/integrals.html#sympy.integrals.transforms.FourierTransform"
   ]
  },
  {
   "cell_type": "code",
   "execution_count": 25,
   "id": "b2acfcdf",
   "metadata": {},
   "outputs": [],
   "source": [
    "from sympy import fourier_transform"
   ]
  },
  {
   "cell_type": "code",
   "execution_count": 26,
   "id": "93dd80aa",
   "metadata": {},
   "outputs": [],
   "source": [
    "t,tau=symbols('t \\\\tau')\n",
    "f2=(1/(tau*sy.sqrt(2*pi)))*sy.exp((-t**2)/(2*tau**2))"
   ]
  },
  {
   "cell_type": "code",
   "execution_count": 27,
   "id": "0dac7978",
   "metadata": {},
   "outputs": [
    {
     "data": {
      "image/png": "[encoded data removed]",
      "text/latex": [
       "$\\displaystyle \\frac{\\sqrt{2} \\mathcal{F}_{t}\\left[e^{- \\frac{t^{2}}{2 \\tau^{2}}}\\right]\\left(\\tau\\right)}{2 \\sqrt{\\pi} \\tau}$"
      ],
      "text/plain": [
       "                   ⎛     2           ⎞\n",
       "                   ⎜   -t            ⎟\n",
       "                   ⎜ ───────         ⎟\n",
       "                   ⎜       2         ⎟\n",
       "                   ⎜ 2⋅\\tau          ⎟\n",
       "√2⋅FourierTransform⎝ℯ       , t, \\tau⎠\n",
       "──────────────────────────────────────\n",
       "              2⋅√π⋅\\tau               "
      ]
     },
     "execution_count": 27,
     "metadata": {},
     "output_type": "execute_result"
    }
   ],
   "source": [
    "fourier_transform(f2,t,tau)"
   ]
  },
  {
   "cell_type": "markdown",
   "id": "5565bb92",
   "metadata": {},
   "source": [
    "## 8. Transformada de Laplace de $f(t)$"
   ]
  },
  {
   "cell_type": "markdown",
   "id": "2c288e5d",
   "metadata": {},
   "source": [
    "https://docs.sympy.org/latest/modules/integrals/integrals.html#sympy.integrals.transforms.laplace_transform"
   ]
  },
  {
   "cell_type": "code",
   "execution_count": 28,
   "id": "1e86fc2d",
   "metadata": {},
   "outputs": [],
   "source": [
    "from sympy import laplace_transform"
   ]
  },
  {
   "cell_type": "markdown",
   "id": "a36ea4d2",
   "metadata": {},
   "source": [
    "Si $a>0$:"
   ]
  },
  {
   "cell_type": "code",
   "execution_count": 29,
   "id": "fd039b2b",
   "metadata": {},
   "outputs": [],
   "source": [
    "a1=symbols('a', positive=True)\n",
    "s = symbols('s')\n",
    "f3=sy.exp(a1*t)"
   ]
  },
  {
   "cell_type": "code",
   "execution_count": 30,
   "id": "70b8969e",
   "metadata": {},
   "outputs": [
    {
     "data": {
      "image/png": "[encoded data removed]",
      "text/latex": [
       "$\\displaystyle \\left( \\frac{1}{- a + s}, \\  a, \\  \\frac{s}{a} \\neq 1\\right)$"
      ],
      "text/plain": [
       "⎛  1        s    ⎞\n",
       "⎜──────, a, ─ ≠ 1⎟\n",
       "⎝-a + s     a    ⎠"
      ]
     },
     "execution_count": 30,
     "metadata": {},
     "output_type": "execute_result"
    }
   ],
   "source": [
    "laplace_transform(f3,t,s)"
   ]
  },
  {
   "cell_type": "markdown",
   "id": "e023da8b",
   "metadata": {},
   "source": [
    "Demás casos:"
   ]
  },
  {
   "cell_type": "code",
   "execution_count": 31,
   "id": "a36e77df",
   "metadata": {},
   "outputs": [],
   "source": [
    "a2=symbols('a')\n",
    "f4=sy.exp(a2*t)"
   ]
  },
  {
   "cell_type": "code",
   "execution_count": 32,
   "id": "2975a86a",
   "metadata": {},
   "outputs": [
    {
     "data": {
      "image/png": "[encoded data removed]",
      "text/latex": [
       "$\\displaystyle \\left( \\frac{1}{- a + s}, \\  0, \\  \\left|{\\arg{\\left(a \\right)} + \\pi}\\right| \\leq \\frac{\\pi}{2}\\right)$"
      ],
      "text/plain": [
       "⎛  1                       π⎞\n",
       "⎜──────, 0, │arg(a) + π│ ≤ ─⎟\n",
       "⎝-a + s                    2⎠"
      ]
     },
     "execution_count": 32,
     "metadata": {},
     "output_type": "execute_result"
    }
   ],
   "source": [
    "L=laplace_transform(f4,t,s)\n",
    "L"
   ]
  },
  {
   "cell_type": "markdown",
   "id": "7a6d82d5",
   "metadata": {},
   "source": [
    "Donde el término [0] es la transformada de laplace de $f$"
   ]
  },
  {
   "cell_type": "code",
   "execution_count": 33,
   "id": "0a75265d",
   "metadata": {},
   "outputs": [
    {
     "data": {
      "image/png": "[encoded data removed]",
      "text/latex": [
       "$\\displaystyle \\frac{1}{- a + s}$"
      ],
      "text/plain": [
       "  1   \n",
       "──────\n",
       "-a + s"
      ]
     },
     "execution_count": 33,
     "metadata": {},
     "output_type": "execute_result"
    }
   ],
   "source": [
    "L[0]"
   ]
  },
  {
   "cell_type": "markdown",
   "id": "8e62f3d1",
   "metadata": {},
   "source": [
    "## 9. Integral de línea"
   ]
  },
  {
   "cell_type": "markdown",
   "id": "3f95bb08",
   "metadata": {},
   "source": [
    "https://docs.sympy.org/latest/modules/integrals/integrals.html\n",
    "\n",
    "https://github.com/sympy/sympy/issues/19320"
   ]
  },
  {
   "cell_type": "code",
   "execution_count": 34,
   "id": "a45adbcd",
   "metadata": {},
   "outputs": [],
   "source": [
    "from sympy import line_integrate, Curve"
   ]
  },
  {
   "cell_type": "code",
   "execution_count": 35,
   "id": "51c52c3f",
   "metadata": {},
   "outputs": [],
   "source": [
    "from sympy.abc import u"
   ]
  },
  {
   "cell_type": "markdown",
   "id": "9953fb08",
   "metadata": {},
   "source": [
    "Notemos que la curva $C=(2u^2+u+1,u^2+1)$ toma los valores $(1,1)$ y $(4,2)$ en $u=0$ y $u=1$, respectivmamente. Así que así definiremos el intervalo, sobre $u$."
   ]
  },
  {
   "cell_type": "code",
   "execution_count": 36,
   "id": "312ae65b",
   "metadata": {},
   "outputs": [
    {
     "data": {
      "image/png": "[encoded data removed]",
      "text/latex": [
       "$\\displaystyle Curve\\left(\\left( 2 u^{2} + u + 1, \\  u^{2} + 1\\right), \\left( u, \\  0, \\  1\\right)\\right)$"
      ],
      "text/plain": [
       "Curve((2*u**2 + u + 1, u**2 + 1), (u, 0, 1))"
      ]
     },
     "execution_count": 36,
     "metadata": {},
     "output_type": "execute_result"
    }
   ],
   "source": [
    "C = Curve([2*u**2+u+1,1+u**2],(u,0,1))\n",
    "C"
   ]
  },
  {
   "cell_type": "code",
   "execution_count": 39,
   "id": "70ba5f3e",
   "metadata": {},
   "outputs": [
    {
     "data": {
      "image/png": "[encoded data removed]",
      "text/latex": [
       "$\\displaystyle (\\mathbf{{x}_{R3}} + \\mathbf{{y}_{R3}})\\mathbf{\\hat{i}_{R3}} + (- \\mathbf{{x}_{R3}} + \\mathbf{{y}_{R3}})\\mathbf{\\hat{j}_{R3}}$"
      ],
      "text/plain": [
       "(x_R3 + y_R3) i_R3 + (-x_R3 + y_R3) j_R3"
      ]
     },
     "execution_count": 39,
     "metadata": {},
     "output_type": "execute_result"
    }
   ],
   "source": [
    "vectorfield=((x+y)*i)+((y-x)*j) #recordemos que x, y, i y j están definidos en la celda 5\n",
    "vectorfield"
   ]
  },
  {
   "cell_type": "code",
   "execution_count": 40,
   "id": "413abb9f",
   "metadata": {},
   "outputs": [
    {
     "data": {
      "image/png": "[encoded data removed]",
      "text/latex": [
       "$\\displaystyle (\\int\\limits_{0}^{1} \\left(3 u^{2} + u + 2\\right) \\sqrt{20 u^{2} + 8 u + 1}\\, du)\\mathbf{\\hat{i}_{R3}} + (- \\int\\limits_{0}^{1} u \\sqrt{20 u^{2} + 8 u + 1}\\, du - \\int\\limits_{0}^{1} u^{2} \\sqrt{20 u^{2} + 8 u + 1}\\, du)\\mathbf{\\hat{j}_{R3}}$"
      ],
      "text/plain": [
       "⎛1                                       ⎞        ⎛  1                             1                           ⎞     \n",
       "⎜⌠                                       ⎟ i_R3 + ⎜  ⌠                             ⌠                           ⎟ j_R3\n",
       "⎜⎮                   _________________   ⎟        ⎜  ⎮      _________________      ⎮       _________________   ⎟     \n",
       "⎜⎮ ⎛   2        ⎞   ╱     2              ⎟        ⎜  ⎮     ╱     2                 ⎮  2   ╱     2              ⎟     \n",
       "⎜⎮ ⎝3⋅u  + u + 2⎠⋅╲╱  20⋅u  + 8⋅u + 1  du⎟        ⎜- ⎮ u⋅╲╱  20⋅u  + 8⋅u + 1  du - ⎮ u ⋅╲╱  20⋅u  + 8⋅u + 1  du⎟     \n",
       "⎜⌡                                       ⎟        ⎜  ⌡                             ⌡                           ⎟     \n",
       "⎝0                                       ⎠        ⎝  0                             0                           ⎠     "
      ]
     },
     "execution_count": 40,
     "metadata": {},
     "output_type": "execute_result"
    }
   ],
   "source": [
    "line_integrate(vectorfield,C,[x,y]).doit()"
   ]
  },
  {
   "cell_type": "markdown",
   "id": "388a9ea3",
   "metadata": {},
   "source": [
    "Traté de que integrara de varias maneras y nunca quiso, algún hint? incluso siguiendo sugerencias de notación usada por los desarrolladores en el segundo enlace de este ejercicio (arriba)."
   ]
  }
 ],
 "metadata": {
  "kernelspec": {
   "display_name": "Python 3 (ipykernel)",
   "language": "python",
   "name": "python3"
  },
  "language_info": {
   "codemirror_mode": {
    "name": "ipython",
    "version": 3
   },
   "file_extension": ".py",
   "mimetype": "text/x-python",
   "name": "python",
   "nbconvert_exporter": "python",
   "pygments_lexer": "ipython3",
   "version": "3.9.7"
  }
 },
 "nbformat": 4,
 "nbformat_minor": 5
}
