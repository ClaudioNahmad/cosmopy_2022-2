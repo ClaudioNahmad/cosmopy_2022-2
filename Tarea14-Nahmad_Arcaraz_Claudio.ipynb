{
 "cells": [
  {
   "cell_type": "markdown",
   "id": "4d19f090",
   "metadata": {},
   "source": [
    "# Tarea 14. Derivación de ecuación de Klein Gordon"
   ]
  },
  {
   "cell_type": "markdown",
   "id": "cd7e02b2",
   "metadata": {},
   "source": [
    "Tenemos las componentes del tensor de energía-momento del campo escalar: \n",
    "\n",
    "$$T_{00} = \\rho_{\\phi} = \\frac12 \\dot{\\phi}^2 + V(\\phi) +\\frac12\\nabla\\phi^2,$$\n",
    "\n",
    "y\n",
    "\n",
    "$$T_{ii} = p_{\\phi} = \\frac12 \\dot{\\phi}^2 - V(\\phi) -\\frac16\\nabla\\phi^2.$$\n",
    "\n",
    "En el caso de un campo $\\phi$ homogéneo, $\\nabla\\phi=0$.\n",
    "\n",
    "Para conocer la evolución de este, necesitamos sustituir en la ecuación de continuidad,\n",
    "\n",
    "$$\\dot{\\rho}+3H(\\rho+p)=0$$."
   ]
  },
  {
   "cell_type": "markdown",
   "id": "1ed80139",
   "metadata": {},
   "source": [
    "entonces tenemos las siguientes tres componentes,\n",
    "\n",
    "$$\\dot{\\rho}=\\frac{\\partial}{\\partial t}\\left[\\frac12 \\dot{\\phi}^2 + V(\\phi)\\right]=\\ddot{\\phi},$$\n",
    "\n",
    "$$\\rho+p = \\dot{\\phi}^2,$$\n",
    "\n",
    "$$H^2=\\frac{8\\pi}{m_{\\text{pl}}^2}\\left[\\frac12 \\dot{\\phi}^2 + V(\\phi)\\right].$$"
   ]
  },
  {
   "cell_type": "markdown",
   "id": "fe459b56",
   "metadata": {},
   "source": [
    "Derivando con respecto al tiempo la ecuación de Friedmann llegamos a\n",
    "\n",
    "$$\\frac{\\partial}{\\partial t} H^2 = 2H\\dot{H} = \\frac{8\\pi}{m_{\\text{pl}}^2}\\left[\\ddot{\\phi}+\\frac{\\partial}{\\partial t}V(\\phi)\\right] = \\frac{8\\pi}{m_{\\text{pl}}^2}\\left[\\ddot{\\phi} \\dot{\\phi}+V^{\\prime}\\dot{\\phi} \\right],$$\n",
    "\n",
    "con $V^{\\prime}\\equiv dV/d\\phi$. Luego, sustituimos $\\rho_{\\phi} y p_{\\phi}$ en la segunda ec. de Friedmann $\\left(\\dot{H}=-(\\rho+p)/2m_{\\text{pl}}^2\\right)$ y obtenemos:\n",
    "\n",
    "$$\\dot{H}=-\\frac12\\frac{\\dot{\\phi}^2}{m_{\\text{pl}}^2}$$"
   ]
  },
  {
   "cell_type": "markdown",
   "id": "d8f17a8d",
   "metadata": {},
   "source": [
    "Combinando las últimas dos ecuaciones llegamos a:\n",
    "\n",
    "$$\\ddot{\\phi}+3H\\dot{\\phi}+V^{\\prime}=0.$$\n",
    "\n",
    "Que es la ecuación de Klein-Gordon."
   ]
  }
 ],
 "metadata": {
  "kernelspec": {
   "display_name": "Python 3 (ipykernel)",
   "language": "python",
   "name": "python3"
  },
  "language_info": {
   "codemirror_mode": {
    "name": "ipython",
    "version": 3
   },
   "file_extension": ".py",
   "mimetype": "text/x-python",
   "name": "python",
   "nbconvert_exporter": "python",
   "pygments_lexer": "ipython3",
   "version": "3.9.7"
  }
 },
 "nbformat": 4,
 "nbformat_minor": 5
}
