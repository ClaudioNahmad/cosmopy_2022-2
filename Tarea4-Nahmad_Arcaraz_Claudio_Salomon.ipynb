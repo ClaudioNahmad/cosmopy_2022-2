{
 "cells": [
  {
   "cell_type": "code",
   "execution_count": 1,
   "id": "4e10df63",
   "metadata": {},
   "outputs": [],
   "source": [
    "import scipy as sp\n",
    "#from scipy import integrate\n",
    "import numpy as np\n",
    "from sympy import *\n",
    "init_printing(use_unicode=True)"
   ]
  },
  {
   "cell_type": "code",
   "execution_count": 28,
   "id": "4192abb6",
   "metadata": {},
   "outputs": [],
   "source": [
    "#tex PREAMBLE\n",
    "\n",
    "import matplotlib.pyplot as plt\n",
    "from matplotlib import rc\n",
    "#******************************************************\n",
    "\n",
    "rc('font',**{'family':'serif','serif':['Times']})\n",
    "## for Palatino and other serif fonts use:\n",
    "#rc('font',**{'family':'serif','serif':['Palatino']})\n",
    "rc('text', usetex=True)\n",
    "\n",
    "#LaTeX\n",
    "plt.rc('text', usetex=True)\n",
    "plt.rc('font', family='serif')\n",
    "\n",
    "#*******************************************************"
   ]
  },
  {
   "cell_type": "markdown",
   "id": "a06fd109",
   "metadata": {},
   "source": [
    "# 1. Volume of 3D sphere"
   ]
  },
  {
   "cell_type": "code",
   "execution_count": 31,
   "id": "dacfbc3c",
   "metadata": {},
   "outputs": [],
   "source": [
    "a, r, theta, phi, R = symbols('a r \\\\theta \\\\phi R', positive=True)\n",
    "#si no le decimos que A, r y R son positivos, se va a congelar"
   ]
  },
  {
   "cell_type": "code",
   "execution_count": 34,
   "id": "b7e81fff",
   "metadata": {},
   "outputs": [
    {
     "data": {
      "image/png": "[encoded data removed]",
      "text/latex": [
       "$\\displaystyle \\frac{a r^{2} \\sin{\\left(\\theta \\right)}}{\\sqrt{a^{2} - r^{2}}}$"
      ],
      "text/plain": [
       "   2            \n",
       "a⋅r ⋅sin(\\theta)\n",
       "────────────────\n",
       "     _________  \n",
       "    ╱  2    2   \n",
       "  ╲╱  a  - r    "
      ]
     },
     "execution_count": 34,
     "metadata": {},
     "output_type": "execute_result"
    }
   ],
   "source": [
    "exp=((a*(r**2)*sin(theta))/(sqrt(a**2-r**2)))\n",
    "exp"
   ]
  },
  {
   "cell_type": "code",
   "execution_count": 35,
   "id": "d97a9873",
   "metadata": {},
   "outputs": [],
   "source": [
    "expr=integrate(((a*(r**2)*sin(theta))/(sqrt(a**2-r**2))), (r, 0, R), (theta,0,pi), (phi,0,(2*pi)))"
   ]
  },
  {
   "cell_type": "code",
   "execution_count": 36,
   "id": "091845aa",
   "metadata": {},
   "outputs": [
    {
     "data": {
      "image/png": "[encoded data removed]",
      "text/latex": [
       "$\\displaystyle 4 \\pi a \\left(- \\frac{R \\sqrt{- R^{2} + a^{2}}}{2} + \\frac{a^{2} \\operatorname{asin}{\\left(\\frac{R}{a} \\right)}}{2}\\right)$"
      ],
      "text/plain": [
       "      ⎛       ___________    2     ⎛R⎞⎞\n",
       "      ⎜      ╱    2    2    a ⋅asin⎜─⎟⎟\n",
       "      ⎜  R⋅╲╱  - R  + a            ⎝a⎠⎟\n",
       "4⋅π⋅a⋅⎜- ──────────────── + ──────────⎟\n",
       "      ⎝         2               2     ⎠"
      ]
     },
     "execution_count": 36,
     "metadata": {},
     "output_type": "execute_result"
    }
   ],
   "source": [
    "expr"
   ]
  },
  {
   "cell_type": "markdown",
   "id": "ae59485d",
   "metadata": {},
   "source": [
    "## Resultado"
   ]
  },
  {
   "cell_type": "code",
   "execution_count": 37,
   "id": "d7edfb2b",
   "metadata": {},
   "outputs": [
    {
     "data": {
      "image/png": "[encoded data removed]",
      "text/latex": [
       "$\\displaystyle \\pi^{2} a^{3}$"
      ],
      "text/plain": [
       " 2  3\n",
       "π ⋅a "
      ]
     },
     "execution_count": 37,
     "metadata": {},
     "output_type": "execute_result"
    }
   ],
   "source": [
    "expr.subs(R,a)"
   ]
  },
  {
   "cell_type": "markdown",
   "id": "8d10583a",
   "metadata": {},
   "source": [
    "# 2. Line element of 3D sphere"
   ]
  },
  {
   "cell_type": "markdown",
   "id": "8f69f80f",
   "metadata": {},
   "source": [
    "#### Una 3-esfera enclavada en un espacio euclideo 4-dimensional está descrita por la ecuación:\n",
    "\n",
    "$x^2+y^2+z^2+w^2=a^2$ donde $a$ es el \"radio\" de la esfera.\n",
    "\n",
    "Notemos la necesidad de usar cuatro coordenadas espaciales $x^k=\\{x,y,z,w\\}$"
   ]
  },
  {
   "cell_type": "markdown",
   "id": "e1f65f52",
   "metadata": {},
   "source": [
    "#### El desplazamiento infinitesimal $d\\ell^2$ sobre esta geometría es:\n",
    "\n",
    "\\begin{equation}\n",
    "d\\ell^2(S^3)=d\\vec{x}^2+dw^2\n",
    "\\end{equation}"
   ]
  },
  {
   "cell_type": "markdown",
   "id": "c4539da6",
   "metadata": {},
   "source": [
    "#### Si reescalamos $x^k \\rightarrow ax^k$, nos queda:\n",
    "\n",
    "\\begin{equation}\n",
    "d\\ell^2(S^3)=a^2[d\\vec{x}^2+dw^2]\n",
    "\\end{equation}\n",
    "\n",
    "las coordenadas $x^k$ \"ceden\" su dimensión de longitud al elemento $a$"
   ]
  },
  {
   "cell_type": "markdown",
   "id": "84f6f2c7",
   "metadata": {},
   "source": [
    "#### Sin embargo, ahora que transferimos la dimensión de longitud al elemento $a$, las unicas coordenadas que mantienen sentido fisico son las coordenadas de la 3-variedad $\\vec{x}=x^i$. \n",
    "\n",
    "Mientras que la entrada $x^4=w$ de las coordenadas ha perdido su sentido físico. Podemos expresar la ecuación anterior únicamente en términos de $\\vec{x}$. Usemos la derivada\n",
    "\n",
    "\\begin{equation*}\n",
    "\\begin{split}\n",
    " d (\\vec{x}^2 \\pm w^2 = 1) \\quad \\rightarrow \\quad d(\\vec{x}^2) &\\pm d(w^2) = 0 \\\\\n",
    "                               2 \\vec{x} \\cdot d\\vec{x} &\\pm 2 w \\cdot dw = 0 \\\\\n",
    "                                         %   \\vec{x} \\cdot d\\vec{x} \\pm w \\cdot dx &= 0 \\\\\n",
    "                                           w \\cdot dw &= \\mp \\vec{x} \\cdot d \\vec{x} \\\\\n",
    "                             \\rightarrow   \\quad dw^2 &= \\frac{ (\\vec{x} \\cdot d \\vec{x})^2}{w^2} \\\\\n",
    "                             \\therefore    \\quad dw^2 &= \\frac{ (\\vec{x} \\cdot d \\vec{x})^2}{1 \\mp \\vec{x}^2} \n",
    "\\end{split}\n",
    "\\end{equation*}\n",
    "\n",
    "Tal que el elemento de línea nos queda:\n",
    "\n",
    "\\begin{equation}\n",
    " d\\ell^2 = a^2 \\left[d\\vec{x}^2 + \\frac{ (\\vec{x} \\cdot d \\vec{x})^2}{1 - \\vec{x}^2}  \\right]\n",
    "\\end{equation}"
   ]
  },
  {
   "cell_type": "markdown",
   "id": "c0547677",
   "metadata": {},
   "source": [
    "#### Transformando a un sistema coordenado esférico $(r,\\theta,\\phi)$:\n",
    "\n",
    "\\begin{equation*}\n",
    "\\begin{split}\n",
    " &d\\vec{x}^2=dr^2+r^2\\left(d\\theta^2+\\sin^2\\theta d\\phi^2\\right)\\\\\n",
    " &\\vec{x} \\cdot d\\vec{x} = r dr \\\\\n",
    " &d\\Omega^2\\equiv d\\theta^2 + \\sin^2\\theta d\\phi^2 \n",
    "\\end{split}\n",
    "\\end{equation*}\n",
    "\n",
    "Y el elemento de línea queda de la forma:\n",
    "\n",
    "\\begin{equation}\n",
    "d\\ell^2= a^2 \\left[\\frac{dr^2}{1 -kr^2} +r^2d\\Omega^2\\right]\n",
    "\\end{equation}\n"
   ]
  },
  {
   "cell_type": "markdown",
   "id": "f0cc2f3d",
   "metadata": {},
   "source": [
    "#### Es conveniente normalizar$^*$ la coordenada radial, \n",
    "\\begin{equation}\n",
    " d\\chi \\equiv \\frac{dr}{\\sqrt{1-kr^2}} \\quad \\Rightarrow \\quad \\chi = \\int_0^r \\frac{dr^{\\prime}}{\\sqrt{1-k{r^{\\prime}}^2}}\n",
    "\\label{eq:chi}\n",
    "\\end{equation}\n",
    "\n",
    "para que el elemento de línea esté expresado en lo que se conocen como coordenadas comoviles $\\chi$\n",
    "\n",
    "\\begin{equation}\n",
    "d\\ell^2 = a^2 \\left[d\\chi^2 + F_k^2(\\chi) d\\Omega^2 \\right]\n",
    "\\end{equation}\n"
   ]
  },
  {
   "cell_type": "markdown",
   "id": "c608ff7b",
   "metadata": {},
   "source": [
    "donde\n",
    "\\begin{equation}\n",
    "F_k(\\chi)\\equiv \\sin(\\chi)\n",
    "\\end{equation}\n",
    "\n",
    "$^*$Notemos que  $\\chi=r$ cuando $k=0$ y la métrica regresa a su forma estándar. En este caso k tiene un valor de +1 pues estamos en la hiperesfera S3"
   ]
  },
  {
   "cell_type": "markdown",
   "id": "98d20c15",
   "metadata": {},
   "source": [
    "### Por lo que el elemento de línea puede expresarse como:\n",
    "\n",
    "\\begin{equation*}\n",
    "\\begin{split}\n",
    " d\\ell^2 &= a^2 \\left[d\\chi^2 + sin^2(\\chi) d\\Omega^2 \\right]\\\\\n",
    "  &=a^2 \\left[d\\chi^2 + sin^2(\\chi)\\left(d\\theta^2+sin^2(\\theta) d\\phi^2 \\right) \\right]\n",
    " \\end{split}\n",
    "\\end{equation*}\n"
   ]
  },
  {
   "cell_type": "markdown",
   "id": "8f22083e",
   "metadata": {},
   "source": [
    "#### El área superficial de una n-esfera inmersa en un espacio n+1 dimensional está dado por:\n",
    "\n",
    "\\begin{equation}\n",
    "S_{n+1}=2\\pi V_n\n",
    "\\end{equation}\n",
    "\n",
    "Donde $V_n$ es el volumen de la n-bola\n",
    "\n",
    "Fuente: [https://en.wikipedia.org/wiki/N-sphere]"
   ]
  },
  {
   "cell_type": "code",
   "execution_count": 30,
   "id": "7e49a957",
   "metadata": {},
   "outputs": [],
   "source": [
    "a, chi, theta, phi, chi_0 = symbols('a \\\\chi \\\\theta \\\\phi \\\\chi_0', positive=True)"
   ]
  },
  {
   "cell_type": "code",
   "execution_count": 70,
   "id": "40dc33e6",
   "metadata": {},
   "outputs": [
    {
     "name": "stdout",
     "output_type": "stream",
     "text": [
      "el area superficial es:\n"
     ]
    },
    {
     "data": {
      "image/png": "[encoded data removed]",
      "text/latex": [
       "$\\displaystyle 2 \\pi^{2} a^{2} \\sin{\\left(\\chi_{0} \\right)}$"
      ],
      "text/plain": [
       "   2  2           \n",
       "2⋅π ⋅a ⋅sin(\\chi₀)"
      ]
     },
     "execution_count": 70,
     "metadata": {},
     "output_type": "execute_result"
    }
   ],
   "source": [
    "expr2=integrate((a**2*cos(chi)), (chi, 0, chi_0), (theta,0,pi), (phi,0,(2*pi)))\n",
    "expr22=expand_trig(expr2)\n",
    "print('el area superficial es:')\n",
    "expr22"
   ]
  },
  {
   "cell_type": "markdown",
   "id": "a7e5ebfa",
   "metadata": {},
   "source": [
    "Para calcular el volumen total del espacio en 3D basta con que integremos la expresión (fuente: [https://en.wikipedia.org/wiki/3-sphere])\n",
    "\n",
    "\\begin{equation}\n",
    "dV=a^3(sin^2(\\chi)sin(\\theta))\n",
    "\\end{equation}"
   ]
  },
  {
   "cell_type": "code",
   "execution_count": 57,
   "id": "21c44552",
   "metadata": {},
   "outputs": [
    {
     "data": {
      "image/png": "[encoded data removed]",
      "text/latex": [
       "$\\displaystyle 2 \\pi a^{3} \\left(\\chi_{0} - \\frac{\\sin{\\left(2 \\chi_{0} \\right)}}{2}\\right)$"
      ],
      "text/plain": [
       "     3 ⎛        sin(2⋅\\chi₀)⎞\n",
       "2⋅π⋅a ⋅⎜\\chi₀ - ────────────⎟\n",
       "       ⎝             2      ⎠"
      ]
     },
     "execution_count": 57,
     "metadata": {},
     "output_type": "execute_result"
    }
   ],
   "source": [
    "expr3=integrate((a**3*(sin(chi)**2)*sin(theta)), (chi, 0, chi_0), (theta,0,pi), (phi,0,(2*pi)))\n",
    "simplify(expr3)"
   ]
  },
  {
   "cell_type": "markdown",
   "id": "8cc2f230",
   "metadata": {},
   "source": [
    "# 3. Line element to Minkowski"
   ]
  },
  {
   "cell_type": "markdown",
   "id": "1733117f",
   "metadata": {},
   "source": [
    "Tenemos el elemento de línea\n",
    "\n",
    "\\begin{equation}\n",
    "    ds^2=(c^2-a^2t^2)dt^2-2at dt dx -dx^2 -dy^2 -dz^2\n",
    "\\end{equation}"
   ]
  },
  {
   "cell_type": "markdown",
   "id": "43b136ab",
   "metadata": {},
   "source": [
    "\\begin{gather}\n",
    " g_{\\mu \\nu} \n",
    " = \n",
    " \\begin{bmatrix} (c^2-a^2t^2)& -at & 0 & 0 \\\\\n",
    "                  -at &-1 & 0 & 0 \\\\\n",
    "                  0 & 0 & -1 & 0 \\\\\n",
    "                  0 & 0 & 0 &-1\n",
    " \\end{bmatrix} \n",
    "\\end{gather}"
   ]
  },
  {
   "cell_type": "markdown",
   "id": "7e4fd4fe",
   "metadata": {},
   "source": [
    "Notemos que haciendo la transformación $x^{\\prime}=at^2/4$, tendremos:\n",
    "\n",
    "\\begin{gather}\n",
    " g_{\\mu \\nu} \n",
    " = \\text{diag}(1, -1, -1, -1) \n",
    "\\end{gather}"
   ]
  },
  {
   "cell_type": "code",
   "execution_count": null,
   "id": "3979469b",
   "metadata": {},
   "outputs": [],
   "source": []
  }
 ],
 "metadata": {
  "kernelspec": {
   "display_name": "Python 3 (ipykernel)",
   "language": "python",
   "name": "python3"
  },
  "language_info": {
   "codemirror_mode": {
    "name": "ipython",
    "version": 3
   },
   "file_extension": ".py",
   "mimetype": "text/x-python",
   "name": "python",
   "nbconvert_exporter": "python",
   "pygments_lexer": "ipython3",
   "version": "3.9.7"
  }
 },
 "nbformat": 4,
 "nbformat_minor": 5
}
