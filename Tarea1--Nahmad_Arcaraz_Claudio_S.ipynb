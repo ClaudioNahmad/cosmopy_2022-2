{
 "cells": [
  {
   "cell_type": "code",
   "execution_count": 4,
   "id": "ba9ee943",
   "metadata": {},
   "outputs": [],
   "source": [
    "#PREAMBLE\n",
    "import numpy as np\n",
    "import pandas as pd\n",
    "import timeit"
   ]
  },
  {
   "cell_type": "markdown",
   "id": "22c38ea4",
   "metadata": {},
   "source": [
    "# Problema 1"
   ]
  },
  {
   "cell_type": "markdown",
   "id": "a5f72b1b",
   "metadata": {},
   "source": [
    "### Funciones"
   ]
  },
  {
   "cell_type": "code",
   "execution_count": 4,
   "id": "7727d4fa",
   "metadata": {},
   "outputs": [],
   "source": [
    "def square(n):\n",
    "    size=np.arange(n)\n",
    "    brick='*'\n",
    "    \n",
    "    for i in size:\n",
    "        print(brick*n)\n",
    "\n",
    "    \n",
    "def triangle(n):\n",
    "    size=np.arange(n)\n",
    "    brick='*'\n",
    "    \n",
    "    for i in (size):\n",
    "        print(brick*i)\n",
    "\n",
    "\n",
    "def invertedT(n):\n",
    "    size=np.arange(n)\n",
    "    brick='*'\n",
    "    \n",
    "    for i in reversed(size):\n",
    "        print(brick*i)"
   ]
  },
  {
   "cell_type": "markdown",
   "id": "7fc4d80e",
   "metadata": {},
   "source": [
    "### Soluciones"
   ]
  },
  {
   "cell_type": "code",
   "execution_count": 5,
   "id": "7e3b0026",
   "metadata": {},
   "outputs": [
    {
     "name": "stdout",
     "output_type": "stream",
     "text": [
      "**********\n",
      "**********\n",
      "**********\n",
      "**********\n",
      "**********\n",
      "**********\n",
      "**********\n",
      "**********\n",
      "**********\n",
      "**********\n",
      "--------------\n",
      "\n",
      "*\n",
      "**\n",
      "***\n",
      "****\n",
      "*****\n",
      "******\n",
      "*******\n",
      "********\n",
      "*********\n",
      "--------------\n",
      "*********\n",
      "********\n",
      "*******\n",
      "******\n",
      "*****\n",
      "****\n",
      "***\n",
      "**\n",
      "*\n",
      "\n"
     ]
    }
   ],
   "source": [
    "square(10)\n",
    "print(\"--------------\")\n",
    "triangle(10)\n",
    "print(\"--------------\")\n",
    "invertedT(10)"
   ]
  },
  {
   "cell_type": "markdown",
   "id": "dda2d75c",
   "metadata": {},
   "source": [
    "# Problema 2"
   ]
  },
  {
   "cell_type": "markdown",
   "id": "b10b5f63",
   "metadata": {},
   "source": [
    "### Funcion"
   ]
  },
  {
   "cell_type": "code",
   "execution_count": 10,
   "id": "baf3f1ed",
   "metadata": {},
   "outputs": [],
   "source": [
    "def primos(n):\n",
    "    a=2\n",
    "    multiploslista=[]\n",
    "    primoslista=[]\n",
    "    \n",
    "    while a<=n:\n",
    "        b=n%a\n",
    "        if b==0:\n",
    "            multiploslista.append(a)\n",
    "            a=a+1\n",
    "        else:\n",
    "            a=a+1\n",
    "            \n",
    "    for i in multiploslista:\n",
    "        if all(i%c != 0 for c in range(2, i)):\n",
    "            primoslista.append(i)\n",
    "            \n",
    "    print(\"la lista de primos es: {}\".format(primoslista))\n",
    "    print(\"...y el máximo primo de {} es {}\".format(n,max(primoslista)))"
   ]
  },
  {
   "cell_type": "markdown",
   "id": "1325db15",
   "metadata": {},
   "source": [
    "### Solucion"
   ]
  },
  {
   "cell_type": "code",
   "execution_count": 31,
   "id": "2e9a5166",
   "metadata": {},
   "outputs": [
    {
     "name": "stdout",
     "output_type": "stream",
     "text": [
      "la lista de primos es: [43, 1397329]\n",
      "...y el máximo primo de 60085147 es 1397329\n"
     ]
    }
   ],
   "source": [
    "primos(60085147)"
   ]
  },
  {
   "cell_type": "code",
   "execution_count": 32,
   "id": "b352330c",
   "metadata": {},
   "outputs": [
    {
     "name": "stdout",
     "output_type": "stream",
     "text": [
      "la lista de primos es: [3, 5, 7, 54499]\n",
      "...y el máximo primo de 600851475 es 54499\n"
     ]
    }
   ],
   "source": [
    "primos(600851475)"
   ]
  },
  {
   "cell_type": "code",
   "execution_count": 33,
   "id": "1c4ec52f",
   "metadata": {},
   "outputs": [
    {
     "name": "stdout",
     "output_type": "stream",
     "text": [
      "la lista de primos es: [1747, 3439333]\n",
      "...y el máximo primo de 6008514751 es 3439333\n"
     ]
    }
   ],
   "source": [
    "primos(6008514751)"
   ]
  },
  {
   "cell_type": "markdown",
   "id": "d274f5b5",
   "metadata": {},
   "source": [
    "No logré obtener el maximo primo del numero completo (600851475143), sólo el de todos los numeros de hasta dos ordenes de magnitud menores que éste, como lo muestran los resultados de arriba. Sé que es un mal código por el tiempo que tarda en resolver el problema pero no pude encontrar otra forma de hacerlo.\n",
    "\n",
    "Para el numero 6008514751, el codigo tardó alrededor de 20 minutos en encontrar la solución. Juzgando por el aumento en tiempo de cómputo respecto a los numeros anteriores, cada orden de magnitud que se agrega a la cifra representa un aumento de 10^1 o 10^2 segundos en el tiempo de cómputo con respecto al tiempo anterior. Esto significa que para calcular el resultado completo se necesitaría correr el código cerca de una hora. Inaceptable, lo sé."
   ]
  },
  {
   "cell_type": "markdown",
   "id": "9b17c8a2",
   "metadata": {},
   "source": [
    "# Problema 3"
   ]
  },
  {
   "cell_type": "markdown",
   "id": "d2e76f93",
   "metadata": {},
   "source": [
    "### Funcion"
   ]
  },
  {
   "cell_type": "code",
   "execution_count": 7,
   "id": "6c676dc9",
   "metadata": {},
   "outputs": [],
   "source": [
    "def palindromos(m1,m2):\n",
    "\n",
    "    \"\"\"\n",
    "    Esta funcion da el numero de palindromos (numeros que se leen igual de izq->der y visceversa)\n",
    "    en el intervalo definido por los números m1 y m2\n",
    "    \"\"\"\n",
    "\n",
    "    lista1=np.arange(m1,m2+1)\n",
    "    lista2=np.arange(m1,m2+1)\n",
    "    palindromos=[]\n",
    "\n",
    "    for j in lista1:\n",
    "        for k in lista2:\n",
    "        \n",
    "            trueness=[]\n",
    "            n=j*k                        #n es la multiplicacion de ambos numeros\n",
    "            strn=str(n)                  #strn es n convertido a string\n",
    "            length=len(strn)             #el tamaño de strn \n",
    "            #indexes=np.arange(length)    #cuantos digitos tiene, en forma de un array de indices (NO SE USA)\n",
    "        \n",
    "            i=0\n",
    "            while i<=(length/2)-1:\n",
    "                #este while divide al string por la mitad (eg si length es 4, queremos solo los indices 0 y 1 -para comparar\n",
    "                #con los indices 3 y 2, respectivamente)\n",
    "                trueness.append(strn[i]==strn[-(i+1)])\n",
    "                #el indice 0 se compara con el -1, el 1 con el -2 y asi sucesivamente, si sus valores son iguales tendremos\n",
    "                #un 'True', el valor booleano de la comparación se agrega a la lista 'trueness'\n",
    "                i=i+1\n",
    "        \n",
    "            if all(trueness): #all nos revisa si TODOS los valores del array son 'True'\n",
    "                palindromos.append(n)      #en caso de que sí, se agrega el numero al array 'palindromos'\n",
    "                \n",
    "    print(\"el numero de palindromos en el intervalo ({},{}) es {} y el más grande es {}\".format(m1,m2,len(palindromos)+1,max(palindromos)))"
   ]
  },
  {
   "cell_type": "code",
   "execution_count": 8,
   "id": "d25362f4",
   "metadata": {},
   "outputs": [
    {
     "name": "stdout",
     "output_type": "stream",
     "text": [
      "\n",
      "    Esta funcion da el numero de palindromos (numeros que se leen igual de izq->der y visceversa)\n",
      "    en el intervalo definido por los números m1 y m2\n",
      "    \n"
     ]
    }
   ],
   "source": [
    "print(palindromos.__doc__)"
   ]
  },
  {
   "cell_type": "markdown",
   "id": "5ca7ddf8",
   "metadata": {},
   "source": [
    "### Solucion"
   ]
  },
  {
   "cell_type": "code",
   "execution_count": 9,
   "id": "2bd76f29",
   "metadata": {},
   "outputs": [
    {
     "name": "stdout",
     "output_type": "stream",
     "text": [
      "el numero de palindromos en el intervalo (100,999) es 2471 y el más grande es 906609\n"
     ]
    }
   ],
   "source": [
    "palindromos(100,999)"
   ]
  },
  {
   "cell_type": "markdown",
   "id": "3d0b159f",
   "metadata": {},
   "source": [
    "# Problema 4"
   ]
  },
  {
   "cell_type": "markdown",
   "id": "32ac36a2",
   "metadata": {},
   "source": [
    "### Funcion"
   ]
  },
  {
   "cell_type": "code",
   "execution_count": 13,
   "id": "41ce4c17",
   "metadata": {},
   "outputs": [],
   "source": [
    "def divisible_por(m):\n",
    "    \"\"\"Esta funcion devuelve el numero positivo mas pequeño que es divisible por todos los numeros enteros \n",
    "    en el intervalo (1,m)\"\"\"\n",
    "    n=m+1\n",
    "    lista20=np.arange(1,n)\n",
    "    while all(n%i==0 for i in lista20)==False:\n",
    "        n=n+1\n",
    "    print(\"el numero divisible por los numeros del 1 al {} es {}\".format(m,n))"
   ]
  },
  {
   "cell_type": "markdown",
   "id": "bcbf7f62",
   "metadata": {},
   "source": [
    "### Solucion"
   ]
  },
  {
   "cell_type": "code",
   "execution_count": 14,
   "id": "845909bb",
   "metadata": {},
   "outputs": [
    {
     "name": "stdout",
     "output_type": "stream",
     "text": [
      "el numero divisible por los numeros del 1 al 20 es 232792560\n"
     ]
    }
   ],
   "source": [
    "divisible_por(20)"
   ]
  },
  {
   "cell_type": "code",
   "execution_count": 15,
   "id": "0f384923",
   "metadata": {},
   "outputs": [
    {
     "name": "stdout",
     "output_type": "stream",
     "text": [
      "el numero divisible por los numeros del 1 al 10 es 2520\n"
     ]
    }
   ],
   "source": [
    "divisible_por(10)"
   ]
  },
  {
   "cell_type": "markdown",
   "id": "b15e9d9e",
   "metadata": {},
   "source": [
    "# Problema 5 (3a Tarea 2, 8 Euler Project)"
   ]
  },
  {
   "cell_type": "markdown",
   "id": "0836ce62",
   "metadata": {},
   "source": [
    "### Funcion"
   ]
  },
  {
   "cell_type": "code",
   "execution_count": 21,
   "id": "4b444be9",
   "metadata": {},
   "outputs": [],
   "source": [
    "def adjacent(n):\n",
    "    \"Esta funcion encuentra el valor maximo del producto de 13 digitos adyacentes dentro del numero n\"\n",
    "    \n",
    "    strn=str(n)\n",
    "    prods=[]\n",
    "    lista=[int(i) for i in strn]\n",
    "    for i in np.arange(len(lista)-13):\n",
    "        producto=lista[i]*lista[i+1]*lista[i+2]*lista[i+3]*lista[i+4]*lista[i+5]*lista[i+6]*lista[i+7]*lista[i+8]*lista[i+9]*lista[i+10]*lista[i+11]*lista[i+12]\n",
    "        prods.append(producto)\n",
    "        #print(producto)\n",
    "\n",
    "    print(\"el valor maximo del producto de 13 digitos adyacentes dentro del numero dado es {}\".format(max(prods)))"
   ]
  },
  {
   "cell_type": "markdown",
   "id": "72e07833",
   "metadata": {},
   "source": [
    "### Solucion"
   ]
  },
  {
   "cell_type": "code",
   "execution_count": 22,
   "id": "4fe0fcce",
   "metadata": {},
   "outputs": [],
   "source": [
    "numero=7316717653133062491922511967442657474235534919493496983520312774506326239578318016984801869478851843858615607891129494954595017379583319528532088055111254069874715852386305071569329096329522744304355766896648950445244523161731856403098711121722383113622298934233803081353362766142828064444866452387493035890729629049156044077239071381051585930796086670172427121883998797908792274921901699720888093776657273330010533678812202354218097512545405947522435258490771167055601360483958644670632441572215539753697817977846174064955149290862569321978468622482839722413756570560574902614079729686524145351004748216637048440319989000889524345065854122758866688116427171479924442928230863465674813919123162824586178664583591245665294765456828489128831426076900422421902267105562632111110937054421750694165896040807198403850962455444362981230987879927244284909188845801561660979191338754992005240636899125607176060588611646710940507754100225698315520005593572972571636269561882670428252483600823257530420752963450"
   ]
  },
  {
   "cell_type": "code",
   "execution_count": 24,
   "id": "5ac4bf28",
   "metadata": {},
   "outputs": [
    {
     "name": "stdout",
     "output_type": "stream",
     "text": [
      "el valor maximo del producto de 13 digitos adyacentes dentro del numero dado es 23514624000\n"
     ]
    }
   ],
   "source": [
    "adjacent(numero)"
   ]
  },
  {
   "cell_type": "markdown",
   "id": "59ad9820",
   "metadata": {},
   "source": [
    "# Problema 6 (3b Tarea 2, 11 Euler Project)"
   ]
  },
  {
   "cell_type": "markdown",
   "id": "9d804e8d",
   "metadata": {},
   "source": [
    "### Funcion"
   ]
  },
  {
   "cell_type": "code",
   "execution_count": 2,
   "id": "db593610",
   "metadata": {},
   "outputs": [
    {
     "data": {
      "text/plain": [
       "array([ 8.,  2., 22., 97., 38., 15.,  0., 40.,  0., 75.,  4.,  5.,  7.,\n",
       "       78., 52., 12., 50., 77., 91.,  8.])"
      ]
     },
     "execution_count": 2,
     "metadata": {},
     "output_type": "execute_result"
    }
   ],
   "source": [
    "from numpy import genfromtxt\n",
    "data = genfromtxt('./data11.txt', delimiter=' ')\n",
    "data[0]"
   ]
  },
  {
   "cell_type": "code",
   "execution_count": 5,
   "id": "0d594ab2",
   "metadata": {},
   "outputs": [
    {
     "data": {
      "text/html": [
       "<div>\n",
       "<style scoped>\n",
       "    .dataframe tbody tr th:only-of-type {\n",
       "        vertical-align: middle;\n",
       "    }\n",
       "\n",
       "    .dataframe tbody tr th {\n",
       "        vertical-align: top;\n",
       "    }\n",
       "\n",
       "    .dataframe thead th {\n",
       "        text-align: right;\n",
       "    }\n",
       "</style>\n",
       "<table border=\"1\" class=\"dataframe\">\n",
       "  <thead>\n",
       "    <tr style=\"text-align: right;\">\n",
       "      <th></th>\n",
       "      <th>0</th>\n",
       "      <th>1</th>\n",
       "      <th>2</th>\n",
       "      <th>3</th>\n",
       "      <th>4</th>\n",
       "      <th>5</th>\n",
       "      <th>6</th>\n",
       "      <th>7</th>\n",
       "      <th>8</th>\n",
       "      <th>9</th>\n",
       "      <th>10</th>\n",
       "      <th>11</th>\n",
       "      <th>12</th>\n",
       "      <th>13</th>\n",
       "      <th>14</th>\n",
       "      <th>15</th>\n",
       "      <th>16</th>\n",
       "      <th>17</th>\n",
       "      <th>18</th>\n",
       "      <th>19</th>\n",
       "    </tr>\n",
       "  </thead>\n",
       "  <tbody>\n",
       "    <tr>\n",
       "      <th>0</th>\n",
       "      <td>8.0</td>\n",
       "      <td>2.0</td>\n",
       "      <td>22.0</td>\n",
       "      <td>97.0</td>\n",
       "      <td>38.0</td>\n",
       "      <td>15.0</td>\n",
       "      <td>0.0</td>\n",
       "      <td>40.0</td>\n",
       "      <td>0.0</td>\n",
       "      <td>75.0</td>\n",
       "      <td>4.0</td>\n",
       "      <td>5.0</td>\n",
       "      <td>7.0</td>\n",
       "      <td>78.0</td>\n",
       "      <td>52.0</td>\n",
       "      <td>12.0</td>\n",
       "      <td>50.0</td>\n",
       "      <td>77.0</td>\n",
       "      <td>91.0</td>\n",
       "      <td>8.0</td>\n",
       "    </tr>\n",
       "    <tr>\n",
       "      <th>1</th>\n",
       "      <td>49.0</td>\n",
       "      <td>49.0</td>\n",
       "      <td>99.0</td>\n",
       "      <td>40.0</td>\n",
       "      <td>17.0</td>\n",
       "      <td>81.0</td>\n",
       "      <td>18.0</td>\n",
       "      <td>57.0</td>\n",
       "      <td>60.0</td>\n",
       "      <td>87.0</td>\n",
       "      <td>17.0</td>\n",
       "      <td>40.0</td>\n",
       "      <td>98.0</td>\n",
       "      <td>43.0</td>\n",
       "      <td>69.0</td>\n",
       "      <td>48.0</td>\n",
       "      <td>4.0</td>\n",
       "      <td>56.0</td>\n",
       "      <td>62.0</td>\n",
       "      <td>0.0</td>\n",
       "    </tr>\n",
       "    <tr>\n",
       "      <th>2</th>\n",
       "      <td>81.0</td>\n",
       "      <td>49.0</td>\n",
       "      <td>31.0</td>\n",
       "      <td>73.0</td>\n",
       "      <td>55.0</td>\n",
       "      <td>79.0</td>\n",
       "      <td>14.0</td>\n",
       "      <td>29.0</td>\n",
       "      <td>93.0</td>\n",
       "      <td>71.0</td>\n",
       "      <td>40.0</td>\n",
       "      <td>67.0</td>\n",
       "      <td>53.0</td>\n",
       "      <td>88.0</td>\n",
       "      <td>30.0</td>\n",
       "      <td>3.0</td>\n",
       "      <td>49.0</td>\n",
       "      <td>13.0</td>\n",
       "      <td>36.0</td>\n",
       "      <td>65.0</td>\n",
       "    </tr>\n",
       "    <tr>\n",
       "      <th>3</th>\n",
       "      <td>52.0</td>\n",
       "      <td>70.0</td>\n",
       "      <td>95.0</td>\n",
       "      <td>23.0</td>\n",
       "      <td>4.0</td>\n",
       "      <td>60.0</td>\n",
       "      <td>11.0</td>\n",
       "      <td>42.0</td>\n",
       "      <td>69.0</td>\n",
       "      <td>24.0</td>\n",
       "      <td>68.0</td>\n",
       "      <td>56.0</td>\n",
       "      <td>1.0</td>\n",
       "      <td>32.0</td>\n",
       "      <td>56.0</td>\n",
       "      <td>71.0</td>\n",
       "      <td>37.0</td>\n",
       "      <td>2.0</td>\n",
       "      <td>36.0</td>\n",
       "      <td>91.0</td>\n",
       "    </tr>\n",
       "    <tr>\n",
       "      <th>4</th>\n",
       "      <td>22.0</td>\n",
       "      <td>31.0</td>\n",
       "      <td>16.0</td>\n",
       "      <td>71.0</td>\n",
       "      <td>51.0</td>\n",
       "      <td>67.0</td>\n",
       "      <td>63.0</td>\n",
       "      <td>89.0</td>\n",
       "      <td>41.0</td>\n",
       "      <td>92.0</td>\n",
       "      <td>36.0</td>\n",
       "      <td>54.0</td>\n",
       "      <td>22.0</td>\n",
       "      <td>40.0</td>\n",
       "      <td>40.0</td>\n",
       "      <td>28.0</td>\n",
       "      <td>66.0</td>\n",
       "      <td>33.0</td>\n",
       "      <td>13.0</td>\n",
       "      <td>80.0</td>\n",
       "    </tr>\n",
       "    <tr>\n",
       "      <th>5</th>\n",
       "      <td>24.0</td>\n",
       "      <td>47.0</td>\n",
       "      <td>32.0</td>\n",
       "      <td>60.0</td>\n",
       "      <td>99.0</td>\n",
       "      <td>3.0</td>\n",
       "      <td>45.0</td>\n",
       "      <td>2.0</td>\n",
       "      <td>44.0</td>\n",
       "      <td>75.0</td>\n",
       "      <td>33.0</td>\n",
       "      <td>53.0</td>\n",
       "      <td>78.0</td>\n",
       "      <td>36.0</td>\n",
       "      <td>84.0</td>\n",
       "      <td>20.0</td>\n",
       "      <td>35.0</td>\n",
       "      <td>17.0</td>\n",
       "      <td>12.0</td>\n",
       "      <td>50.0</td>\n",
       "    </tr>\n",
       "    <tr>\n",
       "      <th>6</th>\n",
       "      <td>32.0</td>\n",
       "      <td>98.0</td>\n",
       "      <td>81.0</td>\n",
       "      <td>28.0</td>\n",
       "      <td>64.0</td>\n",
       "      <td>23.0</td>\n",
       "      <td>67.0</td>\n",
       "      <td>10.0</td>\n",
       "      <td>26.0</td>\n",
       "      <td>38.0</td>\n",
       "      <td>40.0</td>\n",
       "      <td>67.0</td>\n",
       "      <td>59.0</td>\n",
       "      <td>54.0</td>\n",
       "      <td>70.0</td>\n",
       "      <td>66.0</td>\n",
       "      <td>18.0</td>\n",
       "      <td>38.0</td>\n",
       "      <td>64.0</td>\n",
       "      <td>70.0</td>\n",
       "    </tr>\n",
       "    <tr>\n",
       "      <th>7</th>\n",
       "      <td>67.0</td>\n",
       "      <td>26.0</td>\n",
       "      <td>20.0</td>\n",
       "      <td>68.0</td>\n",
       "      <td>2.0</td>\n",
       "      <td>62.0</td>\n",
       "      <td>12.0</td>\n",
       "      <td>20.0</td>\n",
       "      <td>95.0</td>\n",
       "      <td>63.0</td>\n",
       "      <td>94.0</td>\n",
       "      <td>39.0</td>\n",
       "      <td>63.0</td>\n",
       "      <td>8.0</td>\n",
       "      <td>40.0</td>\n",
       "      <td>91.0</td>\n",
       "      <td>66.0</td>\n",
       "      <td>49.0</td>\n",
       "      <td>94.0</td>\n",
       "      <td>21.0</td>\n",
       "    </tr>\n",
       "    <tr>\n",
       "      <th>8</th>\n",
       "      <td>24.0</td>\n",
       "      <td>55.0</td>\n",
       "      <td>58.0</td>\n",
       "      <td>5.0</td>\n",
       "      <td>66.0</td>\n",
       "      <td>73.0</td>\n",
       "      <td>99.0</td>\n",
       "      <td>26.0</td>\n",
       "      <td>97.0</td>\n",
       "      <td>17.0</td>\n",
       "      <td>78.0</td>\n",
       "      <td>78.0</td>\n",
       "      <td>96.0</td>\n",
       "      <td>83.0</td>\n",
       "      <td>14.0</td>\n",
       "      <td>88.0</td>\n",
       "      <td>34.0</td>\n",
       "      <td>89.0</td>\n",
       "      <td>63.0</td>\n",
       "      <td>72.0</td>\n",
       "    </tr>\n",
       "    <tr>\n",
       "      <th>9</th>\n",
       "      <td>21.0</td>\n",
       "      <td>36.0</td>\n",
       "      <td>23.0</td>\n",
       "      <td>9.0</td>\n",
       "      <td>75.0</td>\n",
       "      <td>0.0</td>\n",
       "      <td>76.0</td>\n",
       "      <td>44.0</td>\n",
       "      <td>20.0</td>\n",
       "      <td>45.0</td>\n",
       "      <td>35.0</td>\n",
       "      <td>14.0</td>\n",
       "      <td>0.0</td>\n",
       "      <td>61.0</td>\n",
       "      <td>33.0</td>\n",
       "      <td>97.0</td>\n",
       "      <td>34.0</td>\n",
       "      <td>31.0</td>\n",
       "      <td>33.0</td>\n",
       "      <td>95.0</td>\n",
       "    </tr>\n",
       "    <tr>\n",
       "      <th>10</th>\n",
       "      <td>78.0</td>\n",
       "      <td>17.0</td>\n",
       "      <td>53.0</td>\n",
       "      <td>28.0</td>\n",
       "      <td>22.0</td>\n",
       "      <td>75.0</td>\n",
       "      <td>31.0</td>\n",
       "      <td>67.0</td>\n",
       "      <td>15.0</td>\n",
       "      <td>94.0</td>\n",
       "      <td>3.0</td>\n",
       "      <td>80.0</td>\n",
       "      <td>4.0</td>\n",
       "      <td>62.0</td>\n",
       "      <td>16.0</td>\n",
       "      <td>14.0</td>\n",
       "      <td>9.0</td>\n",
       "      <td>53.0</td>\n",
       "      <td>56.0</td>\n",
       "      <td>92.0</td>\n",
       "    </tr>\n",
       "    <tr>\n",
       "      <th>11</th>\n",
       "      <td>16.0</td>\n",
       "      <td>39.0</td>\n",
       "      <td>5.0</td>\n",
       "      <td>42.0</td>\n",
       "      <td>96.0</td>\n",
       "      <td>35.0</td>\n",
       "      <td>31.0</td>\n",
       "      <td>47.0</td>\n",
       "      <td>55.0</td>\n",
       "      <td>58.0</td>\n",
       "      <td>88.0</td>\n",
       "      <td>24.0</td>\n",
       "      <td>0.0</td>\n",
       "      <td>17.0</td>\n",
       "      <td>54.0</td>\n",
       "      <td>24.0</td>\n",
       "      <td>36.0</td>\n",
       "      <td>29.0</td>\n",
       "      <td>85.0</td>\n",
       "      <td>57.0</td>\n",
       "    </tr>\n",
       "    <tr>\n",
       "      <th>12</th>\n",
       "      <td>86.0</td>\n",
       "      <td>56.0</td>\n",
       "      <td>0.0</td>\n",
       "      <td>48.0</td>\n",
       "      <td>35.0</td>\n",
       "      <td>71.0</td>\n",
       "      <td>89.0</td>\n",
       "      <td>7.0</td>\n",
       "      <td>5.0</td>\n",
       "      <td>44.0</td>\n",
       "      <td>44.0</td>\n",
       "      <td>37.0</td>\n",
       "      <td>44.0</td>\n",
       "      <td>60.0</td>\n",
       "      <td>21.0</td>\n",
       "      <td>58.0</td>\n",
       "      <td>51.0</td>\n",
       "      <td>54.0</td>\n",
       "      <td>17.0</td>\n",
       "      <td>58.0</td>\n",
       "    </tr>\n",
       "    <tr>\n",
       "      <th>13</th>\n",
       "      <td>19.0</td>\n",
       "      <td>80.0</td>\n",
       "      <td>81.0</td>\n",
       "      <td>68.0</td>\n",
       "      <td>5.0</td>\n",
       "      <td>94.0</td>\n",
       "      <td>47.0</td>\n",
       "      <td>69.0</td>\n",
       "      <td>28.0</td>\n",
       "      <td>73.0</td>\n",
       "      <td>92.0</td>\n",
       "      <td>13.0</td>\n",
       "      <td>86.0</td>\n",
       "      <td>52.0</td>\n",
       "      <td>17.0</td>\n",
       "      <td>77.0</td>\n",
       "      <td>4.0</td>\n",
       "      <td>89.0</td>\n",
       "      <td>55.0</td>\n",
       "      <td>40.0</td>\n",
       "    </tr>\n",
       "    <tr>\n",
       "      <th>14</th>\n",
       "      <td>4.0</td>\n",
       "      <td>52.0</td>\n",
       "      <td>8.0</td>\n",
       "      <td>83.0</td>\n",
       "      <td>97.0</td>\n",
       "      <td>35.0</td>\n",
       "      <td>99.0</td>\n",
       "      <td>16.0</td>\n",
       "      <td>7.0</td>\n",
       "      <td>97.0</td>\n",
       "      <td>57.0</td>\n",
       "      <td>32.0</td>\n",
       "      <td>16.0</td>\n",
       "      <td>26.0</td>\n",
       "      <td>26.0</td>\n",
       "      <td>79.0</td>\n",
       "      <td>33.0</td>\n",
       "      <td>27.0</td>\n",
       "      <td>98.0</td>\n",
       "      <td>66.0</td>\n",
       "    </tr>\n",
       "    <tr>\n",
       "      <th>15</th>\n",
       "      <td>88.0</td>\n",
       "      <td>36.0</td>\n",
       "      <td>68.0</td>\n",
       "      <td>87.0</td>\n",
       "      <td>57.0</td>\n",
       "      <td>62.0</td>\n",
       "      <td>20.0</td>\n",
       "      <td>72.0</td>\n",
       "      <td>3.0</td>\n",
       "      <td>46.0</td>\n",
       "      <td>33.0</td>\n",
       "      <td>67.0</td>\n",
       "      <td>46.0</td>\n",
       "      <td>55.0</td>\n",
       "      <td>12.0</td>\n",
       "      <td>32.0</td>\n",
       "      <td>63.0</td>\n",
       "      <td>93.0</td>\n",
       "      <td>53.0</td>\n",
       "      <td>69.0</td>\n",
       "    </tr>\n",
       "    <tr>\n",
       "      <th>16</th>\n",
       "      <td>4.0</td>\n",
       "      <td>42.0</td>\n",
       "      <td>16.0</td>\n",
       "      <td>73.0</td>\n",
       "      <td>38.0</td>\n",
       "      <td>25.0</td>\n",
       "      <td>39.0</td>\n",
       "      <td>11.0</td>\n",
       "      <td>24.0</td>\n",
       "      <td>94.0</td>\n",
       "      <td>72.0</td>\n",
       "      <td>18.0</td>\n",
       "      <td>8.0</td>\n",
       "      <td>46.0</td>\n",
       "      <td>29.0</td>\n",
       "      <td>32.0</td>\n",
       "      <td>40.0</td>\n",
       "      <td>62.0</td>\n",
       "      <td>76.0</td>\n",
       "      <td>36.0</td>\n",
       "    </tr>\n",
       "    <tr>\n",
       "      <th>17</th>\n",
       "      <td>20.0</td>\n",
       "      <td>69.0</td>\n",
       "      <td>36.0</td>\n",
       "      <td>41.0</td>\n",
       "      <td>72.0</td>\n",
       "      <td>30.0</td>\n",
       "      <td>23.0</td>\n",
       "      <td>88.0</td>\n",
       "      <td>34.0</td>\n",
       "      <td>62.0</td>\n",
       "      <td>99.0</td>\n",
       "      <td>69.0</td>\n",
       "      <td>82.0</td>\n",
       "      <td>67.0</td>\n",
       "      <td>59.0</td>\n",
       "      <td>85.0</td>\n",
       "      <td>74.0</td>\n",
       "      <td>4.0</td>\n",
       "      <td>36.0</td>\n",
       "      <td>16.0</td>\n",
       "    </tr>\n",
       "    <tr>\n",
       "      <th>18</th>\n",
       "      <td>20.0</td>\n",
       "      <td>73.0</td>\n",
       "      <td>35.0</td>\n",
       "      <td>29.0</td>\n",
       "      <td>78.0</td>\n",
       "      <td>31.0</td>\n",
       "      <td>90.0</td>\n",
       "      <td>1.0</td>\n",
       "      <td>74.0</td>\n",
       "      <td>31.0</td>\n",
       "      <td>49.0</td>\n",
       "      <td>71.0</td>\n",
       "      <td>48.0</td>\n",
       "      <td>86.0</td>\n",
       "      <td>81.0</td>\n",
       "      <td>16.0</td>\n",
       "      <td>23.0</td>\n",
       "      <td>57.0</td>\n",
       "      <td>5.0</td>\n",
       "      <td>54.0</td>\n",
       "    </tr>\n",
       "    <tr>\n",
       "      <th>19</th>\n",
       "      <td>1.0</td>\n",
       "      <td>70.0</td>\n",
       "      <td>54.0</td>\n",
       "      <td>71.0</td>\n",
       "      <td>83.0</td>\n",
       "      <td>51.0</td>\n",
       "      <td>54.0</td>\n",
       "      <td>69.0</td>\n",
       "      <td>16.0</td>\n",
       "      <td>92.0</td>\n",
       "      <td>33.0</td>\n",
       "      <td>48.0</td>\n",
       "      <td>61.0</td>\n",
       "      <td>43.0</td>\n",
       "      <td>52.0</td>\n",
       "      <td>1.0</td>\n",
       "      <td>89.0</td>\n",
       "      <td>19.0</td>\n",
       "      <td>67.0</td>\n",
       "      <td>48.0</td>\n",
       "    </tr>\n",
       "  </tbody>\n",
       "</table>\n",
       "</div>"
      ],
      "text/plain": [
       "      0     1     2     3     4     5     6     7     8     9     10    11  \\\n",
       "0    8.0   2.0  22.0  97.0  38.0  15.0   0.0  40.0   0.0  75.0   4.0   5.0   \n",
       "1   49.0  49.0  99.0  40.0  17.0  81.0  18.0  57.0  60.0  87.0  17.0  40.0   \n",
       "2   81.0  49.0  31.0  73.0  55.0  79.0  14.0  29.0  93.0  71.0  40.0  67.0   \n",
       "3   52.0  70.0  95.0  23.0   4.0  60.0  11.0  42.0  69.0  24.0  68.0  56.0   \n",
       "4   22.0  31.0  16.0  71.0  51.0  67.0  63.0  89.0  41.0  92.0  36.0  54.0   \n",
       "5   24.0  47.0  32.0  60.0  99.0   3.0  45.0   2.0  44.0  75.0  33.0  53.0   \n",
       "6   32.0  98.0  81.0  28.0  64.0  23.0  67.0  10.0  26.0  38.0  40.0  67.0   \n",
       "7   67.0  26.0  20.0  68.0   2.0  62.0  12.0  20.0  95.0  63.0  94.0  39.0   \n",
       "8   24.0  55.0  58.0   5.0  66.0  73.0  99.0  26.0  97.0  17.0  78.0  78.0   \n",
       "9   21.0  36.0  23.0   9.0  75.0   0.0  76.0  44.0  20.0  45.0  35.0  14.0   \n",
       "10  78.0  17.0  53.0  28.0  22.0  75.0  31.0  67.0  15.0  94.0   3.0  80.0   \n",
       "11  16.0  39.0   5.0  42.0  96.0  35.0  31.0  47.0  55.0  58.0  88.0  24.0   \n",
       "12  86.0  56.0   0.0  48.0  35.0  71.0  89.0   7.0   5.0  44.0  44.0  37.0   \n",
       "13  19.0  80.0  81.0  68.0   5.0  94.0  47.0  69.0  28.0  73.0  92.0  13.0   \n",
       "14   4.0  52.0   8.0  83.0  97.0  35.0  99.0  16.0   7.0  97.0  57.0  32.0   \n",
       "15  88.0  36.0  68.0  87.0  57.0  62.0  20.0  72.0   3.0  46.0  33.0  67.0   \n",
       "16   4.0  42.0  16.0  73.0  38.0  25.0  39.0  11.0  24.0  94.0  72.0  18.0   \n",
       "17  20.0  69.0  36.0  41.0  72.0  30.0  23.0  88.0  34.0  62.0  99.0  69.0   \n",
       "18  20.0  73.0  35.0  29.0  78.0  31.0  90.0   1.0  74.0  31.0  49.0  71.0   \n",
       "19   1.0  70.0  54.0  71.0  83.0  51.0  54.0  69.0  16.0  92.0  33.0  48.0   \n",
       "\n",
       "      12    13    14    15    16    17    18    19  \n",
       "0    7.0  78.0  52.0  12.0  50.0  77.0  91.0   8.0  \n",
       "1   98.0  43.0  69.0  48.0   4.0  56.0  62.0   0.0  \n",
       "2   53.0  88.0  30.0   3.0  49.0  13.0  36.0  65.0  \n",
       "3    1.0  32.0  56.0  71.0  37.0   2.0  36.0  91.0  \n",
       "4   22.0  40.0  40.0  28.0  66.0  33.0  13.0  80.0  \n",
       "5   78.0  36.0  84.0  20.0  35.0  17.0  12.0  50.0  \n",
       "6   59.0  54.0  70.0  66.0  18.0  38.0  64.0  70.0  \n",
       "7   63.0   8.0  40.0  91.0  66.0  49.0  94.0  21.0  \n",
       "8   96.0  83.0  14.0  88.0  34.0  89.0  63.0  72.0  \n",
       "9    0.0  61.0  33.0  97.0  34.0  31.0  33.0  95.0  \n",
       "10   4.0  62.0  16.0  14.0   9.0  53.0  56.0  92.0  \n",
       "11   0.0  17.0  54.0  24.0  36.0  29.0  85.0  57.0  \n",
       "12  44.0  60.0  21.0  58.0  51.0  54.0  17.0  58.0  \n",
       "13  86.0  52.0  17.0  77.0   4.0  89.0  55.0  40.0  \n",
       "14  16.0  26.0  26.0  79.0  33.0  27.0  98.0  66.0  \n",
       "15  46.0  55.0  12.0  32.0  63.0  93.0  53.0  69.0  \n",
       "16   8.0  46.0  29.0  32.0  40.0  62.0  76.0  36.0  \n",
       "17  82.0  67.0  59.0  85.0  74.0   4.0  36.0  16.0  \n",
       "18  48.0  86.0  81.0  16.0  23.0  57.0   5.0  54.0  \n",
       "19  61.0  43.0  52.0   1.0  89.0  19.0  67.0  48.0  "
      ]
     },
     "execution_count": 5,
     "metadata": {},
     "output_type": "execute_result"
    }
   ],
   "source": [
    "df = pd.DataFrame(data)\n",
    "df"
   ]
  },
  {
   "cell_type": "markdown",
   "id": "42fa0c84",
   "metadata": {},
   "source": [
    "### Solucion"
   ]
  },
  {
   "cell_type": "markdown",
   "id": "7459ee77",
   "metadata": {},
   "source": [
    "# Problema 7 (3c Tarea 2, 13 Euler Project)"
   ]
  },
  {
   "cell_type": "markdown",
   "id": "5f3dc027",
   "metadata": {},
   "source": [
    "### Funcion"
   ]
  },
  {
   "cell_type": "code",
   "execution_count": 27,
   "id": "6f5d5850",
   "metadata": {},
   "outputs": [],
   "source": [
    "def first(n):\n",
    "    \"\"\"Esta funcion devuelve los primeros n digitos de la suma de los 100 numeros de 50 digitos ingresados\"\"\"\n",
    "    \n",
    "    sum=0\n",
    "    for i in nums:\n",
    "        sum=sum+i\n",
    "        i=i+1\n",
    "\n",
    "    return int(str(sum)[:n])"
   ]
  },
  {
   "cell_type": "markdown",
   "id": "ee916452",
   "metadata": {},
   "source": [
    "### Solucion"
   ]
  },
  {
   "cell_type": "code",
   "execution_count": 26,
   "id": "5080694b",
   "metadata": {},
   "outputs": [],
   "source": [
    "nums=[37107287533902102798797998220837590246510135740250,\n",
    "46376937677490009712648124896970078050417018260538,\n",
    "74324986199524741059474233309513058123726617309629,\n",
    "91942213363574161572522430563301811072406154908250,\n",
    "23067588207539346171171980310421047513778063246676,\n",
    "89261670696623633820136378418383684178734361726757,\n",
    "28112879812849979408065481931592621691275889832738,\n",
    "44274228917432520321923589422876796487670272189318,\n",
    "47451445736001306439091167216856844588711603153276,\n",
    "70386486105843025439939619828917593665686757934951,\n",
    "62176457141856560629502157223196586755079324193331,\n",
    "64906352462741904929101432445813822663347944758178,\n",
    "92575867718337217661963751590579239728245598838407,\n",
    "58203565325359399008402633568948830189458628227828,\n",
    "80181199384826282014278194139940567587151170094390,\n",
    "35398664372827112653829987240784473053190104293586,\n",
    "86515506006295864861532075273371959191420517255829,\n",
    "71693888707715466499115593487603532921714970056938,\n",
    "54370070576826684624621495650076471787294438377604,\n",
    "53282654108756828443191190634694037855217779295145,\n",
    "36123272525000296071075082563815656710885258350721,\n",
    "45876576172410976447339110607218265236877223636045,\n",
    "17423706905851860660448207621209813287860733969412,\n",
    "81142660418086830619328460811191061556940512689692,\n",
    "51934325451728388641918047049293215058642563049483,\n",
    "62467221648435076201727918039944693004732956340691,\n",
    "15732444386908125794514089057706229429197107928209,\n",
    "55037687525678773091862540744969844508330393682126,\n",
    "18336384825330154686196124348767681297534375946515,\n",
    "80386287592878490201521685554828717201219257766954,\n",
    "78182833757993103614740356856449095527097864797581,\n",
    "16726320100436897842553539920931837441497806860984,\n",
    "48403098129077791799088218795327364475675590848030,\n",
    "87086987551392711854517078544161852424320693150332,\n",
    "59959406895756536782107074926966537676326235447210,\n",
    "69793950679652694742597709739166693763042633987085,\n",
    "41052684708299085211399427365734116182760315001271,\n",
    "65378607361501080857009149939512557028198746004375,\n",
    "35829035317434717326932123578154982629742552737307,\n",
    "94953759765105305946966067683156574377167401875275,\n",
    "88902802571733229619176668713819931811048770190271,\n",
    "25267680276078003013678680992525463401061632866526,\n",
    "36270218540497705585629946580636237993140746255962,\n",
    "24074486908231174977792365466257246923322810917141,\n",
    "91430288197103288597806669760892938638285025333403,\n",
    "34413065578016127815921815005561868836468420090470,\n",
    "23053081172816430487623791969842487255036638784583,\n",
    "11487696932154902810424020138335124462181441773470,\n",
    "63783299490636259666498587618221225225512486764533,\n",
    "67720186971698544312419572409913959008952310058822,\n",
    "95548255300263520781532296796249481641953868218774,\n",
    "76085327132285723110424803456124867697064507995236,\n",
    "37774242535411291684276865538926205024910326572967,\n",
    "23701913275725675285653248258265463092207058596522,\n",
    "29798860272258331913126375147341994889534765745501,\n",
    "18495701454879288984856827726077713721403798879715,\n",
    "38298203783031473527721580348144513491373226651381,\n",
    "34829543829199918180278916522431027392251122869539,\n",
    "40957953066405232632538044100059654939159879593635,\n",
    "29746152185502371307642255121183693803580388584903,\n",
    "41698116222072977186158236678424689157993532961922,\n",
    "62467957194401269043877107275048102390895523597457,\n",
    "23189706772547915061505504953922979530901129967519,\n",
    "86188088225875314529584099251203829009407770775672,\n",
    "11306739708304724483816533873502340845647058077308,\n",
    "82959174767140363198008187129011875491310547126581,\n",
    "97623331044818386269515456334926366572897563400500,\n",
    "42846280183517070527831839425882145521227251250327,\n",
    "55121603546981200581762165212827652751691296897789,\n",
    "32238195734329339946437501907836945765883352399886,\n",
    "75506164965184775180738168837861091527357929701337,\n",
    "62177842752192623401942399639168044983993173312731,\n",
    "32924185707147349566916674687634660915035914677504,\n",
    "99518671430235219628894890102423325116913619626622,\n",
    "73267460800591547471830798392868535206946944540724,\n",
    "76841822524674417161514036427982273348055556214818,\n",
    "97142617910342598647204516893989422179826088076852,\n",
    "87783646182799346313767754307809363333018982642090,\n",
    "10848802521674670883215120185883543223812876952786,\n",
    "71329612474782464538636993009049310363619763878039,\n",
    "62184073572399794223406235393808339651327408011116,\n",
    "66627891981488087797941876876144230030984490851411,\n",
    "60661826293682836764744779239180335110989069790714,\n",
    "85786944089552990653640447425576083659976645795096,\n",
    "66024396409905389607120198219976047599490197230297,\n",
    "64913982680032973156037120041377903785566085089252,\n",
    "16730939319872750275468906903707539413042652315011,\n",
    "94809377245048795150954100921645863754710598436791,\n",
    "78639167021187492431995700641917969777599028300699,\n",
    "15368713711936614952811305876380278410754449733078,\n",
    "40789923115535562561142322423255033685442488917353,\n",
    "44889911501440648020369068063960672322193204149535,\n",
    "41503128880339536053299340368006977710650566631954,\n",
    "81234880673210146739058568557934581403627822703280,\n",
    "82616570773948327592232845941706525094512325230608,\n",
    "22918802058777319719839450180888072429661980811197,\n",
    "77158542502016545090413245809786882778948721859617,\n",
    "72107838435069186155435662884062257473692284509516,\n",
    "20849603980134001723930671666823555245252804609722,\n",
    "53503534226472524250874054075591789781264330331690]"
   ]
  },
  {
   "cell_type": "code",
   "execution_count": 28,
   "id": "1cf7e300",
   "metadata": {},
   "outputs": [
    {
     "data": {
      "text/plain": [
       "5537376230"
      ]
     },
     "execution_count": 28,
     "metadata": {},
     "output_type": "execute_result"
    }
   ],
   "source": [
    "first(10)"
   ]
  }
 ],
 "metadata": {
  "kernelspec": {
   "display_name": "Python 3 (ipykernel)",
   "language": "python",
   "name": "python3"
  },
  "language_info": {
   "codemirror_mode": {
    "name": "ipython",
    "version": 3
   },
   "file_extension": ".py",
   "mimetype": "text/x-python",
   "name": "python",
   "nbconvert_exporter": "python",
   "pygments_lexer": "ipython3",
   "version": "3.9.7"
  }
 },
 "nbformat": 4,
 "nbformat_minor": 5
}
