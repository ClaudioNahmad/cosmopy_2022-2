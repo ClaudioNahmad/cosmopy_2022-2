{
 "cells": [
  {
   "cell_type": "code",
   "execution_count": 1,
   "id": "b5406714",
   "metadata": {},
   "outputs": [],
   "source": [
    "import sympy as sy\n",
    "from sympy import symbols, Function, dsolve, Derivative, Eq\n",
    "sy.init_printing()\n",
    "from sympy.abc import x,y,z\n",
    "from sympy import pi"
   ]
  },
  {
   "cell_type": "markdown",
   "id": "47022173",
   "metadata": {},
   "source": [
    "# Tarea 5d"
   ]
  },
  {
   "cell_type": "markdown",
   "id": "d2e558c2",
   "metadata": {},
   "source": [
    "https://docs.sympy.org/latest/modules/solvers/ode.html\n",
    "\n",
    "Sobre los 'hints': https://docs.sympy.org/latest/modules/solvers/ode.html#sympy.solvers.ode.allhints"
   ]
  },
  {
   "cell_type": "markdown",
   "id": "f5f1cb91",
   "metadata": {},
   "source": [
    "En todo este desarrollo usaremos $f(x)$ para designar a $y$, puesto que usar la función de sympy \"Function\" facilita mucho los cálculos."
   ]
  },
  {
   "cell_type": "markdown",
   "id": "7fc95098",
   "metadata": {},
   "source": [
    "## 1. Separable. $\\frac{dy}{dx}=x+xy$"
   ]
  },
  {
   "cell_type": "code",
   "execution_count": 2,
   "id": "81bdf751",
   "metadata": {},
   "outputs": [
    {
     "data": {
      "image/png": "[encoded data removed]",
      "text/latex": [
       "$\\displaystyle \\frac{d}{d x} f{\\left(x \\right)} = x f{\\left(x \\right)} + x$"
      ],
      "text/plain": [
       "d                    \n",
       "──(f(x)) = x⋅f(x) + x\n",
       "dx                   "
      ]
     },
     "execution_count": 2,
     "metadata": {},
     "output_type": "execute_result"
    }
   ],
   "source": [
    "f=Function('f')\n",
    "eq1=Eq(Derivative(f(x),x),x+x*f(x))\n",
    "eq1"
   ]
  },
  {
   "cell_type": "code",
   "execution_count": 3,
   "id": "e66f357a",
   "metadata": {},
   "outputs": [
    {
     "data": {
      "image/png": "[encoded data removed]",
      "text/latex": [
       "$\\displaystyle f{\\left(x \\right)} = C_{1} e^{\\frac{x^{2}}{2}} - 1$"
      ],
      "text/plain": [
       "            2    \n",
       "           x     \n",
       "           ──    \n",
       "           2     \n",
       "f(x) = C₁⋅ℯ   - 1"
      ]
     },
     "execution_count": 3,
     "metadata": {},
     "output_type": "execute_result"
    }
   ],
   "source": [
    "dsolve(eq1,f(x),hint='separable')"
   ]
  },
  {
   "cell_type": "markdown",
   "id": "e55d2365",
   "metadata": {},
   "source": [
    "## 2. Exacta. $x \\frac{dy}{dx}+3x+y$"
   ]
  },
  {
   "cell_type": "code",
   "execution_count": 4,
   "id": "0f68dcec",
   "metadata": {},
   "outputs": [
    {
     "data": {
      "image/png": "[encoded data removed]",
      "text/latex": [
       "$\\displaystyle x \\frac{d}{d x} f{\\left(x \\right)} + 3 x + f{\\left(x \\right)} = 0$"
      ],
      "text/plain": [
       "  d                        \n",
       "x⋅──(f(x)) + 3⋅x + f(x) = 0\n",
       "  dx                       "
      ]
     },
     "execution_count": 4,
     "metadata": {},
     "output_type": "execute_result"
    }
   ],
   "source": [
    "eq2=Eq(x*Derivative(f(x),x)+3*x+f(x),0)\n",
    "eq2"
   ]
  },
  {
   "cell_type": "code",
   "execution_count": 5,
   "id": "d1f34461",
   "metadata": {},
   "outputs": [
    {
     "data": {
      "image/png": "[encoded data removed]",
      "text/latex": [
       "$\\displaystyle f{\\left(x \\right)} = \\frac{C_{1}}{x} - \\frac{3 x}{2}$"
      ],
      "text/plain": [
       "       C₁   3⋅x\n",
       "f(x) = ── - ───\n",
       "       x     2 "
      ]
     },
     "execution_count": 5,
     "metadata": {},
     "output_type": "execute_result"
    }
   ],
   "source": [
    "dsolve(eq2,f(x),hint='1st_exact')"
   ]
  },
  {
   "cell_type": "markdown",
   "id": "fb37e2e8",
   "metadata": {},
   "source": [
    "## 3. $\\frac{dy}{dx}+2xy=4x$"
   ]
  },
  {
   "cell_type": "code",
   "execution_count": 6,
   "id": "567d7485",
   "metadata": {},
   "outputs": [
    {
     "data": {
      "image/png": "[encoded data removed]",
      "text/latex": [
       "$\\displaystyle 2 x f{\\left(x \\right)} + \\frac{d}{d x} f{\\left(x \\right)} = 4 x$"
      ],
      "text/plain": [
       "           d             \n",
       "2⋅x⋅f(x) + ──(f(x)) = 4⋅x\n",
       "           dx            "
      ]
     },
     "execution_count": 6,
     "metadata": {},
     "output_type": "execute_result"
    }
   ],
   "source": [
    "eq3=Eq(Derivative(f(x),x)+2*x*f(x),4*x)\n",
    "eq3"
   ]
  },
  {
   "cell_type": "code",
   "execution_count": 7,
   "id": "c48433e2",
   "metadata": {},
   "outputs": [
    {
     "data": {
      "image/png": "[encoded data removed]",
      "text/latex": [
       "$\\displaystyle f{\\left(x \\right)} = C_{1} e^{- x^{2}} + 2$"
      ],
      "text/plain": [
       "             2    \n",
       "           -x     \n",
       "f(x) = C₁⋅ℯ    + 2"
      ]
     },
     "execution_count": 7,
     "metadata": {},
     "output_type": "execute_result"
    }
   ],
   "source": [
    "dsolve(eq3,f(x))"
   ]
  },
  {
   "cell_type": "markdown",
   "id": "4f6c5e40",
   "metadata": {},
   "source": [
    "## 4. Homogénea. $\\frac{dy}{dx}=\\frac{y}{x}+\\tan(\\frac{y}{x})$"
   ]
  },
  {
   "cell_type": "code",
   "execution_count": 8,
   "id": "44b4e65d",
   "metadata": {},
   "outputs": [
    {
     "data": {
      "image/png": "[encoded data removed]",
      "text/latex": [
       "$\\displaystyle \\frac{d}{d x} f{\\left(x \\right)} = \\tan{\\left(\\frac{f{\\left(x \\right)}}{x} \\right)} + \\frac{f{\\left(x \\right)}}{x}$"
      ],
      "text/plain": [
       "d             ⎛f(x)⎞   f(x)\n",
       "──(f(x)) = tan⎜────⎟ + ────\n",
       "dx            ⎝ x  ⎠    x  "
      ]
     },
     "execution_count": 8,
     "metadata": {},
     "output_type": "execute_result"
    }
   ],
   "source": [
    "eq4=Eq(Derivative(f(x),x),(f(x)/x)+sy.tan(f(x)/x))\n",
    "eq4"
   ]
  },
  {
   "cell_type": "code",
   "execution_count": 9,
   "id": "e9e7bf43",
   "metadata": {},
   "outputs": [
    {
     "data": {
      "image/png": "[encoded data removed]",
      "text/latex": [
       "$\\displaystyle \\left[ f{\\left(x \\right)} = x \\left(\\pi - \\operatorname{asin}{\\left(C_{1} x \\right)}\\right), \\  f{\\left(x \\right)} = x \\operatorname{asin}{\\left(C_{1} x \\right)}\\right]$"
      ],
      "text/plain": [
       "[f(x) = x⋅(π - asin(C₁⋅x)), f(x) = x⋅asin(C₁⋅x)]"
      ]
     },
     "execution_count": 9,
     "metadata": {},
     "output_type": "execute_result"
    }
   ],
   "source": [
    "dsolve(eq4,f(x),hint='1st_homogeneous_coeff_best')"
   ]
  },
  {
   "cell_type": "markdown",
   "id": "2d099882",
   "metadata": {},
   "source": [
    "## 5. Bernoulli. $\\frac{dy}{dx}+\\frac{y}{x}=2x^3y^4$"
   ]
  },
  {
   "cell_type": "code",
   "execution_count": 10,
   "id": "dc618dbf",
   "metadata": {},
   "outputs": [
    {
     "data": {
      "image/png": "[encoded data removed]",
      "text/latex": [
       "$\\displaystyle \\frac{d}{d x} f{\\left(x \\right)} + \\frac{f{\\left(x \\right)}}{x} = 2 x^{3} f^{4}{\\left(x \\right)}$"
      ],
      "text/plain": [
       "d          f(x)      3  4   \n",
       "──(f(x)) + ──── = 2⋅x ⋅f (x)\n",
       "dx          x               "
      ]
     },
     "execution_count": 10,
     "metadata": {},
     "output_type": "execute_result"
    }
   ],
   "source": [
    "eq5=Eq(Derivative(f(x),x)+(f(x)/x),2*x**3*f(x)**4)\n",
    "eq5"
   ]
  },
  {
   "cell_type": "code",
   "execution_count": 11,
   "id": "7cd6f049",
   "metadata": {},
   "outputs": [
    {
     "data": {
      "image/png": "[encoded data removed]",
      "text/latex": [
       "$\\displaystyle \\left[ f{\\left(x \\right)} = \\sqrt[3]{- \\frac{1}{x^{3} \\left(C_{1} + 6 x\\right)}}, \\  f{\\left(x \\right)} = \\frac{\\sqrt[3]{- \\frac{1}{x^{3} \\left(C_{1} + 6 x\\right)}} \\left(-1 - \\sqrt{3} i\\right)}{2}, \\  f{\\left(x \\right)} = \\frac{\\sqrt[3]{- \\frac{1}{x^{3} \\left(C_{1} + 6 x\\right)}} \\left(-1 + \\sqrt{3} i\\right)}{2}\\right]$"
      ],
      "text/plain": [
       "⎡                                         _______________                          _______________            ⎤\n",
       "⎢                                        ╱      -1                                ╱      -1                   ⎥\n",
       "⎢                                       ╱  ───────────── ⋅(-1 - √3⋅ⅈ)            ╱  ───────────── ⋅(-1 + √3⋅ⅈ)⎥\n",
       "⎢            _______________         3 ╱    3                                 3 ╱    3                        ⎥\n",
       "⎢           ╱      -1                ╲╱    x ⋅(C₁ + 6⋅x)                      ╲╱    x ⋅(C₁ + 6⋅x)             ⎥\n",
       "⎢f(x) =    ╱  ───────────── , f(x) = ────────────────────────────────, f(x) = ────────────────────────────────⎥\n",
       "⎢       3 ╱    3                                    2                                        2                ⎥\n",
       "⎣       ╲╱    x ⋅(C₁ + 6⋅x)                                                                                   ⎦"
      ]
     },
     "execution_count": 11,
     "metadata": {},
     "output_type": "execute_result"
    }
   ],
   "source": [
    "sol5=dsolve(eq5,f(x),hint='Bernoulli')\n",
    "sol5"
   ]
  },
  {
   "cell_type": "markdown",
   "id": "2f134cb5",
   "metadata": {},
   "source": [
    "La solución real es:"
   ]
  },
  {
   "cell_type": "code",
   "execution_count": 12,
   "id": "7647b25e",
   "metadata": {},
   "outputs": [
    {
     "data": {
      "image/png": "[encoded data removed]",
      "text/latex": [
       "$\\displaystyle f{\\left(x \\right)} = \\sqrt[3]{- \\frac{1}{x^{3} \\left(C_{1} + 6 x\\right)}}$"
      ],
      "text/plain": [
       "            _______________\n",
       "           ╱      -1       \n",
       "f(x) =    ╱  ───────────── \n",
       "       3 ╱    3            \n",
       "       ╲╱    x ⋅(C₁ + 6⋅x) "
      ]
     },
     "execution_count": 12,
     "metadata": {},
     "output_type": "execute_result"
    }
   ],
   "source": [
    "sol5[0]"
   ]
  },
  {
   "cell_type": "markdown",
   "id": "e0e9c871",
   "metadata": {},
   "source": [
    "Para $\\{x>0,C_1<0\\}$ o $x$ y $C_1$ con signos opuestos"
   ]
  },
  {
   "cell_type": "markdown",
   "id": "a32f0f0d",
   "metadata": {},
   "source": [
    "## 6. Usando $y_p+y_c$."
   ]
  },
  {
   "cell_type": "code",
   "execution_count": 19,
   "id": "0b738396",
   "metadata": {},
   "outputs": [],
   "source": [
    "eq61=Eq(Derivative(f(x),x,x)-2*(Derivative(f(x),x))+f(x),sy.exp(x))\n",
    "eq62=Eq(x**2*Derivative(f(x),x,x)+x*Derivative(f(x),x)-4*f(x),0)"
   ]
  },
  {
   "cell_type": "code",
   "execution_count": 20,
   "id": "d85a68c0",
   "metadata": {},
   "outputs": [
    {
     "data": {
      "image/png": "[encoded data removed]",
      "text/latex": [
       "$\\displaystyle f{\\left(x \\right)} - 2 \\frac{d}{d x} f{\\left(x \\right)} + \\frac{d^{2}}{d x^{2}} f{\\left(x \\right)} = e^{x}$"
      ],
      "text/plain": [
       "                      2           \n",
       "         d           d           x\n",
       "f(x) - 2⋅──(f(x)) + ───(f(x)) = ℯ \n",
       "         dx           2           \n",
       "                    dx            "
      ]
     },
     "execution_count": 20,
     "metadata": {},
     "output_type": "execute_result"
    }
   ],
   "source": [
    "eq61"
   ]
  },
  {
   "cell_type": "code",
   "execution_count": 21,
   "id": "97c6ac9d",
   "metadata": {},
   "outputs": [
    {
     "data": {
      "image/png": "[encoded data removed]",
      "text/latex": [
       "$\\displaystyle x^{2} \\frac{d^{2}}{d x^{2}} f{\\left(x \\right)} + x \\frac{d}{d x} f{\\left(x \\right)} - 4 f{\\left(x \\right)} = 0$"
      ],
      "text/plain": [
       "     2                                \n",
       " 2  d            d                    \n",
       "x ⋅───(f(x)) + x⋅──(f(x)) - 4⋅f(x) = 0\n",
       "     2           dx                   \n",
       "   dx                                 "
      ]
     },
     "execution_count": 21,
     "metadata": {},
     "output_type": "execute_result"
    }
   ],
   "source": [
    "eq62"
   ]
  },
  {
   "cell_type": "code",
   "execution_count": 26,
   "id": "4fc873bc",
   "metadata": {},
   "outputs": [
    {
     "data": {
      "image/png": "[encoded data removed]",
      "text/latex": [
       "$\\displaystyle f{\\left(x \\right)} = \\left(C_{1} + x \\left(C_{2} + \\frac{x}{2}\\right)\\right) e^{x}$"
      ],
      "text/plain": [
       "       ⎛       ⎛     x⎞⎞  x\n",
       "f(x) = ⎜C₁ + x⋅⎜C₂ + ─⎟⎟⋅ℯ \n",
       "       ⎝       ⎝     2⎠⎠   "
      ]
     },
     "execution_count": 26,
     "metadata": {},
     "output_type": "execute_result"
    }
   ],
   "source": [
    "dsolve(eq61,f(x))"
   ]
  },
  {
   "cell_type": "code",
   "execution_count": 23,
   "id": "11ac9d63",
   "metadata": {},
   "outputs": [
    {
     "data": {
      "image/png": "[encoded data removed]",
      "text/latex": [
       "$\\displaystyle f{\\left(x \\right)} = \\frac{C_{1}}{x^{2}} + C_{2} x^{2}$"
      ],
      "text/plain": [
       "       C₁       2\n",
       "f(x) = ── + C₂⋅x \n",
       "        2        \n",
       "       x         "
      ]
     },
     "execution_count": 23,
     "metadata": {},
     "output_type": "execute_result"
    }
   ],
   "source": [
    "dsolve(eq62,f(x))"
   ]
  },
  {
   "cell_type": "markdown",
   "id": "85bd8fe2",
   "metadata": {},
   "source": [
    "## 7. Con condiciones de frontera $y(0)=y(\\pi/2)=0$"
   ]
  },
  {
   "cell_type": "code",
   "execution_count": 27,
   "id": "6f938e96",
   "metadata": {},
   "outputs": [
    {
     "data": {
      "image/png": "[encoded data removed]",
      "text/latex": [
       "$\\displaystyle - f{\\left(x \\right)} + \\frac{d^{2}}{d x^{2}} f{\\left(x \\right)} = \\csc{\\left(x \\right)}$"
      ],
      "text/plain": [
       "          2               \n",
       "         d                \n",
       "-f(x) + ───(f(x)) = csc(x)\n",
       "          2               \n",
       "        dx                "
      ]
     },
     "execution_count": 27,
     "metadata": {},
     "output_type": "execute_result"
    }
   ],
   "source": [
    "eq7=Eq(Derivative(f(x),x,x)-f(x),sy.csc(x))\n",
    "eq7"
   ]
  },
  {
   "cell_type": "code",
   "execution_count": 28,
   "id": "20fa8ddb",
   "metadata": {},
   "outputs": [
    {
     "data": {
      "image/png": "[encoded data removed]",
      "text/latex": [
       "$\\displaystyle f{\\left(x \\right)} = \\left(C_{1} - \\frac{\\int e^{x} \\csc{\\left(x \\right)}\\, dx}{2}\\right) e^{- x} + \\left(C_{2} + \\frac{\\int e^{- x} \\csc{\\left(x \\right)}\\, dx}{2}\\right) e^{x}$"
      ],
      "text/plain": [
       "       ⎛     ⌠             ⎞       ⎛     ⌠              ⎞   \n",
       "       ⎜     ⎮  x          ⎟       ⎜     ⎮  -x          ⎟   \n",
       "       ⎜     ⎮ ℯ ⋅csc(x) dx⎟       ⎜     ⎮ ℯ  ⋅csc(x) dx⎟   \n",
       "       ⎜     ⌡             ⎟  -x   ⎜     ⌡              ⎟  x\n",
       "f(x) = ⎜C₁ - ──────────────⎟⋅ℯ   + ⎜C₂ + ───────────────⎟⋅ℯ \n",
       "       ⎝           2       ⎠       ⎝            2       ⎠   "
      ]
     },
     "execution_count": 28,
     "metadata": {},
     "output_type": "execute_result"
    }
   ],
   "source": [
    "dsolve(eq7,f(x))"
   ]
  },
  {
   "cell_type": "markdown",
   "id": "9ca14310",
   "metadata": {},
   "source": [
    "Y con las condiciones:"
   ]
  },
  {
   "cell_type": "code",
   "execution_count": 29,
   "id": "2188dac2",
   "metadata": {},
   "outputs": [
    {
     "data": {
      "image/png": "[encoded data removed]",
      "text/latex": [
       "$\\displaystyle f{\\left(x \\right)} = \\left(\\frac{- e^{\\pi} \\int\\limits^{0} e^{- x} \\csc{\\left(x \\right)}\\, dx + e^{\\pi} \\int\\limits^{\\frac{\\pi}{2}} e^{- x} \\csc{\\left(x \\right)}\\, dx + e^{\\pi} \\int\\limits^{0} e^{x} \\csc{\\left(x \\right)}\\, dx - \\int\\limits^{\\frac{\\pi}{2}} e^{x} \\csc{\\left(x \\right)}\\, dx}{-2 + 2 e^{\\pi}} - \\frac{\\int e^{x} \\csc{\\left(x \\right)}\\, dx}{2}\\right) e^{- x} + \\left(\\frac{\\int\\limits^{0} e^{- x} \\csc{\\left(x \\right)}\\, dx - e^{\\pi} \\int\\limits^{\\frac{\\pi}{2}} e^{- x} \\csc{\\left(x \\right)}\\, dx - \\int\\limits^{0} e^{x} \\csc{\\left(x \\right)}\\, dx + \\int\\limits^{\\frac{\\pi}{2}} e^{x} \\csc{\\left(x \\right)}\\, dx}{-2 + 2 e^{\\pi}} + \\frac{\\int e^{- x} \\csc{\\left(x \\right)}\\, dx}{2}\\right) e^{x}$"
      ],
      "text/plain": [
       "       ⎛                          π                                     π                              ⎞       ⎛      \n",
       "       ⎜                          ─                                     ─                              ⎟       ⎜      \n",
       "       ⎜     0                    2                    0                2                              ⎟       ⎜0     \n",
       "       ⎜     ⌠                    ⌠                    ⌠                ⌠                              ⎟       ⎜⌠     \n",
       "       ⎜   π ⎮  -x              π ⎮  -x              π ⎮  x             ⎮  x             ⌠             ⎟       ⎜⎮  -x \n",
       "       ⎜- ℯ ⋅⎮ ℯ  ⋅csc(x) dx + ℯ ⋅⎮ ℯ  ⋅csc(x) dx + ℯ ⋅⎮ ℯ ⋅csc(x) dx - ⎮ ℯ ⋅csc(x) dx   ⎮  x          ⎟       ⎜⎮ ℯ  ⋅\n",
       "       ⎜     ⌡                    ⌡                    ⌡                ⌡                ⎮ ℯ ⋅csc(x) dx⎟       ⎜⌡     \n",
       "       ⎜                                                                                 ⌡             ⎟  -x   ⎜      \n",
       "f(x) = ⎜────────────────────────────────────────────────────────────────────────────── - ──────────────⎟⋅ℯ   + ⎜──────\n",
       "       ⎜                                          π                                            2       ⎟       ⎜      \n",
       "       ⎝                                  -2 + 2⋅ℯ                                                     ⎠       ⎝      \n",
       "\n",
       "               π                                  π                               ⎞   \n",
       "               ─                                  ─                               ⎟   \n",
       "               2                 0                2                               ⎟   \n",
       "               ⌠                 ⌠                ⌠                               ⎟   \n",
       "             π ⎮  -x             ⎮  x             ⎮  x             ⌠              ⎟   \n",
       "csc(x) dx - ℯ ⋅⎮ ℯ  ⋅csc(x) dx - ⎮ ℯ ⋅csc(x) dx + ⎮ ℯ ⋅csc(x) dx   ⎮  -x          ⎟   \n",
       "               ⌡                 ⌡                ⌡                ⎮ ℯ  ⋅csc(x) dx⎟   \n",
       "                                                                   ⌡              ⎟  x\n",
       "──────────────────────────────────────────────────────────────── + ───────────────⎟⋅ℯ \n",
       "                                π                                         2       ⎟   \n",
       "                        -2 + 2⋅ℯ                                                  ⎠   "
      ]
     },
     "execution_count": 29,
     "metadata": {},
     "output_type": "execute_result"
    }
   ],
   "source": [
    "dsolve(eq7,f(x),ics={f(0):0,f(pi/2):0}).doit()"
   ]
  },
  {
   "cell_type": "markdown",
   "id": "20602804",
   "metadata": {},
   "source": [
    "## 8. Resolver $x^2\\frac{d^2y}{dx^2}+x\\frac{dy}{dx}+\\frac{2}{y^3}=0$"
   ]
  },
  {
   "cell_type": "code",
   "execution_count": 34,
   "id": "c4b518b4",
   "metadata": {},
   "outputs": [
    {
     "data": {
      "image/png": "[encoded data removed]",
      "text/latex": [
       "$\\displaystyle x \\left(x \\frac{d^{2}}{d x^{2}} f{\\left(x \\right)} + \\frac{d}{d x} f{\\left(x \\right)}\\right) f^{3}{\\left(x \\right)} = -2$"
      ],
      "text/plain": [
       "  ⎛    2                 ⎞           \n",
       "  ⎜   d          d       ⎟  3        \n",
       "x⋅⎜x⋅───(f(x)) + ──(f(x))⎟⋅f (x) = -2\n",
       "  ⎜    2         dx      ⎟           \n",
       "  ⎝  dx                  ⎠           "
      ]
     },
     "execution_count": 34,
     "metadata": {},
     "output_type": "execute_result"
    }
   ],
   "source": [
    "eq8=Eq(Derivative(f(x),x,x)*x**2*f(x)**3+x*Derivative(f(x),x)*f(x)**3,-2)\n",
    "eq8.simplify()"
   ]
  },
  {
   "cell_type": "code",
   "execution_count": 35,
   "id": "a08e6c6b",
   "metadata": {},
   "outputs": [
    {
     "ename": "NotImplementedError",
     "evalue": "solve: Cannot solve x*(x*Derivative(f(x), (x, 2)) + Derivative(f(x), x))*f(x)**3 + 2",
     "output_type": "error",
     "traceback": [
      "\u001b[0;31m---------------------------------------------------------------------------\u001b[0m",
      "\u001b[0;31mNotImplementedError\u001b[0m                       Traceback (most recent call last)",
      "\u001b[0;32m/tmp/ipykernel_101247/3853931567.py\u001b[0m in \u001b[0;36m<module>\u001b[0;34m\u001b[0m\n\u001b[0;32m----> 1\u001b[0;31m \u001b[0mdsolve\u001b[0m\u001b[0;34m(\u001b[0m\u001b[0;34m(\u001b[0m\u001b[0meq8\u001b[0m\u001b[0;34m.\u001b[0m\u001b[0msimplify\u001b[0m\u001b[0;34m(\u001b[0m\u001b[0;34m)\u001b[0m\u001b[0;34m)\u001b[0m\u001b[0;34m,\u001b[0m\u001b[0mf\u001b[0m\u001b[0;34m(\u001b[0m\u001b[0mx\u001b[0m\u001b[0;34m)\u001b[0m\u001b[0;34m)\u001b[0m\u001b[0;34m.\u001b[0m\u001b[0mdoit\u001b[0m\u001b[0;34m(\u001b[0m\u001b[0;34m)\u001b[0m\u001b[0;34m\u001b[0m\u001b[0;34m\u001b[0m\u001b[0m\n\u001b[0m",
      "\u001b[0;32m~/software/anaconda3/lib/python3.9/site-packages/sympy/solvers/ode/ode.py\u001b[0m in \u001b[0;36mdsolve\u001b[0;34m(eq, func, hint, simplify, ics, xi, eta, x0, n, **kwargs)\u001b[0m\n\u001b[1;32m    602\u001b[0m \u001b[0;34m\u001b[0m\u001b[0m\n\u001b[1;32m    603\u001b[0m         \u001b[0;31m# See the docstring of _desolve for more details.\u001b[0m\u001b[0;34m\u001b[0m\u001b[0;34m\u001b[0m\u001b[0m\n\u001b[0;32m--> 604\u001b[0;31m         hints = _desolve(eq, func=func,\n\u001b[0m\u001b[1;32m    605\u001b[0m             \u001b[0mhint\u001b[0m\u001b[0;34m=\u001b[0m\u001b[0mhint\u001b[0m\u001b[0;34m,\u001b[0m \u001b[0msimplify\u001b[0m\u001b[0;34m=\u001b[0m\u001b[0;32mTrue\u001b[0m\u001b[0;34m,\u001b[0m \u001b[0mxi\u001b[0m\u001b[0;34m=\u001b[0m\u001b[0mxi\u001b[0m\u001b[0;34m,\u001b[0m \u001b[0meta\u001b[0m\u001b[0;34m=\u001b[0m\u001b[0meta\u001b[0m\u001b[0;34m,\u001b[0m \u001b[0mtype\u001b[0m\u001b[0;34m=\u001b[0m\u001b[0;34m'ode'\u001b[0m\u001b[0;34m,\u001b[0m \u001b[0mics\u001b[0m\u001b[0;34m=\u001b[0m\u001b[0mics\u001b[0m\u001b[0;34m,\u001b[0m\u001b[0;34m\u001b[0m\u001b[0;34m\u001b[0m\u001b[0m\n\u001b[1;32m    606\u001b[0m             x0=x0, n=n, **kwargs)\n",
      "\u001b[0;32m~/software/anaconda3/lib/python3.9/site-packages/sympy/solvers/deutils.py\u001b[0m in \u001b[0;36m_desolve\u001b[0;34m(eq, func, hint, ics, simplify, prep, **kwargs)\u001b[0m\n\u001b[1;32m    239\u001b[0m                 str(eq) + \" is not a solvable differential equation in \" + str(func))\n\u001b[1;32m    240\u001b[0m         \u001b[0;32melse\u001b[0m\u001b[0;34m:\u001b[0m\u001b[0;34m\u001b[0m\u001b[0;34m\u001b[0m\u001b[0m\n\u001b[0;32m--> 241\u001b[0;31m             \u001b[0;32mraise\u001b[0m \u001b[0mNotImplementedError\u001b[0m\u001b[0;34m(\u001b[0m\u001b[0mdummy\u001b[0m \u001b[0;34m+\u001b[0m \u001b[0;34m\"solve\"\u001b[0m \u001b[0;34m+\u001b[0m \u001b[0;34m\": Cannot solve \"\u001b[0m \u001b[0;34m+\u001b[0m \u001b[0mstr\u001b[0m\u001b[0;34m(\u001b[0m\u001b[0meq\u001b[0m\u001b[0;34m)\u001b[0m\u001b[0;34m)\u001b[0m\u001b[0;34m\u001b[0m\u001b[0;34m\u001b[0m\u001b[0m\n\u001b[0m\u001b[1;32m    242\u001b[0m     \u001b[0;32mif\u001b[0m \u001b[0mhint\u001b[0m \u001b[0;34m==\u001b[0m \u001b[0;34m'default'\u001b[0m\u001b[0;34m:\u001b[0m\u001b[0;34m\u001b[0m\u001b[0;34m\u001b[0m\u001b[0m\n\u001b[1;32m    243\u001b[0m         return _desolve(eq, func, ics=ics, hint=hints['default'], simplify=simplify,\n",
      "\u001b[0;31mNotImplementedError\u001b[0m: solve: Cannot solve x*(x*Derivative(f(x), (x, 2)) + Derivative(f(x), x))*f(x)**3 + 2"
     ]
    }
   ],
   "source": [
    "dsolve((eq8.simplify()),f(x)).doit()"
   ]
  },
  {
   "cell_type": "markdown",
   "id": "6740b86c",
   "metadata": {},
   "source": [
    "No logró resolver la ec. diferencial"
   ]
  },
  {
   "cell_type": "markdown",
   "id": "a9edc5d9",
   "metadata": {},
   "source": [
    "## 9. Singularidad real y esencial"
   ]
  },
  {
   "cell_type": "markdown",
   "id": "7a6773ec",
   "metadata": {},
   "source": [
    "En ecuaciones diferenciales ordinarias, una singularidad 'real' es un punto donde la solución de la ecuación es mal comportada, pero puede removerse pues depende directamente de las condiciones iniciales/de frontera. Si la singularidad depende más bien de la ecuación(ecuaciones) y no puede \"moverse\" cambiando condiciones de frontera entonces se habla de una singularidad esencial.\n",
    "\n",
    "En funciones valuadas en los complejos, la singularidad real es aquel punto donde una la solución a la función está indefinida. En el caso de singularidades removibles, basta redefinir la función para que ésta sea regular en una vecindad alrededor del punto."
   ]
  },
  {
   "cell_type": "code",
   "execution_count": null,
   "id": "14b4084c",
   "metadata": {},
   "outputs": [],
   "source": []
  }
 ],
 "metadata": {
  "kernelspec": {
   "display_name": "Python 3 (ipykernel)",
   "language": "python",
   "name": "python3"
  },
  "language_info": {
   "codemirror_mode": {
    "name": "ipython",
    "version": 3
   },
   "file_extension": ".py",
   "mimetype": "text/x-python",
   "name": "python",
   "nbconvert_exporter": "python",
   "pygments_lexer": "ipython3",
   "version": "3.9.7"
  }
 },
 "nbformat": 4,
 "nbformat_minor": 5
}
