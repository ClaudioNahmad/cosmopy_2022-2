{
 "cells": [
  {
   "cell_type": "code",
   "execution_count": 1,
   "id": "fc9d6c7f",
   "metadata": {},
   "outputs": [],
   "source": [
    "import sympy as sy\n",
    "sy.init_printing()"
   ]
  },
  {
   "cell_type": "code",
   "execution_count": 2,
   "id": "19fa1edb",
   "metadata": {},
   "outputs": [],
   "source": [
    "from sympy import symbols"
   ]
  },
  {
   "cell_type": "markdown",
   "id": "1aa8a981",
   "metadata": {},
   "source": [
    "# Tarea 8\n",
    "### Cosmo with sympy "
   ]
  },
  {
   "cell_type": "code",
   "execution_count": 3,
   "id": "feeb0cea",
   "metadata": {},
   "outputs": [],
   "source": [
    "#from sympy.abc import x,t\n",
    "from sympy import integrate\n",
    "from sympy import Eq\n",
    "from sympy import Function\n",
    "from sympy import simplify\n",
    "from sympy import Q"
   ]
  },
  {
   "cell_type": "markdown",
   "id": "295371ba",
   "metadata": {},
   "source": [
    "## 1. Compute the integral $$t=\\frac{1}{H_0}\\int_0^a \\left[\\frac{x}{\\sqrt{\\Omega_{r,0}+(1-\\Omega_{r,0})x^2}}\\right]dx$$\n",
    "\n",
    "i.e. radiation-only Universe"
   ]
  },
  {
   "cell_type": "markdown",
   "id": "99b5f815",
   "metadata": {},
   "source": [
    "### a) $\\Omega_{r,0}>1$"
   ]
  },
  {
   "cell_type": "code",
   "execution_count": 4,
   "id": "8db336c0",
   "metadata": {},
   "outputs": [],
   "source": [
    "x,t,a= symbols('x t a')\n",
    "H0= symbols('H_0', positive=True)\n",
    "Omr_pos = symbols('\\\\Omega_{r0}',positive=True)"
   ]
  },
  {
   "cell_type": "markdown",
   "id": "0c47a31f",
   "metadata": {},
   "source": [
    "La función:"
   ]
  },
  {
   "cell_type": "code",
   "execution_count": 5,
   "id": "b4bfbb81",
   "metadata": {},
   "outputs": [
    {
     "data": {
      "image/png": "[encoded data removed]",
      "text/latex": [
       "$\\displaystyle \\frac{x}{H_{0} \\sqrt{\\Omega_{r0} + x^{2} \\left(1 - \\Omega_{r0}\\right)}}$"
      ],
      "text/plain": [
       "                    x                     \n",
       "──────────────────────────────────────────\n",
       "      ____________________________________\n",
       "     ╱                2                   \n",
       "H₀⋅╲╱  \\Omega_{r0} + x ⋅(1 - \\Omega_{r0}) "
      ]
     },
     "execution_count": 5,
     "metadata": {},
     "output_type": "execute_result"
    }
   ],
   "source": [
    "e1=(1/H0)*(x/sy.sqrt(Omr_pos+(1-Omr_pos)*x**2))\n",
    "e1"
   ]
  },
  {
   "cell_type": "markdown",
   "id": "7c7ea2f8",
   "metadata": {},
   "source": [
    "Integramos de $0$ a $a$"
   ]
  },
  {
   "cell_type": "code",
   "execution_count": 6,
   "id": "8ef5746a",
   "metadata": {},
   "outputs": [
    {
     "data": {
      "image/png": "[encoded data removed]",
      "text/latex": [
       "$\\displaystyle - \\frac{\\sqrt{\\Omega_{r0}} \\sqrt{\\Omega_{r0} + a^{2} \\operatorname{polar\\_lift}{\\left(1 - \\Omega_{r0} \\right)}}}{H_{0} \\left(\\Omega_{r0}^{\\frac{3}{2}} - \\sqrt{\\Omega_{r0}}\\right)} + \\frac{\\Omega_{r0}}{H_{0} \\left(\\Omega_{r0}^{\\frac{3}{2}} - \\sqrt{\\Omega_{r0}}\\right)}$"
      ],
      "text/plain": [
       "                     ______________________________________________                                        \n",
       "    _____________   ╱                2                                                                     \n",
       "  ╲╱ \\Omega_{r0} ⋅╲╱  \\Omega_{r0} + a ⋅polar_lift(1 - \\Omega_{r0})                 \\Omega_{r0}             \n",
       "- ───────────────────────────────────────────────────────────────── + ─────────────────────────────────────\n",
       "                   ⎛           3/2     _____________⎞                    ⎛           3/2     _____________⎞\n",
       "                H₀⋅⎝\\Omega_{r0}    - ╲╱ \\Omega_{r0} ⎠                 H₀⋅⎝\\Omega_{r0}    - ╲╱ \\Omega_{r0} ⎠"
      ]
     },
     "execution_count": 6,
     "metadata": {},
     "output_type": "execute_result"
    }
   ],
   "source": [
    "r1=integrate(e1,(x,0,a))\n",
    "r1"
   ]
  },
  {
   "cell_type": "markdown",
   "id": "e813bcf2",
   "metadata": {},
   "source": [
    "Con sy.refine hacemos que $\\Omega_{r,0}-1>0$ i.e $\\Omega_{r,0}>1$, sin embargo el polar_lift no se va :("
   ]
  },
  {
   "cell_type": "code",
   "execution_count": 7,
   "id": "0dbfd51c",
   "metadata": {},
   "outputs": [
    {
     "data": {
      "image/png": "[encoded data removed]",
      "text/latex": [
       "$\\displaystyle t = \\frac{\\sqrt{\\Omega_{r0}} - \\sqrt{\\Omega_{r0} + a^{2} \\operatorname{polar\\_lift}{\\left(1 - \\Omega_{r0} \\right)}}}{H_{0} \\left(\\Omega_{r0} - 1\\right)}$"
      ],
      "text/plain": [
       "                         ______________________________________________\n",
       "      _____________     ╱                2                             \n",
       "    ╲╱ \\Omega_{r0}  - ╲╱  \\Omega_{r0} + a ⋅polar_lift(1 - \\Omega_{r0}) \n",
       "t = ───────────────────────────────────────────────────────────────────\n",
       "                            H₀⋅(\\Omega_{r0} - 1)                       "
      ]
     },
     "execution_count": 7,
     "metadata": {},
     "output_type": "execute_result"
    }
   ],
   "source": [
    "e11=Eq(sy.refine(r1,Q.positive(Omr_pos-1)),t)\n",
    "simplify(e11)"
   ]
  },
  {
   "cell_type": "markdown",
   "id": "de56a60b",
   "metadata": {},
   "source": [
    "Despejamos $a(t)$"
   ]
  },
  {
   "cell_type": "code",
   "execution_count": 8,
   "id": "a8fc9d7c",
   "metadata": {},
   "outputs": [
    {
     "data": {
      "image/png": "[encoded data removed]",
      "text/latex": [
       "$\\displaystyle \\left[ - \\frac{\\sqrt{- \\Omega_{r0}^{2} + \\left(H_{0} \\Omega_{r0}^{\\frac{3}{2}} t - H_{0} \\sqrt{\\Omega_{r0}} t - \\Omega_{r0}\\right)^{2}}}{\\sqrt{\\Omega_{r0}} \\sqrt{\\operatorname{polar\\_lift}{\\left(1 - \\Omega_{r0} \\right)}}}, \\  \\frac{\\sqrt{- \\Omega_{r0}^{2} + \\left(H_{0} \\Omega_{r0}^{\\frac{3}{2}} t - H_{0} \\sqrt{\\Omega_{r0}} t - \\Omega_{r0}\\right)^{2}}}{\\sqrt{\\Omega_{r0}} \\sqrt{\\operatorname{polar\\_lift}{\\left(1 - \\Omega_{r0} \\right)}}}\\right]$"
      ],
      "text/plain": [
       "⎡     ______________________________________________________________________________       ___________________________\n",
       "⎢    ╱                                                                            2       ╱                           \n",
       "⎢   ╱               2   ⎛              3/2          _____________                ⎞       ╱               2   ⎛        \n",
       "⎢-╲╱   - \\Omega_{r0}  + ⎝H₀⋅\\Omega_{r0}   ⋅t - H₀⋅╲╱ \\Omega_{r0} ⋅t - \\Omega_{r0}⎠     ╲╱   - \\Omega_{r0}  + ⎝H₀⋅\\Omeg\n",
       "⎢────────────────────────────────────────────────────────────────────────────────────, ───────────────────────────────\n",
       "⎢                    _____________   _____________________________                                        ____________\n",
       "⎣                  ╲╱ \\Omega_{r0} ⋅╲╱ polar_lift(1 - \\Omega_{r0})                                       ╲╱ \\Omega_{r0}\n",
       "\n",
       "___________________________________________________⎤\n",
       "                                                 2 ⎥\n",
       "      3/2          _____________                ⎞  ⎥\n",
       "a_{r0}   ⋅t - H₀⋅╲╱ \\Omega_{r0} ⋅t - \\Omega_{r0}⎠  ⎥\n",
       "───────────────────────────────────────────────────⎥\n",
       "_   _____________________________                  ⎥\n",
       " ⋅╲╱ polar_lift(1 - \\Omega_{r0})                   ⎦"
      ]
     },
     "execution_count": 8,
     "metadata": {},
     "output_type": "execute_result"
    }
   ],
   "source": [
    "sy.solve(e11,a)"
   ]
  },
  {
   "cell_type": "markdown",
   "id": "e09d7184",
   "metadata": {},
   "source": [
    "### b) $\\Omega_{r,0}<1$"
   ]
  },
  {
   "cell_type": "code",
   "execution_count": 9,
   "id": "cb992f99",
   "metadata": {},
   "outputs": [],
   "source": [
    "Omr_neg = sy.symbols('\\\\Omega_{r0}',negative=True)"
   ]
  },
  {
   "cell_type": "code",
   "execution_count": 10,
   "id": "1ae6f5c7",
   "metadata": {},
   "outputs": [
    {
     "data": {
      "image/png": "[encoded data removed]",
      "text/latex": [
       "$\\displaystyle \\frac{x}{H_{0} \\sqrt{\\Omega_{r0} + x^{2} \\left(1 - \\Omega_{r0}\\right)}}$"
      ],
      "text/plain": [
       "                    x                     \n",
       "──────────────────────────────────────────\n",
       "      ____________________________________\n",
       "     ╱                2                   \n",
       "H₀⋅╲╱  \\Omega_{r0} + x ⋅(1 - \\Omega_{r0}) "
      ]
     },
     "execution_count": 10,
     "metadata": {},
     "output_type": "execute_result"
    }
   ],
   "source": [
    "e2=(1/H0)*(x/sy.sqrt(Omr_neg+(1-Omr_neg)*x**2))\n",
    "e2"
   ]
  },
  {
   "cell_type": "code",
   "execution_count": 11,
   "id": "6bd63beb",
   "metadata": {},
   "outputs": [
    {
     "data": {
      "image/png": "[encoded data removed]",
      "text/latex": [
       "$\\displaystyle t = - \\frac{i \\left(\\Omega_{r0} + \\sqrt{- \\Omega_{r0}} \\sqrt{\\Omega_{r0} a^{2} - \\Omega_{r0} - a^{2}}\\right)}{H_{0} \\sqrt{- \\Omega_{r0}} \\left(\\Omega_{r0} - 1\\right)}$"
      ],
      "text/plain": [
       "       ⎛                                  ___________________________________⎞ \n",
       "       ⎜                ______________   ╱              2                  2 ⎟ \n",
       "    -ⅈ⋅⎝\\Omega_{r0} + ╲╱ -\\Omega_{r0} ⋅╲╱  \\Omega_{r0}⋅a  - \\Omega_{r0} - a  ⎠ \n",
       "t = ───────────────────────────────────────────────────────────────────────────\n",
       "                            ______________                                     \n",
       "                       H₀⋅╲╱ -\\Omega_{r0} ⋅(\\Omega_{r0} - 1)                   "
      ]
     },
     "execution_count": 11,
     "metadata": {},
     "output_type": "execute_result"
    }
   ],
   "source": [
    "r2=integrate(e2,(x,0,a))\n",
    "e22=Eq(sy.refine(r2,Q.negative(Omr_pos-1)),t) #con refine hacemos que Omegar0-1<0 i.e Omegar0<1\n",
    "simplify(e22)"
   ]
  },
  {
   "cell_type": "code",
   "execution_count": 12,
   "id": "5aa8d67f",
   "metadata": {},
   "outputs": [
    {
     "data": {
      "image/png": "[encoded data removed]",
      "text/latex": [
       "$\\displaystyle \\left[ - \\frac{\\sqrt{- \\Omega_{r0} + \\left(H_{0} \\Omega_{r0} t - H_{0} t - \\sqrt{\\Omega_{r0}}\\right)^{2}}}{\\sqrt{1 - \\Omega_{r0}}}, \\  \\frac{\\sqrt{- \\Omega_{r0} + \\left(H_{0} \\Omega_{r0} t - H_{0} t - \\sqrt{\\Omega_{r0}}\\right)^{2}}}{\\sqrt{1 - \\Omega_{r0}}}\\right]$"
      ],
      "text/plain": [
       "⎡     _____________________________________________________________       ____________________________________________\n",
       "⎢    ╱                                                           2       ╱                                            \n",
       "⎢   ╱                 ⎛                            _____________⎞       ╱                 ⎛                           \n",
       "⎢-╲╱   -\\Omega_{r0} + ⎝H₀⋅\\Omega_{r0}⋅t - H₀⋅t - ╲╱ \\Omega_{r0} ⎠     ╲╱   -\\Omega_{r0} + ⎝H₀⋅\\Omega_{r0}⋅t - H₀⋅t - ╲\n",
       "⎢───────────────────────────────────────────────────────────────────, ────────────────────────────────────────────────\n",
       "⎢                          _________________                                                   _________________      \n",
       "⎣                        ╲╱ 1 - \\Omega_{r0}                                                  ╲╱ 1 - \\Omega_{r0}       \n",
       "\n",
       "_________________⎤\n",
       "               2 ⎥\n",
       " _____________⎞  ⎥\n",
       "╱ \\Omega_{r0} ⎠  ⎥\n",
       "─────────────────⎥\n",
       "                 ⎥\n",
       "                 ⎦"
      ]
     },
     "execution_count": 12,
     "metadata": {},
     "output_type": "execute_result"
    }
   ],
   "source": [
    "r22=sy.solve(e22,a)\n",
    "r22"
   ]
  },
  {
   "cell_type": "markdown",
   "id": "885970a3",
   "metadata": {},
   "source": [
    "## 2. Compute $$t=\\frac{1}{H_0}\\int_0^a \\left[\\frac{x}{\\sqrt{\\Omega_{m,0}x+(\\Omega_{r,0})}}\\right]dx$$\n",
    "\n",
    "i.e. spatially-flat Friedmann model ($\\Omega_{\\Lambda,0}=0$,$\\Omega_{m,0}+\\Omega_{r,0}=1$)"
   ]
  },
  {
   "cell_type": "code",
   "execution_count": 41,
   "id": "6ee337a9",
   "metadata": {},
   "outputs": [],
   "source": [
    "x,y,t,a= symbols('x y t a')\n",
    "H0= symbols('H_0', positive=True)\n",
    "OmRad, OmMat = symbols('\\\\Omega_{r0} \\\\Omega_{m0}', positive=True)"
   ]
  },
  {
   "cell_type": "code",
   "execution_count": 42,
   "id": "ee5e8d91",
   "metadata": {},
   "outputs": [
    {
     "data": {
      "image/png": "[encoded data removed]",
      "text/latex": [
       "$\\displaystyle \\frac{x}{\\sqrt{\\Omega_{m0} x + \\Omega_{r0}}}$"
      ],
      "text/plain": [
       "               x               \n",
       "───────────────────────────────\n",
       "  _____________________________\n",
       "╲╱ \\Omega_{m0}⋅x + \\Omega_{r0} "
      ]
     },
     "execution_count": 42,
     "metadata": {},
     "output_type": "execute_result"
    }
   ],
   "source": [
    "e3=(x/sy.sqrt((OmMat*x)+OmRad))\n",
    "simplify(e3)"
   ]
  },
  {
   "cell_type": "markdown",
   "id": "d317f1a5",
   "metadata": {},
   "source": [
    "Según [Hobson, 2006, p. 403], es conveniente hacer el cambio de variable: $$y=\\Omega_{m,0}x+\\Omega_{r,0}$$"
   ]
  },
  {
   "cell_type": "markdown",
   "id": "a7122b85",
   "metadata": {},
   "source": [
    "De manera que $$x=\\frac{y-\\Omega_{r,0}}{\\Omega_{m,0}}$$ y $$dx=\\frac{1}{\\Omega_{m,0}}dy$$"
   ]
  },
  {
   "cell_type": "markdown",
   "id": "24f632e4",
   "metadata": {},
   "source": [
    "Nos queda entonces: $$H_0 t=\\frac{1}{\\Omega_{m,0}^2}\\int_0^a \\left[\\frac{y-\\Omega_{r,0}}{\\sqrt{y}}\\right]dy=\\frac{1}{\\Omega_{m,0}^2}\\int_0^a \\left[y^{1/2}-\\Omega_{r,0}y^{-1/2}\\right]dy$$"
   ]
  },
  {
   "cell_type": "code",
   "execution_count": 43,
   "id": "f7951c2d",
   "metadata": {},
   "outputs": [
    {
     "data": {
      "image/png": "[encoded data removed]",
      "text/latex": [
       "$\\displaystyle \\frac{- \\Omega_{r0} + y}{\\Omega_{m0}^{2} \\sqrt{y}}$"
      ],
      "text/plain": [
       "-\\Omega_{r0} + y\n",
       "────────────────\n",
       "           2    \n",
       "\\Omega_{m0} ⋅√y "
      ]
     },
     "execution_count": 43,
     "metadata": {},
     "output_type": "execute_result"
    }
   ],
   "source": [
    "e3=(1/Omm**2)*((y/sy.sqrt(y))-(OmRad/sy.sqrt(y)))\n",
    "simplify(e3)"
   ]
  },
  {
   "cell_type": "markdown",
   "id": "79f50bba",
   "metadata": {},
   "source": [
    "Ahora, para saber los límites de integración, sabemos que, en general, la 1a ec. de Friedmann nos dice: $$H^2(a)=H_0^2\\left[\\Omega_{r,0}a^{-4}+\\Omega_{m,0}a^{-3}+\\Omega_{k,0}a^{-2}+\\Omega_{\\Lambda,0}\\right]$$"
   ]
  },
  {
   "cell_type": "markdown",
   "id": "e8b02ebe",
   "metadata": {},
   "source": [
    "Con las condiciones que tenemos entonces $$\\frac{H^2(a)}{H_0^2}= a^{-4}\\left[\\Omega_{r,0}+\\Omega_{m,0}a\\right]$$"
   ]
  },
  {
   "cell_type": "markdown",
   "id": "dcb260b7",
   "metadata": {},
   "source": [
    "De manera que $$\\frac{H(a)}{H_0}=a^2{\\sqrt{\\Omega_{r,0}+\\Omega_{m,0}a}}$$"
   ]
  },
  {
   "cell_type": "markdown",
   "id": "5c15992b",
   "metadata": {},
   "source": [
    "La integral indefinida:"
   ]
  },
  {
   "cell_type": "code",
   "execution_count": 44,
   "id": "f021d6ee",
   "metadata": {},
   "outputs": [
    {
     "data": {
      "image/png": "[encoded data removed]",
      "text/latex": [
       "$\\displaystyle \\frac{2 \\left(\\Omega_{m0} a - 2 \\Omega_{r0}\\right) \\sqrt{\\Omega_{m0} a + \\Omega_{r0}}}{3 \\Omega_{m0}^{2}}$"
      ],
      "text/plain": [
       "                                    _____________________________\n",
       "2⋅(\\Omega_{m0}⋅a - 2⋅\\Omega_{r0})⋅╲╱ \\Omega_{m0}⋅a + \\Omega_{r0} \n",
       "─────────────────────────────────────────────────────────────────\n",
       "                                       2                         \n",
       "                          3⋅\\Omega_{m0}                          "
      ]
     },
     "execution_count": 44,
     "metadata": {},
     "output_type": "execute_result"
    }
   ],
   "source": [
    "r3=integrate(e3,(y,0,(OmRad+OmMat*a)))\n",
    "simplify(r3)"
   ]
  },
  {
   "cell_type": "markdown",
   "id": "368a0a4d",
   "metadata": {},
   "source": [
    "Ahora, evaluando en el intervalo (0,a), obtenemos la expresión para $H_0 t$"
   ]
  },
  {
   "cell_type": "code",
   "execution_count": 17,
   "id": "793e448a",
   "metadata": {},
   "outputs": [
    {
     "data": {
      "image/png": "[encoded data removed]",
      "text/latex": [
       "$\\displaystyle H_{0} t = \\frac{2 \\left(2 \\Omega_{r0}^{\\frac{3}{2}} - 3 \\Omega_{r0} \\sqrt{\\Omega_{m0} a + \\Omega_{r0}} + \\left(\\Omega_{m0} a + \\Omega_{r0}\\right)^{\\frac{3}{2}}\\right)}{3 \\Omega_{m0}^{2}}$"
      ],
      "text/plain": [
       "         ⎛             3/2                   _____________________________                                3/2⎞\n",
       "       2⋅⎝2⋅\\Omega_{r0}    - 3⋅\\Omega_{r0}⋅╲╱ \\Omega_{m0}⋅a + \\Omega_{r0}  + (\\Omega_{m0}⋅a + \\Omega_{r0})   ⎠\n",
       "H₀⋅t = ───────────────────────────────────────────────────────────────────────────────────────────────────────\n",
       "                                                                 2                                            \n",
       "                                                    3⋅\\Omega_{m0}                                             "
      ]
     },
     "execution_count": 17,
     "metadata": {},
     "output_type": "execute_result"
    }
   ],
   "source": [
    "e33=Eq(r3-r3.subs(a,0),H0*t) \n",
    "sy.simplify(e33)"
   ]
  },
  {
   "cell_type": "markdown",
   "id": "66d59a2c",
   "metadata": {},
   "source": [
    "---------------------------------"
   ]
  },
  {
   "cell_type": "markdown",
   "id": "bab02e83",
   "metadata": {},
   "source": [
    "## 3. Compute $$t=\\frac{1}{H_0}\\int_0^a\\sqrt{\\frac{x}{(1-\\Omega_{\\Lambda,0})+\\Omega_{\\Lambda,0}x^3}}dx$$\n",
    "\n",
    "i.e. spatially-flat Friedmann model"
   ]
  },
  {
   "cell_type": "markdown",
   "id": "06acfcb4",
   "metadata": {},
   "source": [
    "Usando el cambio de variable $y^2 = x^3 |\\Omega_\\Lambda|/(1-\\Omega_\\Lambda)$ sugerido por [Hobson, 2006, p.406] llegamos a $$x = \\sqrt[3]{\\frac{1-\\Omega_\\Lambda}{|\\Omega_\\Lambda|}} y ^{2/3}$$, $$dx = \\frac{2}{3\\sqrt{x}}\\sqrt{\\frac{1-\\Omega_\\Lambda}{\\Omega_\\Lambda}}$$. Sustituyendo adecuadamente se llega a la integral mucho más sencilla: $$H_0t = \\frac{2}{3\\sqrt{|\\Omega_\\Lambda|}} \\int_{0}^{\\sqrt{a^3\\frac{|\\Omega_\\Lambda|}{1-\\Omega_\\Lambda} }} \\frac{dy}{\\sqrt{1\\pm y^2}}$$ el signo positivo corresponde a $\\Omega_\\Lambda > 0$ y el signo negativo a $\\Omega_\\Lambda < 0$, integramos"
   ]
  },
  {
   "cell_type": "code",
   "execution_count": 45,
   "id": "d82adef9",
   "metadata": {},
   "outputs": [],
   "source": [
    "OmLambda=symbols('\\\\Omega_{\\\\Lambda}')"
   ]
  },
  {
   "cell_type": "markdown",
   "id": "684e7f8c",
   "metadata": {},
   "source": [
    "Caso positivo"
   ]
  },
  {
   "cell_type": "code",
   "execution_count": 46,
   "id": "faac9bee",
   "metadata": {},
   "outputs": [
    {
     "data": {
      "image/png": "[encoded data removed]",
      "text/latex": [
       "$\\displaystyle H_{0} t = \\frac{2 \\operatorname{asinh}{\\left(\\sqrt{\\frac{\\Omega_{\\Lambda} a^{3}}{1 - \\Omega_{\\Lambda}}} \\right)}}{3 \\sqrt{\\Omega_{\\Lambda}}}$"
      ],
      "text/plain": [
       "              ⎛     ______________________⎞\n",
       "              ⎜    ╱                   3  ⎟\n",
       "              ⎜   ╱  \\Omega_{\\Lambda}⋅a   ⎟\n",
       "       2⋅asinh⎜  ╱   ──────────────────── ⎟\n",
       "              ⎝╲╱    1 - \\Omega_{\\Lambda} ⎠\n",
       "H₀⋅t = ────────────────────────────────────\n",
       "                  __________________       \n",
       "              3⋅╲╱ \\Omega_{\\Lambda}        "
      ]
     },
     "execution_count": 46,
     "metadata": {},
     "output_type": "execute_result"
    }
   ],
   "source": [
    "res_pos=integrate(1/sy.sqrt(1+y**2),(y,0,sy.sqrt(a**3*(OmLambda/(1-OmLambda)))))\n",
    "sy.Eq(H0*t,(res_pos*(2/(3*sy.sqrt(OmLambda)))))"
   ]
  },
  {
   "cell_type": "markdown",
   "id": "16cd1bab",
   "metadata": {},
   "source": [
    "Caso negativo"
   ]
  },
  {
   "cell_type": "code",
   "execution_count": 47,
   "id": "e5853f87",
   "metadata": {},
   "outputs": [
    {
     "data": {
      "image/png": "[encoded data removed]",
      "text/latex": [
       "$\\displaystyle H_{0} t = \\frac{2 \\operatorname{asin}{\\left(\\sqrt{\\frac{\\Omega_{\\Lambda} a^{3}}{1 - \\Omega_{\\Lambda}}} \\right)}}{3 \\sqrt{\\Omega_{\\Lambda}}}$"
      ],
      "text/plain": [
       "             ⎛     ______________________⎞\n",
       "             ⎜    ╱                   3  ⎟\n",
       "             ⎜   ╱  \\Omega_{\\Lambda}⋅a   ⎟\n",
       "       2⋅asin⎜  ╱   ──────────────────── ⎟\n",
       "             ⎝╲╱    1 - \\Omega_{\\Lambda} ⎠\n",
       "H₀⋅t = ───────────────────────────────────\n",
       "                  __________________      \n",
       "              3⋅╲╱ \\Omega_{\\Lambda}       "
      ]
     },
     "execution_count": 47,
     "metadata": {},
     "output_type": "execute_result"
    }
   ],
   "source": [
    "res_neg=integrate(1/sy.sqrt(1-y**2),(y,0,sy.sqrt(a**3*(OmLambda/(1-OmLambda)))))\n",
    "sy.Eq(H0*t,(res_neg*(2/(3*sy.sqrt(OmLambda)))))"
   ]
  },
  {
   "cell_type": "markdown",
   "id": "db32ae18",
   "metadata": {},
   "source": [
    "## 4. Components of Universe are perfect, barotropic fluids"
   ]
  },
  {
   "cell_type": "markdown",
   "id": "3baae6ca",
   "metadata": {},
   "source": [
    "### a) Show that the continuity eqs. can be written as a dynamical system with the following form: \n",
    "\n",
    "\n",
    "$$\\Omega_i^\\prime = 3(\\Pi-\\gamma_i)\\Omega_i$$"
   ]
  },
  {
   "cell_type": "markdown",
   "id": "33684cac",
   "metadata": {},
   "source": [
    "Primero, la ecuación de estado para fluidos barotrópicos se define como $$P_i=(\\gamma_i-1)\\rho_i c^2$$\n",
    "\n",
    "Con $\\gamma_i$ para describir cada fluido (4/3 para radiación, 1 para materia y 0 para constante cosmológica)"
   ]
  },
  {
   "cell_type": "markdown",
   "id": "5179fd0b",
   "metadata": {},
   "source": [
    "Sabemos que la ecuación de continuidad está definida también por:\n",
    "\n",
    "$$\\dot{\\rho}+3H(\\rho+\\frac{P}{c^2})=0$$"
   ]
  },
  {
   "cell_type": "markdown",
   "id": "eb04537d",
   "metadata": {},
   "source": [
    "Sustituimos la ec. de estado barotrópica en la ec. de continuidad y:\n",
    "\n",
    "$$\\dot{\\rho}+3H(\\rho+(\\gamma-1)\\rho)=0$$\n",
    "$$\\dot{\\rho}+3H(\\rho\\gamma)=0$$\n",
    "\n",
    "Entonces\n",
    "\n",
    "$$\\dot{\\rho_i}=-3H(\\rho_i\\gamma_i)$$\n",
    "\n",
    "Para sustituir esta última expresión en la expresion de $\\Omega_i = \\frac{\\kappa_0}{3H^2}\\rho_i$, derivemos ésta última expresión con respecto al tiempo:\n",
    "\n",
    "$$\\dot{\\Omega_i}=\\frac{d}{dt}\\left(\\frac{\\kappa_0}{3H^2}\\rho_i\\right)$$"
   ]
  },
  {
   "cell_type": "markdown",
   "id": "973d84f8",
   "metadata": {},
   "source": [
    "$$\\dot{\\Omega_i}=\\frac{\\kappa_0}{3H^2}\\dot{\\rho_i}+\\frac{\\kappa_0\\rho_i}{3}(-2H^{-1}\\dot{H})=\\frac{\\kappa_0}{3H}\\left(\\frac{\\dot{\\rho_i}}{H}-2\\rho_i\\dot{H}\\right)$$"
   ]
  },
  {
   "cell_type": "markdown",
   "id": "e420a51e",
   "metadata": {},
   "source": [
    "Sustituimos $\\dot{\\rho_i}$ en la expresión anterior, entonces\n",
    "\n",
    "$$\\dot{\\Omega_i}=\\frac{\\kappa_0}{3H}\\left( -3\\rho_i\\gamma_i -2\\rho_i\\dot{H} \\right)$$\n",
    "\n",
    "factorizamos el $\\rho_i$ y, fuera del paréntesis tendremos $$\\frac{\\kappa_0\\rho_i}{3H}=\\Omega_i H$$ "
   ]
  },
  {
   "cell_type": "markdown",
   "id": "6b719f83",
   "metadata": {},
   "source": [
    "$$\\dot{\\Omega_i}=\\Omega_i H (-3\\gamma_i-2\\dot{H})=3\\Omega_i \\left(-\\gamma_i H-\\frac{2\\dot{H}H}{3}\\right)$$"
   ]
  },
  {
   "cell_type": "markdown",
   "id": "7d414b2a",
   "metadata": {},
   "source": [
    "#### Paréntesis "
   ]
  },
  {
   "cell_type": "markdown",
   "id": "3be516d7",
   "metadata": {},
   "source": [
    "--------------------------------"
   ]
  },
  {
   "cell_type": "markdown",
   "id": "9ba97411",
   "metadata": {},
   "source": [
    "Sabemos que $\\dot{H}H=\\left(\\frac{da}{dt}\\frac{1}{a}\\right) \\frac{d}{dt}\\left(\\frac{da}{dt}\\frac{1}{a}\\right)$"
   ]
  },
  {
   "cell_type": "markdown",
   "id": "88569687",
   "metadata": {},
   "source": [
    "Además, sabemos que \n",
    "\n",
    "$$\\int\\frac{du}{u}=ln(u)+C$$\n",
    "\n",
    "entonces,\n",
    "\n",
    "$$\\frac{du}{u}=dln(u)$$\n",
    "\n",
    "Para el caso del factor de escala tenemos entonces,\n",
    "\n",
    "$$H=\\frac{da}{dt}\\frac{1}{a}=\\frac{dln(a)}{dt}\\equiv \\frac{d(N)}{dt}$$\n"
   ]
  },
  {
   "cell_type": "markdown",
   "id": "ed47d8ac",
   "metadata": {},
   "source": [
    "Por ello, la derivada con respecto del parámetro de e-folding es\n",
    "\n",
    "$$\\frac{d}{dN}=\\frac{d}{dt}\\frac{1}{H}$$"
   ]
  },
  {
   "cell_type": "markdown",
   "id": "de234554",
   "metadata": {},
   "source": [
    "Así que $$\\frac{d}{dN}\\Omega_i=\\frac{1}{H}\\frac{d}{dt}\\Omega_i=\\frac{\\dot{\\Omega_i}}{H}$$"
   ]
  },
  {
   "cell_type": "markdown",
   "id": "0f1e7573",
   "metadata": {},
   "source": [
    "--------------------------"
   ]
  },
  {
   "cell_type": "markdown",
   "id": "27d97157",
   "metadata": {},
   "source": [
    "Aplicando esa última igualdad a la ecuación obtenida de $\\dot{\\Omega_i}$,\n",
    "\n",
    "$$\\frac{d}{dN}\\Omega_i=\\frac{\\dot{\\Omega_i}}{H}=3\\Omega_i\\left(-\\gamma_i -\\frac{2\\dot{H}}{3} \\right)$$"
   ]
  },
  {
   "cell_type": "markdown",
   "id": "b413aa0c",
   "metadata": {},
   "source": [
    "Finalmente, obtenemos el sistema dinámico:\n",
    "\n",
    "$$\\frac{d}{dN}\\Omega_i=\\Omega_i^{\\prime}=3\\Omega_i\\left(-\\gamma_i + \\Sigma\\Omega_i\\gamma_i \\right)=3\\Omega_i\\left(\\Pi-\\gamma_i \\right)$$"
   ]
  },
  {
   "cell_type": "markdown",
   "id": "921eeef5",
   "metadata": {},
   "source": [
    "Con $$\\Pi=\\Sigma\\Omega_i\\gamma_i$$"
   ]
  },
  {
   "cell_type": "markdown",
   "id": "3c23df3e",
   "metadata": {},
   "source": [
    "### b) Show that Friedmann equation becomes a constraint for density parameters $\\forall t$, $\\Sigma_i \\Omega_i = 1$"
   ]
  },
  {
   "cell_type": "markdown",
   "id": "0c36b653",
   "metadata": {},
   "source": [
    "Tomamos la ecuación de Friedmann $$H(a)^2=\\frac{8\\pi G}{3}\\rho(a)-\\frac{k}{a^2}$$"
   ]
  },
  {
   "cell_type": "markdown",
   "id": "343ac958",
   "metadata": {},
   "source": [
    "Y la definición de densidad crítica en términos del corrimiento al rojo: $$\\rho_c(a)=\\frac{3H(a)^2}{8\\pi G}$$"
   ]
  },
  {
   "cell_type": "markdown",
   "id": "29075ab4",
   "metadata": {},
   "source": [
    "Y dividimos la primera por la segunda:"
   ]
  },
  {
   "cell_type": "code",
   "execution_count": 48,
   "id": "449be13e",
   "metadata": {},
   "outputs": [
    {
     "data": {
      "image/png": "[encoded data removed]",
      "text/latex": [
       "$\\displaystyle \\frac{8 \\pi G \\rho}{3} - \\frac{k}{a^{2}}$"
      ],
      "text/plain": [
       "8⋅π⋅G⋅\\rho   k \n",
       "────────── - ──\n",
       "    3         2\n",
       "             a "
      ]
     },
     "execution_count": 48,
     "metadata": {},
     "output_type": "execute_result"
    }
   ],
   "source": [
    "G,k,rho,rho_c,H= symbols('G k \\\\rho \\\\rho_c H')\n",
    "eq1=8*sy.pi*G/3 * rho - (k/a**2)          #esto es igual a H0^2\n",
    "eq1"
   ]
  },
  {
   "cell_type": "code",
   "execution_count": 49,
   "id": "bc34f9a5",
   "metadata": {},
   "outputs": [
    {
     "data": {
      "image/png": "[encoded data removed]",
      "text/latex": [
       "$\\displaystyle \\frac{8 \\pi G \\rho_{c}}{3}$"
      ],
      "text/plain": [
       "8⋅π⋅G⋅\\rho_c\n",
       "────────────\n",
       "     3      "
      ]
     },
     "execution_count": 49,
     "metadata": {},
     "output_type": "execute_result"
    }
   ],
   "source": [
    "eq2=(8*sy.pi*G*rho_c)/3                   #esto es igual a H0^2 también\n",
    "eq2"
   ]
  },
  {
   "cell_type": "markdown",
   "id": "f7257d2d",
   "metadata": {},
   "source": [
    "Al dividir la ec. de Friedmann por $\\rho_c(a)$ en términos de $H_0^2$ nos queda $1$ del lado izquierdo:"
   ]
  },
  {
   "cell_type": "code",
   "execution_count": 50,
   "id": "e199300c",
   "metadata": {},
   "outputs": [
    {
     "data": {
      "image/png": "[encoded data removed]",
      "text/latex": [
       "$\\displaystyle 1 = \\frac{\\rho}{\\rho_{c}} - \\frac{3 k}{8 \\pi G \\rho_{c} a^{2}}$"
      ],
      "text/plain": [
       "     \\rho          3⋅k      \n",
       "1 = ────── - ───────────────\n",
       "    \\rho_c                 2\n",
       "             8⋅π⋅G⋅\\rho_c⋅a "
      ]
     },
     "execution_count": 50,
     "metadata": {},
     "output_type": "execute_result"
    }
   ],
   "source": [
    "eq3=Eq(1,simplify(eq1/eq2))\n",
    "eq3"
   ]
  },
  {
   "cell_type": "markdown",
   "id": "dc17eecc",
   "metadata": {},
   "source": [
    "Por la definición de $\\rho_c$ notamos que $3/8\\pi G\\rho_c=1/H^2$"
   ]
  },
  {
   "cell_type": "code",
   "execution_count": 51,
   "id": "9c8fcda9",
   "metadata": {},
   "outputs": [
    {
     "data": {
      "image/png": "[encoded data removed]",
      "text/latex": [
       "$\\displaystyle 1 = \\frac{\\rho}{\\rho_{c}} - \\frac{k}{H a^{2}}$"
      ],
      "text/plain": [
       "     \\rho     k  \n",
       "1 = ────── - ────\n",
       "    \\rho_c      2\n",
       "             H⋅a "
      ]
     },
     "execution_count": 51,
     "metadata": {},
     "output_type": "execute_result"
    }
   ],
   "source": [
    "eq4=eq3.subs(3/(8*sy.pi*G*rho_c),1/H)\n",
    "eq4"
   ]
  },
  {
   "cell_type": "markdown",
   "id": "d4c83738",
   "metadata": {},
   "source": [
    "Y por la definición de densidad física de una especie x: $$\\Omega(a)_x\\equiv \\frac{\\rho(a)_x}{\\rho_c(a)_x}$$"
   ]
  },
  {
   "cell_type": "code",
   "execution_count": 52,
   "id": "62c0eb4a",
   "metadata": {},
   "outputs": [
    {
     "data": {
      "image/png": "[encoded data removed]",
      "text/latex": [
       "$\\displaystyle 1 = \\Omega - \\frac{k}{H a^{2}}$"
      ],
      "text/plain": [
       "              k  \n",
       "1 = \\Omega - ────\n",
       "                2\n",
       "             H⋅a "
      ]
     },
     "execution_count": 52,
     "metadata": {},
     "output_type": "execute_result"
    }
   ],
   "source": [
    "Omega,Omegak = symbols('\\\\Omega \\\\Omega_k')\n",
    "eq1=eq4.subs(rho/rho_c,Omega)\n",
    "eq1"
   ]
  },
  {
   "cell_type": "markdown",
   "id": "e4da870f",
   "metadata": {},
   "source": [
    "y como $$\\Omega_k\\equiv-\\frac{k}{H(a)a^2}$$"
   ]
  },
  {
   "cell_type": "code",
   "execution_count": 96,
   "id": "580cde81",
   "metadata": {},
   "outputs": [
    {
     "data": {
      "image/png": "[encoded data removed]",
      "text/latex": [
       "$\\displaystyle 1 = \\Omega + \\Omega_{k}$"
      ],
      "text/plain": [
       "1 = \\Omega + \\Omegaₖ"
      ]
     },
     "execution_count": 96,
     "metadata": {},
     "output_type": "execute_result"
    }
   ],
   "source": [
    "eq2=eq1.subs(-k/(H*a**2),Omegak)\n",
    "eq2"
   ]
  },
  {
   "cell_type": "markdown",
   "id": "3e0fb9c7",
   "metadata": {},
   "source": [
    "y como $\\Omega$ se refiere a la suma de todas las especiese/fluidos cosmológicos tenemos que la suma de densidades físicas es igual a 1 $\\forall a$"
   ]
  },
  {
   "cell_type": "markdown",
   "id": "4e8d9d7e",
   "metadata": {},
   "source": [
    "### c) Solve dynamical system and plot with \n",
    "\n",
    "$\\Omega_{r,0}=10^{-4}$, $\\Omega_{m,0}=0.3$, $\\Omega_{k,0}=-0.01$, $H_0=68 \\text{km s^{-1}Mpc}$ and cosmological constant. "
   ]
  },
  {
   "cell_type": "markdown",
   "id": "04d5d7c7",
   "metadata": {},
   "source": [
    "Usando la condición de constricción $$\\Sigma \\Omega_i=1$$"
   ]
  },
  {
   "cell_type": "code",
   "execution_count": 103,
   "id": "6bd90d98",
   "metadata": {},
   "outputs": [
    {
     "name": "stdout",
     "output_type": "stream",
     "text": [
      "\\Omega_{\\Lambda}= 0.7099\n"
     ]
    }
   ],
   "source": [
    "OmR = 1e-4 \n",
    "OmM = 0.3\n",
    "OmK = -0.01\n",
    "OmL = 1-(OmR+OmM+OmK)\n",
    "H0 = 68\n",
    "\n",
    "gR=4./3.\n",
    "gM=1.\n",
    "gL=0.\n",
    "\n",
    "print('\\Omega_{\\Lambda}=',OmL)"
   ]
  },
  {
   "cell_type": "markdown",
   "id": "cea260bf",
   "metadata": {},
   "source": [
    "Sistema de ecuaciones (usaremos el sistema dinámico):\n",
    "\n",
    "$$\\frac{d}{dN}\\Omega_i=\\Omega_i^{\\prime}=3\\Omega_i\\left(-\\gamma_i + \\Sigma\\Omega_i\\gamma_i \\right)$$\n",
    "\n",
    "con $dN=dln(a)$"
   ]
  },
  {
   "cell_type": "code",
   "execution_count": 122,
   "id": "d2498bb9",
   "metadata": {},
   "outputs": [],
   "source": [
    "from sympy import dsolve, Derivative\n",
    "\n",
    "Pi=(OmR*gR)+(OmM*gM)+(OmL*gL)\n",
    "a,N = symbols('a N')\n",
    "\n",
    "#radiación\n",
    "OmR_f=Function('\\\\Omega_m')\n",
    "eq1=Eq(Derivative(OmR_f(a),N),3*OmR_f(a)*(Pi-gR))\n",
    "\n",
    "#materia\n",
    "OmM_f=Function('\\\\Omega_m')\n",
    "eq2=Eq(Derivative(OmR_f(a),N),3*OmM_f(a)*(Pi-gM))\n",
    "\n",
    "#radiación\n",
    "OmL_f=Function('\\\\Omega_{\\Lambda}')\n",
    "eq3=Eq(Derivative(OmL_f(a),N),3*OmL_f(a)*(Pi-gL))\n"
   ]
  },
  {
   "cell_type": "code",
   "execution_count": 123,
   "id": "f758ad29",
   "metadata": {},
   "outputs": [
    {
     "data": {
      "image/png": "[encoded data removed]",
      "text/latex": [
       "$\\displaystyle \\left( \\frac{d}{d N} \\Omega_{m}{\\left(a \\right)} = - 3.0996 \\Omega_{m}{\\left(a \\right)}, \\  \\frac{d}{d N} \\Omega_{m}{\\left(a \\right)} = - 2.0996 \\Omega_{m}{\\left(a \\right)}, \\  \\frac{d}{d N} \\Omega_{\\Lambda}{\\left(a \\right)} = 0.9004 \\Omega_{\\Lambda}{\\left(a \\right)}\\right)$"
      ],
      "text/plain": [
       "⎛d                                    d                                    d                                          \n",
       "⎜──(\\Omegaₘ(a)) = -3.0996⋅\\Omegaₘ(a), ──(\\Omegaₘ(a)) = -2.0996⋅\\Omegaₘ(a), ──(\\Omega_{\\Lambda}(a)) = 0.9004⋅\\Omega_{\\L\n",
       "⎝dN                                   dN                                   dN                                         \n",
       "\n",
       "         ⎞\n",
       "ambda}(a)⎟\n",
       "         ⎠"
      ]
     },
     "execution_count": 123,
     "metadata": {},
     "output_type": "execute_result"
    }
   ],
   "source": [
    "(eq1,eq2,eq3)"
   ]
  },
  {
   "cell_type": "code",
   "execution_count": 120,
   "id": "e080c8c8",
   "metadata": {},
   "outputs": [
    {
     "ename": "SyntaxError",
     "evalue": "invalid syntax (1772249287.py, line 1)",
     "output_type": "error",
     "traceback": [
      "\u001b[0;36m  File \u001b[0;32m\"/tmp/ipykernel_21055/1772249287.py\"\u001b[0;36m, line \u001b[0;32m1\u001b[0m\n\u001b[0;31m    dsolve(eq1,OmR_f(a),ics{a=1})\u001b[0m\n\u001b[0m                           ^\u001b[0m\n\u001b[0;31mSyntaxError\u001b[0m\u001b[0;31m:\u001b[0m invalid syntax\n"
     ]
    }
   ],
   "source": [
    "dsolve(eq1,OmR_f(a),ics{a=1})"
   ]
  },
  {
   "cell_type": "markdown",
   "id": "0ff2c700",
   "metadata": {},
   "source": [
    "## ¡¡Ayuda!!\n",
    "No pude resolver, me costó mucho trabajo expresar la ecuación diferencial en términos de a, ya que está en términos de N=ln(a) y dsolve no resuelve con respecto a ln. por otro lado si d/dN = d/dt 1/H, no sé qué hacer con el d/dt\n"
   ]
  },
  {
   "cell_type": "markdown",
   "id": "5a79b24e",
   "metadata": {},
   "source": [
    "Hay otra forma de obtener los plots, aunque sé que el problema no lo pedía así (tomado de un workshop de cosmo con python):"
   ]
  },
  {
   "cell_type": "code",
   "execution_count": 127,
   "id": "1b749643",
   "metadata": {},
   "outputs": [],
   "source": [
    "# Parametro de Hubble normalizado E(z) = H(z)/H_0\n",
    "def Ez_LCDM(z):\n",
    "    ez = np.sqrt(OmCDM*(1+z)**3 + OmB*(1+z)**3 + OmR*(1+z)**4 + OmDE)\n",
    "    return ez\n",
    "\n",
    "def OmegaDEz_LCDM(z):\n",
    "  omde = OmDE/Ez_LCDM(z)**2\n",
    "  return omde\n",
    "\n",
    "def OmegaRz_LCDM(z):\n",
    "  omcdm = OmR*(1+z)**4/Ez_LCDM(z)**2\n",
    "  return omcdm \n",
    "\n",
    "def OmegaBz_LCDM(z):\n",
    "    omb = OmB*(1+z)**3/Ez_LCDM(z)**2\n",
    "    return omb\n",
    "\n",
    "def OmegaCDMz_LCDM(z):\n",
    "    omcdm = OmCDM*(1+z)**3/Ez_LCDM(z)**2\n",
    "    return omcdm\n",
    "\n",
    "def OmegaMz_LCDM(z):\n",
    "    omm = OmegaCDMz_LCDM(z) + OmegaBz_LCDM(z)\n",
    "    return omm\n",
    "\n",
    "# Planck constraints 2018 -- arXiv:1807.06209\n",
    "OmCDM,OmB,OmR = 0.265, 0.05,5.047e-5 \n",
    "OmDE = 1 - (OmCDM + OmB + OmR)\n",
    "H0 = 67.27 # km/s/Mpc\n",
    "OmM = OmCDM + OmB"
   ]
  },
  {
   "cell_type": "code",
   "execution_count": 129,
   "id": "8ddeaeff",
   "metadata": {},
   "outputs": [
    {
     "data": {
      "text/plain": [
       "<matplotlib.legend.Legend at 0x7f46c8bd41f0>"
      ]
     },
     "execution_count": 129,
     "metadata": {},
     "output_type": "execute_result"
    },
    {
     "data": {
      "image/png": "[encoded data removed]",
      "text/plain": [
       "<Figure size 720x576 with 1 Axes>"
      ]
     },
     "metadata": {
      "needs_background": "light"
     },
     "output_type": "display_data"
    }
   ],
   "source": [
    "z_to_plot = np.logspace(-4,7.,300)\n",
    "\n",
    "fig, ax = plt.subplots(1,1,figsize=(10,8))\n",
    "\n",
    "#ax.axvspan(z_r_m,1e7,color='orange',alpha=0.3)\n",
    "#ax.axvspan(z_m_de,z_r_m,color='green',alpha=0.3)\n",
    "#ax.axvspan(1e-4,z_m_de,color='blue',alpha=0.3)\n",
    "\n",
    "ax.loglog(z_to_plot,OmegaDEz_LCDM(z_to_plot),label=r'$\\Omega_{\\Lambda}$')\n",
    "ax.loglog(z_to_plot,OmegaRz_LCDM(z_to_plot),label=r'$\\Omega_{r}$')\n",
    "ax.loglog(z_to_plot,OmegaMz_LCDM(z_to_plot),label=r'$\\Omega_{m}$')\n",
    "ax.loglog(z_to_plot,OmegaCDMz_LCDM(z_to_plot),'--',label=r'$\\Omega_{cdm}$')\n",
    "ax.loglog(z_to_plot,OmegaBz_LCDM(z_to_plot),'-.',label=r'$\\Omega_{b}$')\n",
    "\n",
    "ax.set_xlabel(r'$z$',fontsize=18)\n",
    "ax.set_ylabel(r'$\\Omega_x$',fontsize=18)\n",
    "ax.legend(ncol=5, borderaxespad=0.,bbox_to_anchor=(1., 1.08),frameon=False,fontsize=18)"
   ]
  },
  {
   "cell_type": "markdown",
   "id": "79706a4d",
   "metadata": {},
   "source": [
    "### d) Deceleration parameter"
   ]
  },
  {
   "cell_type": "code",
   "execution_count": 133,
   "id": "64a9193c",
   "metadata": {},
   "outputs": [],
   "source": [
    "# parametro de desaceleracion\n",
    "def qz_LCDM(z):\n",
    "    qz = 0.5*(OmegaMz_LCDM(z) + 2*OmegaRz_LCDM(z) - 2*OmegaDEz_LCDM(z))\n",
    "    return qz\n",
    "\n",
    "# redshift de transicion de q > 0 ----> q < 0\n",
    "from scipy import optimize\n",
    "z_trans = optimize.root_scalar(qz_LCDM,bracket=[0.5,1.5])"
   ]
  },
  {
   "cell_type": "code",
   "execution_count": 135,
   "id": "eda52931",
   "metadata": {},
   "outputs": [
    {
     "data": {
      "text/plain": [
       "Text(0, 0.5, '')"
      ]
     },
     "execution_count": 135,
     "metadata": {},
     "output_type": "execute_result"
    },
    {
     "data": {
      "image/png": "[encoded data removed]",
      "text/plain": [
       "<Figure size 720x576 with 1 Axes>"
      ]
     },
     "metadata": {
      "needs_background": "light"
     },
     "output_type": "display_data"
    }
   ],
   "source": [
    "z_to_plot = np.logspace(-4,7.,300)\n",
    "\n",
    "fig, ax = plt.subplots(1,1,figsize=(10,8))\n",
    "\n",
    "#ax.axhline(0.,color='red',ls='--')\n",
    "#ax.axhline(-1./3.,color='k',ls='--')\n",
    "\n",
    "#ax.axvline(z_trans.root,color='gray',ls='--')\n",
    "\n",
    "ax.semilogx(z_to_plot,qz_LCDM(z_to_plot),color='red',label=r'$q(z)$')\n",
    "\n",
    "ax.legend(loc=0,frameon=False)\n",
    "\n",
    "ax.set_xlabel(r'$z$',fontsize=18)\n",
    "ax.set_ylabel(r'',fontsize=18)"
   ]
  },
  {
   "cell_type": "markdown",
   "id": "7553a351",
   "metadata": {},
   "source": [
    "## 5. Plot of comoving, luminosity and angular diameter distances"
   ]
  },
  {
   "cell_type": "code",
   "execution_count": 54,
   "id": "7a92ab81",
   "metadata": {},
   "outputs": [],
   "source": [
    "import scipy as sp\n",
    "import numpy as np\n",
    "import matplotlib.pyplot as plt\n",
    "from scipy import constants\n",
    "import scipy.integrate\n",
    "sp_int=scipy.integrate"
   ]
  },
  {
   "cell_type": "code",
   "execution_count": 94,
   "id": "d7f48e6a",
   "metadata": {},
   "outputs": [],
   "source": [
    "# Contenido energético al día de hoy y constantes de Hubble \n",
    "OmR = 1e-4 \n",
    "OmM = 0.3\n",
    "OmK = -0.01\n",
    "OmL = 1-(OmR+OmM+OmK)\n",
    "H0 = 68                  # km/s/Mpc"
   ]
  },
  {
   "cell_type": "markdown",
   "id": "6901b3a4",
   "metadata": {},
   "source": [
    "La ecuación de Friedmann para un Universo con curvatura arbitraria, en términos de los parámetros físicos $\\Omega_i$ es: \n",
    "\n",
    "$$H(a)^2=H_0^2\\left[\\Omega_r^0 a^{-4}+\\Omega_m^0 a^{-3}+\\Omega_k^0 a^{-2}+\\Omega_{\\Lambda}^0\\right]$$\n",
    "\n",
    "$$H(a)^2=H_0^2\\left[\\Omega_r^0 (1+z)^{4}+\\Omega_m^0 (1+z)^{3}+\\Omega_k^0 (1+z)^{2}+\\Omega_{\\Lambda}^0\\right]$$\n"
   ]
  },
  {
   "cell_type": "code",
   "execution_count": 76,
   "id": "6b06f2fa",
   "metadata": {},
   "outputs": [],
   "source": [
    "# Parametro de Hubble normalizado E(z) = H(z)/H_0\n",
    "def Hz(z):\n",
    "    Hz = H0*(np.sqrt(OmR*(1+z)**4 + OmM*(1+z)**3 + OmK*(1+z)**2 + OmL))\n",
    "    return Hz"
   ]
  },
  {
   "cell_type": "code",
   "execution_count": 83,
   "id": "e06fb2e5",
   "metadata": {},
   "outputs": [],
   "source": [
    "c_const = sp.constants.c*1e-3\n",
    "\n",
    "# R function:\n",
    "R0 = 1/(H0*np.sqrt(np.abs(OmK)))\n",
    "\n",
    "# comoving distance\n",
    "def Cd(z):\n",
    "    chi = lambda z: (c_const/R0)*(1/Hz(z))\n",
    "    d1 = sp_int.quad(chi,0.,z)[0]\n",
    "    return d1\n",
    "Cd = np.vectorize(Cd)\n",
    "\n",
    "# luminosity distance\n",
    "def Ld(z):\n",
    "    d2 = (1+z)*Cd(z)\n",
    "    return d2\n",
    "\n",
    "# angular diameter distance\n",
    "def ADd(z):\n",
    "    d3 = Cd(z)/(1+z)\n",
    "    return d3"
   ]
  },
  {
   "cell_type": "code",
   "execution_count": 95,
   "id": "1e766022",
   "metadata": {},
   "outputs": [
    {
     "data": {
      "image/png": "[encoded data removed]",
      "text/latex": [
       "$\\displaystyle \\left( 0.01, \\  14.1105441729176\\right)$"
      ],
      "text/plain": [
       "(0.01, 14.110544172917587)"
      ]
     },
     "execution_count": 95,
     "metadata": {},
     "output_type": "execute_result"
    },
    {
     "data": {
      "image/png": "[encoded data removed]",
      "text/plain": [
       "<Figure size 720x576 with 1 Axes>"
      ]
     },
     "metadata": {
      "needs_background": "light"
     },
     "output_type": "display_data"
    }
   ],
   "source": [
    "z_range = np.arange(0.,10.,0.01)\n",
    "\n",
    "fig, ax = plt.subplots(figsize=(10,8))\n",
    "\n",
    "ax.plot(z_range,Cd(z_range),'r-',label='Comoving distance')\n",
    "ax.plot(z_range,Ld(z_range),'g-.',label='Luminosity distance')\n",
    "ax.plot(z_range,ADd(z_range),'k',label='Angular-diameter distance')\n",
    "\n",
    "ax.legend()\n",
    "ax.set_xlabel(r'$z$', fontsize=14)\n",
    "ax.set_ylabel(r'$d(z)$',fontsize=14)\n",
    "ax.set_yscale('log')\n",
    "ax.set_xscale('log')\n",
    "ax.set_xlim(0.01)"
   ]
  }
 ],
 "metadata": {
  "kernelspec": {
   "display_name": "Python 3 (ipykernel)",
   "language": "python",
   "name": "python3"
  },
  "language_info": {
   "codemirror_mode": {
    "name": "ipython",
    "version": 3
   },
   "file_extension": ".py",
   "mimetype": "text/x-python",
   "name": "python",
   "nbconvert_exporter": "python",
   "pygments_lexer": "ipython3",
   "version": "3.9.7"
  }
 },
 "nbformat": 4,
 "nbformat_minor": 5
}
