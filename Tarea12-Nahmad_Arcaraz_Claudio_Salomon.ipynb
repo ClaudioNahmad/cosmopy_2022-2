{
 "cells": [
  {
   "cell_type": "markdown",
   "id": "f05c3169",
   "metadata": {},
   "source": [
    "# Tarea 12. Algorítmos \"genéticos\" "
   ]
  },
  {
   "cell_type": "code",
   "execution_count": 8,
   "id": "e1d3a99c",
   "metadata": {},
   "outputs": [],
   "source": [
    "import numpy as np\n",
    "import matplotlib.pyplot as plt\n",
    "import scipy.constants as cte\n",
    "from scipy.integrate import quad\n",
    "import pandas as pd\n",
    "\n",
    "# Importamos libreria de algoritmos evolutivos \n",
    "\n",
    "from deap import base, creator, tools, algorithms\n",
    "\n",
    "# importamos modulo independiente para acoplar a DEAP, adjunto en la carpeta fuente. \n",
    "\n",
    "import elitism\n",
    "\n",
    "# We import an independent module to implement elitism in the GA.\n",
    "\n",
    "import random"
   ]
  },
  {
   "cell_type": "code",
   "execution_count": 9,
   "id": "9ad35027",
   "metadata": {},
   "outputs": [],
   "source": [
    "#tex PREAMBLE\n",
    "\n",
    "from matplotlib import animation, rc\n",
    "#from IPython.display import HTML\n",
    "#%matplotlib inline\n",
    "#sb.set()\n",
    "#******************************************************\n",
    "\n",
    "#rc('font',**{'family':'serif','serif':['Times']})\n",
    "## for Palatino and other serif fonts use:\n",
    "#rc('font',**{'family':'serif','serif':['Palatino']})\n",
    "rc('text', usetex=True)\n",
    "\n",
    "#LaTeX\n",
    "plt.rc('text', usetex=True)\n",
    "plt.rc('font', family='serif')\n"
   ]
  },
  {
   "cell_type": "markdown",
   "id": "17bdda8e",
   "metadata": {},
   "source": [
    "Importamos los datos de cronometros cósmicos"
   ]
  },
  {
   "cell_type": "code",
   "execution_count": 10,
   "id": "a99409a3",
   "metadata": {},
   "outputs": [],
   "source": [
    "data_cc = np.loadtxt('cosmic_clocks_2022_nomethod.csv',delimiter=',',dtype=float, skiprows=1)\n",
    "data1= pd.DataFrame(data_cc, columns=['z','Hz','error_Hz'])"
   ]
  },
  {
   "cell_type": "code",
   "execution_count": 11,
   "id": "ba7381ab",
   "metadata": {},
   "outputs": [],
   "source": [
    "z_obs = data_cc[:,0]\n",
    "Hz = data_cc[:,1]\n",
    "dHz = data_cc[:,2]"
   ]
  },
  {
   "cell_type": "code",
   "execution_count": 12,
   "id": "e82457db",
   "metadata": {},
   "outputs": [],
   "source": [
    "# Ecuación de Friedmann para w(z) de CPL (visto en tarea 9)\n",
    "def Hz_CPL(z,w_0,w_a):\n",
    "\n",
    "    # Usando datos de Planck 2018: \n",
    "    # Tabla 2: TT,TE,EE+lowE+lensing+BAO\n",
    "    \n",
    "    #OmR = 1e-4 \n",
    "    #OmK = -0.01\n",
    "    OmDE = 0.6889\n",
    "    OmM = 0.3111\n",
    "    H0 = 67.66               \n",
    "    \n",
    "    #Hz = H0*np.sqrt(OmR*(1+z)**4+OmM*(1+z)**3 + OmK*(1+z)**2 + OmDE*(1+z)**(3*(w_0+w_a+1)*np.exp(-3*w_a*z/1+z)))\n",
    "    Hz = H0*np.sqrt(OmM*(1+z)**3 + OmDE*(1+z)**(3*(w_0+w_a+1)*np.exp(-3*w_a*z/1+z)))\n",
    "    return Hz"
   ]
  },
  {
   "cell_type": "code",
   "execution_count": 13,
   "id": "8f0db29e",
   "metadata": {},
   "outputs": [],
   "source": [
    "# # We define the marginalized Chi-Square.\n",
    "\n",
    "def X(w_0, w_a):\n",
    "    H_model = np.array([Hz_CPL(z,w_0,w_a) for z in z_obs])\n",
    "    X_vec = np.power(((H_model - Hz) / dHz), 2)\n",
    "    return X_vec.sum()\n",
    "\n",
    "def Y(w_0, w_a):\n",
    "    H_model = np.array([Hz_CPL(z,w_0,w_a) for z in z_obs])\n",
    "    Y_vec = (H_model - Hz) / dHz**2\n",
    "    return Y_vec.sum()\n",
    "\n",
    "def Z(w_0, w_a):\n",
    "    H_model = np.array([Hz_CPL(z,w_0,w_a) for z in z_obs])\n",
    "    Z_vec = 1.0/dHz**2\n",
    "    return Z_vec.sum()\n",
    "\n",
    "def chisq(individual):\n",
    "    w_0=individual[0]\n",
    "    w_a=individual[1]\n",
    "    \n",
    "    m_model = np.array([Hz_CPL(z,w_0,w_a) for z in z_obs])\n",
    "    chisq_vec = X(w_0, w_a) - Y(w_0, w_a)**2/Z(w_0, w_a) + np.log10(Z(w_0, w_a)/2*np.pi)\n",
    "    f=chisq_vec.sum()\n",
    "    return f,"
   ]
  },
  {
   "cell_type": "code",
   "execution_count": 14,
   "id": "882d62e4",
   "metadata": {},
   "outputs": [],
   "source": [
    "# problem constants:\n",
    "DIMENSIONS = 2  # number of dimensions\n",
    "BOUND_LOW, BOUND_UP = -1.2, 0.0  # boundaries for all dimensions\n",
    "#BOUND_LOW, BOUND_UP = -1, -0.05  # boundaries for all dimensions\n",
    "#BOUND_LOW, BOUND_UP = -2.0, -0.05  # boundaries for all dimensions\n",
    "\n",
    "\n",
    "\n",
    "# Genetic Algorithm constants:\n",
    "POPULATION_SIZE = 20  # 10-20\n",
    "P_CROSSOVER = 0.7  # probability for crossover\n",
    "P_MUTATION = 0.3   # (try also 0.5) probability for mutating an individual\n",
    "MAX_GENERATIONS = 20  # 100- 300\n",
    "HALL_OF_FAME_SIZE = 1\n",
    "CROWDING_FACTOR = 20.0  # crowding factor for crossover and mutation\n",
    "\n",
    "# set the random seed:\n",
    "RANDOM_SEED = 555\n",
    "random.seed(RANDOM_SEED)"
   ]
  },
  {
   "cell_type": "code",
   "execution_count": 15,
   "id": "15248955",
   "metadata": {},
   "outputs": [],
   "source": [
    "toolbox = base.Toolbox()"
   ]
  },
  {
   "cell_type": "code",
   "execution_count": 16,
   "id": "e65a2210",
   "metadata": {},
   "outputs": [],
   "source": [
    "# define a single objective, minimizing fitness strategy:\n",
    "creator.create(\"FitnessMin\", base.Fitness, weights=(-1.0,))\n",
    "\n",
    "# create the Individual class based on list:\n",
    "creator.create(\"Individual\", list, fitness=creator.FitnessMin)\n",
    "\n",
    "# helper function for creating random real numbers uniformly distributed within a given range [low, up]\n",
    "# it assumes that the range is the same for every dimension\n",
    "def randomFloat(low, up):\n",
    "    return [random.uniform(l, u) for l, u in zip([low] * DIMENSIONS, [up] * DIMENSIONS)]\n",
    "\n",
    "# create an operator that randomly returns a float in the desired range and dimension:\n",
    "toolbox.register(\"attrFloat\", randomFloat, BOUND_LOW, BOUND_UP)\n",
    "\n",
    "# create the individual operator to fill up an Individual instance:\n",
    "toolbox.register(\"individualCreator\", tools.initIterate, creator.Individual, toolbox.attrFloat)\n",
    "\n",
    "# create the population operator to generate a list of individuals:\n",
    "toolbox.register(\"populationCreator\", tools.initRepeat, list, toolbox.individualCreator)"
   ]
  },
  {
   "cell_type": "code",
   "execution_count": 17,
   "id": "7848a2f7",
   "metadata": {},
   "outputs": [],
   "source": [
    "toolbox.register(\"evaluate\", chisq)"
   ]
  },
  {
   "cell_type": "code",
   "execution_count": 18,
   "id": "c4fa23ca",
   "metadata": {},
   "outputs": [],
   "source": [
    "# genetic operators:\n",
    "toolbox.register(\"select\", tools.selTournament, tournsize=2)\n",
    "toolbox.register(\"mate\", tools.cxSimulatedBinaryBounded, low=BOUND_LOW, up=BOUND_UP, eta=CROWDING_FACTOR)\n",
    "toolbox.register(\"mutate\", tools.mutPolynomialBounded, low=BOUND_LOW, up=BOUND_UP, \n",
    "                 eta=CROWDING_FACTOR, indpb=1.0/DIMENSIONS)"
   ]
  },
  {
   "cell_type": "code",
   "execution_count": 19,
   "id": "c2b233ac",
   "metadata": {},
   "outputs": [],
   "source": [
    "# Genetic Algorithm flow:\n",
    "def main():\n",
    "\n",
    "    # create initial population (generation 0):\n",
    "    population = toolbox.populationCreator(n=POPULATION_SIZE)\n",
    "\n",
    "    # prepare the statistics object:\n",
    "    stats = tools.Statistics(lambda ind: ind.fitness.values)\n",
    "    stats.register(\"min\", np.min)\n",
    "    stats.register(\"avg\", np.mean)\n",
    "\n",
    "    # define the hall-of-fame object:\n",
    "    hof = tools.HallOfFame(HALL_OF_FAME_SIZE)\n",
    "\n",
    "    # perform the Genetic Algorithm flow with elitism:\n",
    "    population, logbook = elitism.eaSimpleWithElitism(population, toolbox, cxpb=P_CROSSOVER, mutpb=P_MUTATION,\n",
    "                                              ngen=MAX_GENERATIONS, stats=stats, halloffame=hof, verbose=True)\n",
    "\n",
    "    # print info for best solution found:\n",
    "    best = hof.items[0]\n",
    "    print(\"-- Best Individual = \", best)\n",
    "    print(\"-- Best Fitness = \", best.fitness.values[0])\n",
    "\n",
    "    print(\"chisq / dof = \", best.fitness.values[0] / (len(z_obs) - 1))\n",
    "\n",
    "\n",
    "    print(\"- Best solutions are:\")\n",
    "    for i in range(HALL_OF_FAME_SIZE):\n",
    "        print(i, \": \", hof.items[i].fitness.values[0], \" -> \", hof.items[i])\n",
    "\n",
    "    # extract statistics:\n",
    "    # minFitnessValues, meanFitnessValues = logbook.select(\"min\", \"avg\")\n",
    "    gen, avg, min_, max_ = logbook.select(\"gen\", \"avg\", \"min\", \"max\")\n",
    "\n",
    "    return population, logbook, hof"
   ]
  },
  {
   "cell_type": "code",
   "execution_count": 20,
   "id": "53ba94a6",
   "metadata": {},
   "outputs": [
    {
     "name": "stderr",
     "output_type": "stream",
     "text": [
      "/tmp/ipykernel_6975/3573561725.py:14: RuntimeWarning: overflow encountered in double_scalars\n",
      "  Hz = H0*np.sqrt(OmM*(1+z)**3 + OmDE*(1+z)**(3*(w_0+w_a+1)*np.exp(-3*w_a*z/1+z)))\n",
      "/tmp/ipykernel_6975/282962505.py:23: RuntimeWarning: invalid value encountered in double_scalars\n",
      "  chisq_vec = X(w_0, w_a) - Y(w_0, w_a)**2/Z(w_0, w_a) + np.log10(Z(w_0, w_a)/2*np.pi)\n"
     ]
    },
    {
     "name": "stdout",
     "output_type": "stream",
     "text": [
      "gen\tnevals\tmin\tavg\n",
      "0  \t20    \tnan\tnan\n",
      "1  \t14    \tnan\tnan\n",
      "2  \t17    \t47.8424\t62.6286\n",
      "3  \t15    \t47.8424\t61.5753\n",
      "4  \t16    \t47.8424\t61.0195\n",
      "5  \t14    \t47.8424\t61.3784\n",
      "6  \t11    \t38.3593\t58.5373\n",
      "7  \t13    \t32.1657\t55.1341\n",
      "8  \t15    \t32.1657\t2.05807e+15\n",
      "9  \t16    \t28.6449\t4.09894e+18\n",
      "10 \t12    \t28.6449\t38.9772    \n",
      "11 \t14    \t28.5717\t29127.7    \n",
      "12 \t14    \t28.5467\t33.876     \n",
      "13 \t15    \t28.5467\t40.1474    \n",
      "14 \t17    \t28.5467\t3.35417e+29\n",
      "15 \t17    \t28.5467\t5.78748e+08\n",
      "16 \t15    \t28.5467\t1.41674e+22\n",
      "17 \t13    \t28.5467\t1.47208e+07\n",
      "18 \t11    \t28.5467\t1.45235e+08\n",
      "19 \t15    \t28.5462\t4.0873e+23 \n",
      "20 \t14    \t28.5462\t7.11039e+06\n",
      "-- Best Individual =  [-0.6994009912828976, -0.3091714589876881]\n",
      "-- Best Fitness =  28.54622510520746\n",
      "chisq / dof =  0.5709245021041491\n",
      "- Best solutions are:\n",
      "0 :  28.54622510520746  ->  [-0.6994009912828976, -0.3091714589876881]\n"
     ]
    },
    {
     "data": {
      "image/png": "[encoded data removed]",
      "text/plain": [
       "<Figure size 720x504 with 1 Axes>"
      ]
     },
     "metadata": {
      "needs_background": "light"
     },
     "output_type": "display_data"
    }
   ],
   "source": [
    "pop, log, hof = main()\n",
    "\n",
    "gen, avg, min_, max_ = log.select(\"gen\", \"avg\", \"min\", \"max\")\n",
    "\n",
    "plt.figure(figsize=(10, 7))\n",
    "#plt.plot(gen, avg, label=\"average\")\n",
    "plt.plot(gen, min_, label=\"minimum\")\n",
    "#plt.plot(gen, max_, label=\"maximum\")\n",
    "plt.title(\"Fitness Evolution\")\n",
    "plt.xlabel(\"Generation\")\n",
    "plt.ylabel(\"Fitness\")\n",
    "plt.legend(loc=\"upper right\")\n",
    "#plt.savefig('GA_wwCDM_150.png')\n",
    "plt.show()"
   ]
  },
  {
   "cell_type": "code",
   "execution_count": 26,
   "id": "54ba7b4f",
   "metadata": {},
   "outputs": [
    {
     "data": {
      "image/png": "[encoded data removed]",
      "text/plain": [
       "<Figure size 864x576 with 1 Axes>"
      ]
     },
     "metadata": {
      "needs_background": "light"
     },
     "output_type": "display_data"
    }
   ],
   "source": [
    "# Plots\n",
    "zs = np.arange(0.01, 2.5, 0.01)\n",
    "Hzbest1=np.vectorize(lambda z: Hz_CPL(z,-1.198616,-0.806926))\n",
    "Hzbest2=np.vectorize(lambda z: Hz_CPL(z,-0.20787,-0.79401))\n",
    "Hzbest3=np.vectorize(lambda z: Hz_CPL(z,-0.681160,-0.3262934))\n",
    "\n",
    "\n",
    "plt.figure(figsize=(12, 8))\n",
    "plt.xlabel('$z$',  fontsize=20)\n",
    "plt.ylabel('$H(z)$',fontsize=20)\n",
    "plt.plot(zs, Hzbest1(zs), label=\"modelo 1: $w_0=-1.198616, w_a=-0.806926$\")\n",
    "plt.plot(zs, Hzbest2(zs), label=\"modelo 2: $w_0=-0.20787, w_a=-0.79401$\")\n",
    "plt.plot(zs, Hzbest3(zs), label=\"modelo 3: $w_0=-0.681160, w_a=-0.3262934$\")\n",
    "plt.errorbar(z_obs, Hz, dHz, fmt='k.', label=r\"CC data\")\n",
    "plt.legend(fontsize=15);\n",
    "plt.show()\n",
    "#plt.savefig('resultado_1.png')"
   ]
  },
  {
   "cell_type": "markdown",
   "id": "6d916724",
   "metadata": {},
   "source": [
    "### Importante!\n",
    "\n",
    "Notemos que los valores de $w_0$ y $w_a$ dependen fuertemente de la elección de límites para la exploración, por ejemplo, los límites de los modelos 1, 2 y 3, respectivamente, fueron:\n",
    "\n",
    "- BOUND_LOW, BOUND_UP = -1.2, 0.0  \n",
    "- BOUND_LOW, BOUND_UP = -1, -0.05  \n",
    "- BOUND_LOW, BOUND_UP = -2.0, -0.05\n",
    "\n",
    "Y notemos cómo cambia el resultado. También pude observar que el cambio en el RANDOM SEED generaba un cambio en los resultados, incluso dejando todo fijo excepto la semilla."
   ]
  },
  {
   "cell_type": "code",
   "execution_count": null,
   "id": "634506ca",
   "metadata": {},
   "outputs": [],
   "source": []
  }
 ],
 "metadata": {
  "kernelspec": {
   "display_name": "Python 3 (ipykernel)",
   "language": "python",
   "name": "python3"
  },
  "language_info": {
   "codemirror_mode": {
    "name": "ipython",
    "version": 3
   },
   "file_extension": ".py",
   "mimetype": "text/x-python",
   "name": "python",
   "nbconvert_exporter": "python",
   "pygments_lexer": "ipython3",
   "version": "3.9.7"
  }
 },
 "nbformat": 4,
 "nbformat_minor": 5
}
