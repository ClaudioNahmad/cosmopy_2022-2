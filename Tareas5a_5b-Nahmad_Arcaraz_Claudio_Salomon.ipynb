{
 "cells": [
  {
   "cell_type": "code",
   "execution_count": 11,
   "id": "7762681d",
   "metadata": {},
   "outputs": [],
   "source": [
    "import sympy as sy\n",
    "sy.init_printing()"
   ]
  },
  {
   "cell_type": "code",
   "execution_count": 2,
   "id": "e1a97688",
   "metadata": {},
   "outputs": [],
   "source": [
    "from sympy.solvers import solve\n",
    "from sympy import symbols\n",
    "from sympy import sqrt\n",
    "from sympy import *\n",
    "\n",
    "init_printing()"
   ]
  },
  {
   "cell_type": "markdown",
   "id": "7ca6d436",
   "metadata": {},
   "source": [
    "# Tarea 5a"
   ]
  },
  {
   "cell_type": "markdown",
   "id": "8c37c86e",
   "metadata": {},
   "source": [
    "## 1. Encontrar las soluciones de $f(x)=3x^4-x^3-10x^2-2x+4$ "
   ]
  },
  {
   "cell_type": "code",
   "execution_count": 3,
   "id": "e90b8cc1",
   "metadata": {},
   "outputs": [],
   "source": [
    "x, y, z = sy.symbols('x y z')"
   ]
  },
  {
   "cell_type": "code",
   "execution_count": 4,
   "id": "814dc5ff",
   "metadata": {},
   "outputs": [],
   "source": [
    "e1=3*x**4-x**3-10*x**2-2*x+4"
   ]
  },
  {
   "cell_type": "code",
   "execution_count": 12,
   "id": "a8cbfe25",
   "metadata": {},
   "outputs": [
    {
     "data": {
      "image/png": "[encoded data removed]",
      "text/latex": [
       "$\\displaystyle \\left[ -1, \\  2, \\  - \\frac{1}{3} + \\frac{\\sqrt{7}}{3}, \\  - \\frac{\\sqrt{7}}{3} - \\frac{1}{3}\\right]$"
      ],
      "text/plain": [
       "⎡         1   √7    √7   1⎤\n",
       "⎢-1, 2, - ─ + ──, - ── - ─⎥\n",
       "⎣         3   3     3    3⎦"
      ]
     },
     "execution_count": 12,
     "metadata": {},
     "output_type": "execute_result"
    }
   ],
   "source": [
    "sy.solve(e1)"
   ]
  },
  {
   "cell_type": "markdown",
   "id": "86c4cdb8",
   "metadata": {},
   "source": [
    "## 2. Mostrar las igualdades trigonométricas "
   ]
  },
  {
   "cell_type": "code",
   "execution_count": 57,
   "id": "418b9239",
   "metadata": {},
   "outputs": [],
   "source": [
    "A, B, C, D= sy.symbols('A B C D', positive=True)\n",
    "e2=sy.tan(A+B)\n",
    "e3=sy.tan(A-B)"
   ]
  },
  {
   "cell_type": "code",
   "execution_count": 13,
   "id": "f35896be",
   "metadata": {},
   "outputs": [
    {
     "data": {
      "image/png": "[encoded data removed]",
      "text/latex": [
       "$\\displaystyle \\left( \\frac{\\tan{\\left(A \\right)} + \\tan{\\left(B \\right)}}{- \\tan{\\left(A \\right)} \\tan{\\left(B \\right)} + 1}, \\  \\frac{\\tan{\\left(A \\right)} - \\tan{\\left(B \\right)}}{\\tan{\\left(A \\right)} \\tan{\\left(B \\right)} + 1}\\right)$"
      ],
      "text/plain": [
       "⎛ tan(A) + tan(B)     tan(A) - tan(B) ⎞\n",
       "⎜──────────────────, ─────────────────⎟\n",
       "⎝-tan(A)⋅tan(B) + 1  tan(A)⋅tan(B) + 1⎠"
      ]
     },
     "execution_count": 13,
     "metadata": {},
     "output_type": "execute_result"
    }
   ],
   "source": [
    "sy.expand_trig(e2), sy.expand_trig(e3) "
   ]
  },
  {
   "cell_type": "code",
   "execution_count": 15,
   "id": "6481de3b",
   "metadata": {},
   "outputs": [
    {
     "data": {
      "image/png": "[encoded data removed]",
      "text/latex": [
       "$\\displaystyle \\cos{\\left(C \\right)} + \\cos{\\left(D \\right)}$"
      ],
      "text/plain": [
       "cos(C) + cos(D)"
      ]
     },
     "execution_count": 15,
     "metadata": {},
     "output_type": "execute_result"
    }
   ],
   "source": [
    "e4=2*sy.cos(((C+D)/2))*sy.cos(((C-D)/2))\n",
    "e4.simplify()"
   ]
  },
  {
   "cell_type": "markdown",
   "id": "25cd36fb",
   "metadata": {},
   "source": [
    "## 3. Expresar como fracciones parciales"
   ]
  },
  {
   "cell_type": "code",
   "execution_count": 16,
   "id": "fb21cd36",
   "metadata": {},
   "outputs": [],
   "source": [
    "e5=(4*x+2)/(x**2+3*x+2)\n",
    "e6=(x**3+3*x**2+2*x-1)/(x**2-x-6)"
   ]
  },
  {
   "cell_type": "code",
   "execution_count": 17,
   "id": "3fecbd5f",
   "metadata": {},
   "outputs": [
    {
     "data": {
      "image/png": "[encoded data removed]",
      "text/latex": [
       "$\\displaystyle \\left( \\frac{6}{x + 2} - \\frac{2}{x + 1}, \\  x + 4 + \\frac{1}{5 \\left(x + 2\\right)} + \\frac{59}{5 \\left(x - 3\\right)}\\right)$"
      ],
      "text/plain": [
       "⎛  6       2                1           59   ⎞\n",
       "⎜───── - ─────, x + 4 + ───────── + ─────────⎟\n",
       "⎝x + 2   x + 1          5⋅(x + 2)   5⋅(x - 3)⎠"
      ]
     },
     "execution_count": 17,
     "metadata": {},
     "output_type": "execute_result"
    }
   ],
   "source": [
    "(sy.apart(e5), sy.apart(e6))"
   ]
  },
  {
   "cell_type": "markdown",
   "id": "1feed509",
   "metadata": {},
   "source": [
    "## 4. Probar la equivalencia"
   ]
  },
  {
   "cell_type": "markdown",
   "id": "eeb78141",
   "metadata": {},
   "source": [
    "$\\sum_i^n i^2=\\frac{1}{6}n(n+1)(2n+1)$"
   ]
  },
  {
   "cell_type": "code",
   "execution_count": 80,
   "id": "a65af047",
   "metadata": {},
   "outputs": [],
   "source": [
    "n,j=sy.symbols('n j',positive=True) #usaremos j como el simbolo en vez de i"
   ]
  },
  {
   "cell_type": "code",
   "execution_count": 81,
   "id": "cf70a3a8",
   "metadata": {},
   "outputs": [
    {
     "data": {
      "image/png": "[encoded data removed]",
      "text/latex": [
       "$\\displaystyle \\frac{n^{3}}{3} + \\frac{n^{2}}{2} + \\frac{n}{6}$"
      ],
      "text/plain": [
       " 3    2    \n",
       "n    n    n\n",
       "── + ── + ─\n",
       "3    2    6"
      ]
     },
     "execution_count": 81,
     "metadata": {},
     "output_type": "execute_result"
    }
   ],
   "source": [
    "e7=sy.summation(j**2,(j,1,n))\n",
    "e7"
   ]
  },
  {
   "cell_type": "code",
   "execution_count": 82,
   "id": "e981bfd9",
   "metadata": {},
   "outputs": [
    {
     "data": {
      "image/png": "[encoded data removed]",
      "text/latex": [
       "$\\displaystyle \\frac{n \\left(n + 1\\right) \\left(2 n + 1\\right)}{6}$"
      ],
      "text/plain": [
       "n⋅(n + 1)⋅(2⋅n + 1)\n",
       "───────────────────\n",
       "         6         "
      ]
     },
     "execution_count": 82,
     "metadata": {},
     "output_type": "execute_result"
    }
   ],
   "source": [
    "sy.factor(e7)"
   ]
  },
  {
   "cell_type": "markdown",
   "id": "b2a6ae24",
   "metadata": {},
   "source": [
    "## 5. Encontrar la derivada de $y$  $(f(x))$ "
   ]
  },
  {
   "cell_type": "code",
   "execution_count": 83,
   "id": "a933d1f9",
   "metadata": {},
   "outputs": [],
   "source": [
    "from sympy import Eq, diff, simplify"
   ]
  },
  {
   "cell_type": "code",
   "execution_count": 84,
   "id": "23b67c81",
   "metadata": {},
   "outputs": [
    {
     "data": {
      "image/png": "[encoded data removed]",
      "text/latex": [
       "$\\displaystyle y = \\left(x^{2} + 3\\right)^{3}$"
      ],
      "text/plain": [
       "            3\n",
       "    ⎛ 2    ⎞ \n",
       "y = ⎝x  + 3⎠ "
      ]
     },
     "execution_count": 84,
     "metadata": {},
     "output_type": "execute_result"
    }
   ],
   "source": [
    "e8=Eq((3+x**2)**3,y).simplify()\n",
    "e8"
   ]
  },
  {
   "cell_type": "code",
   "execution_count": 85,
   "id": "f0959615",
   "metadata": {},
   "outputs": [
    {
     "data": {
      "image/png": "[encoded data removed]",
      "text/latex": [
       "$\\displaystyle \\frac{\\partial}{\\partial x} y = \\left(x^{2} + 3\\right)^{3}$"
      ],
      "text/plain": [
       "  ⎛            3⎞\n",
       "∂ ⎜    ⎛ 2    ⎞ ⎟\n",
       "──⎝y = ⎝x  + 3⎠ ⎠\n",
       "∂x               "
      ]
     },
     "execution_count": 85,
     "metadata": {},
     "output_type": "execute_result"
    }
   ],
   "source": [
    "diff(e8,x) #OJO la diferenciación no sirve si definimos la expresión como una ecuación (con Eq)"
   ]
  },
  {
   "cell_type": "code",
   "execution_count": 86,
   "id": "74f8d5d2",
   "metadata": {},
   "outputs": [
    {
     "data": {
      "image/png": "[encoded data removed]",
      "text/latex": [
       "$\\displaystyle - y + \\left(x^{2} + 3\\right)^{3}$"
      ],
      "text/plain": [
       "             3\n",
       "     ⎛ 2    ⎞ \n",
       "-y + ⎝x  + 3⎠ "
      ]
     },
     "execution_count": 86,
     "metadata": {},
     "output_type": "execute_result"
    }
   ],
   "source": [
    "e8=(3+x**2)**3-y \n",
    "#No es mi forma favorita de definirla, pues preferiría que tuviera la igualdad, HINTS??\n",
    "e8"
   ]
  },
  {
   "cell_type": "code",
   "execution_count": 87,
   "id": "8c024705",
   "metadata": {},
   "outputs": [
    {
     "data": {
      "image/png": "[encoded data removed]",
      "text/latex": [
       "$\\displaystyle 6 x \\left(x^{2} + 3\\right)^{2}$"
      ],
      "text/plain": [
       "            2\n",
       "    ⎛ 2    ⎞ \n",
       "6⋅x⋅⎝x  + 3⎠ "
      ]
     },
     "execution_count": 87,
     "metadata": {},
     "output_type": "execute_result"
    }
   ],
   "source": [
    "diff(e8,x)"
   ]
  },
  {
   "cell_type": "code",
   "execution_count": 88,
   "id": "85ab1974",
   "metadata": {},
   "outputs": [
    {
     "data": {
      "image/png": "[encoded data removed]",
      "text/latex": [
       "$\\displaystyle x^{3} - 3 x y + y^{3} - 2$"
      ],
      "text/plain": [
       " 3            3    \n",
       "x  - 3⋅x⋅y + y  - 2"
      ]
     },
     "execution_count": 88,
     "metadata": {},
     "output_type": "execute_result"
    }
   ],
   "source": [
    "e9=(x**3-3*x*y+y**3-2)\n",
    "e9"
   ]
  },
  {
   "cell_type": "code",
   "execution_count": 89,
   "id": "abd861af",
   "metadata": {},
   "outputs": [
    {
     "data": {
      "image/png": "[encoded data removed]",
      "text/latex": [
       "$\\displaystyle - 3 x + 3 y^{2}$"
      ],
      "text/plain": [
       "          2\n",
       "-3⋅x + 3⋅y "
      ]
     },
     "execution_count": 89,
     "metadata": {},
     "output_type": "execute_result"
    }
   ],
   "source": [
    "diff(simplify(e9),y)"
   ]
  },
  {
   "cell_type": "markdown",
   "id": "0dbd626c",
   "metadata": {},
   "source": [
    "## 6. Encontrar los puntos críticos de $f(x)=2x^3-3x^2-36x+2$ y su tipo"
   ]
  },
  {
   "cell_type": "code",
   "execution_count": 97,
   "id": "104f4d5c",
   "metadata": {},
   "outputs": [],
   "source": [
    "f1=2*x**3-3*x**2-36*x+2\n",
    "d1=diff(f1,x)"
   ]
  },
  {
   "cell_type": "code",
   "execution_count": 98,
   "id": "14cd8a5b",
   "metadata": {},
   "outputs": [
    {
     "data": {
      "image/png": "[encoded data removed]",
      "text/latex": [
       "$\\displaystyle 6 \\left(x - 3\\right) \\left(x + 2\\right)$"
      ],
      "text/plain": [
       "6⋅(x - 3)⋅(x + 2)"
      ]
     },
     "execution_count": 98,
     "metadata": {},
     "output_type": "execute_result"
    }
   ],
   "source": [
    "sy.factor(d1)"
   ]
  },
  {
   "cell_type": "markdown",
   "id": "22860e20",
   "metadata": {},
   "source": [
    "Tenemos los puntos $x-3=0$ y $x+2=0$ entonces $\\{3,-2\\}$ son los puntos críticos sobre $x$"
   ]
  },
  {
   "cell_type": "code",
   "execution_count": 99,
   "id": "b74449c8",
   "metadata": {},
   "outputs": [
    {
     "data": {
      "image/png": "[encoded data removed]",
      "text/latex": [
       "$\\displaystyle -79$"
      ],
      "text/plain": [
       "-79"
      ]
     },
     "execution_count": 99,
     "metadata": {},
     "output_type": "execute_result"
    }
   ],
   "source": [
    "f1.subs(x,3)"
   ]
  },
  {
   "cell_type": "code",
   "execution_count": 100,
   "id": "062b8c84",
   "metadata": {},
   "outputs": [
    {
     "data": {
      "image/png": "[encoded data removed]",
      "text/latex": [
       "$\\displaystyle 46$"
      ],
      "text/plain": [
       "46"
      ]
     },
     "execution_count": 100,
     "metadata": {},
     "output_type": "execute_result"
    }
   ],
   "source": [
    "f1.subs(x,-2)"
   ]
  },
  {
   "cell_type": "markdown",
   "id": "a53eebce",
   "metadata": {},
   "source": [
    "Por lo que los dos puntos críticos son $$P_1=(3,-79)$$ $$P_2=(-2,46)$$"
   ]
  },
  {
   "cell_type": "code",
   "execution_count": 101,
   "id": "20a13d4f",
   "metadata": {},
   "outputs": [],
   "source": [
    "dd1=diff(d1,x)"
   ]
  },
  {
   "cell_type": "code",
   "execution_count": 102,
   "id": "2c416e29",
   "metadata": {},
   "outputs": [
    {
     "data": {
      "image/png": "[encoded data removed]",
      "text/latex": [
       "$\\displaystyle 30$"
      ],
      "text/plain": [
       "30"
      ]
     },
     "execution_count": 102,
     "metadata": {},
     "output_type": "execute_result"
    }
   ],
   "source": [
    "dd1.subs(x,3)"
   ]
  },
  {
   "cell_type": "code",
   "execution_count": 103,
   "id": "3f5bb1ec",
   "metadata": {},
   "outputs": [
    {
     "data": {
      "image/png": "[encoded data removed]",
      "text/latex": [
       "$\\displaystyle -30$"
      ],
      "text/plain": [
       "-30"
      ]
     },
     "execution_count": 103,
     "metadata": {},
     "output_type": "execute_result"
    }
   ],
   "source": [
    "dd1.subs(x,-2)"
   ]
  },
  {
   "cell_type": "markdown",
   "id": "5011b1f4",
   "metadata": {},
   "source": [
    "Notemos que $(3,-79)$ es un mínimo pues la segunda derivada evaluada en ese punto es positiva.\n",
    "Por otro lado, $(-2,46)$ es un máximo."
   ]
  },
  {
   "cell_type": "markdown",
   "id": "ac59cb67",
   "metadata": {},
   "source": [
    "## 7. Resolver las integrales "
   ]
  },
  {
   "cell_type": "code",
   "execution_count": 59,
   "id": "400f980c",
   "metadata": {},
   "outputs": [],
   "source": [
    "f1=sy.sin(x)**5\n",
    "f2=A*sy.tan(B*x)\n",
    "f3=2/(1+3*x)\n",
    "f4=x/((x**2+A**2)**2)\n",
    "\n",
    "#nota, usamos A y B (mayusculas) en vez de a y b, pues ya teniamos definidas esas variables"
   ]
  },
  {
   "cell_type": "code",
   "execution_count": 60,
   "id": "3dc77692",
   "metadata": {},
   "outputs": [
    {
     "data": {
      "image/png": "[encoded data removed]",
      "text/latex": [
       "$\\displaystyle - \\frac{\\cos^{5}{\\left(x \\right)}}{5} + \\frac{2 \\cos^{3}{\\left(x \\right)}}{3} - \\cos{\\left(x \\right)}$"
      ],
      "text/plain": [
       "     5           3            \n",
       "  cos (x)   2⋅cos (x)         \n",
       "- ─────── + ───────── - cos(x)\n",
       "     5          3             "
      ]
     },
     "execution_count": 60,
     "metadata": {},
     "output_type": "execute_result"
    }
   ],
   "source": [
    "sy.integrate(f1,x)"
   ]
  },
  {
   "cell_type": "code",
   "execution_count": 61,
   "id": "4ec8a25f",
   "metadata": {},
   "outputs": [
    {
     "data": {
      "image/png": "[encoded data removed]",
      "text/latex": [
       "$\\displaystyle - \\frac{A \\log{\\left(\\cos{\\left(B x \\right)} \\right)}}{B}$"
      ],
      "text/plain": [
       "-A⋅log(cos(B⋅x)) \n",
       "─────────────────\n",
       "        B        "
      ]
     },
     "execution_count": 61,
     "metadata": {},
     "output_type": "execute_result"
    }
   ],
   "source": [
    "sy.integrate(f2,x)"
   ]
  },
  {
   "cell_type": "code",
   "execution_count": 62,
   "id": "4fa85009",
   "metadata": {},
   "outputs": [
    {
     "data": {
      "image/png": "[encoded data removed]",
      "text/latex": [
       "$\\displaystyle \\frac{2 \\log{\\left(3 x + 1 \\right)}}{3}$"
      ],
      "text/plain": [
       "2⋅log(3⋅x + 1)\n",
       "──────────────\n",
       "      3       "
      ]
     },
     "execution_count": 62,
     "metadata": {},
     "output_type": "execute_result"
    }
   ],
   "source": [
    "sy.integrate(f3,x)"
   ]
  },
  {
   "cell_type": "code",
   "execution_count": 64,
   "id": "3ed798d0",
   "metadata": {},
   "outputs": [
    {
     "data": {
      "image/png": "[encoded data removed]",
      "text/latex": [
       "$\\displaystyle \\frac{1}{2 A^{2}}$"
      ],
      "text/plain": [
       " 1  \n",
       "────\n",
       "   2\n",
       "2⋅A "
      ]
     },
     "execution_count": 64,
     "metadata": {},
     "output_type": "execute_result"
    }
   ],
   "source": [
    "sy.integrate(f4,(x,0,sy.oo))"
   ]
  },
  {
   "cell_type": "markdown",
   "id": "ab360bdc",
   "metadata": {},
   "source": [
    "## 8. Expresar las funciones en serie de Taylor hasta orden 3"
   ]
  },
  {
   "cell_type": "code",
   "execution_count": 65,
   "id": "d84588d0",
   "metadata": {},
   "outputs": [],
   "source": [
    "f1=sy.cos(x)\n",
    "f2=(1+x)**n"
   ]
  },
  {
   "cell_type": "code",
   "execution_count": 67,
   "id": "e509d47e",
   "metadata": {},
   "outputs": [
    {
     "data": {
      "image/png": "[encoded data removed]",
      "text/latex": [
       "$\\displaystyle \\frac{1}{2} - \\frac{\\sqrt{3} \\left(x - \\frac{\\pi}{3}\\right)}{2} - \\frac{\\left(x - \\frac{\\pi}{3}\\right)^{2}}{4} + O\\left(\\left(x - \\frac{\\pi}{3}\\right)^{3}; x\\rightarrow \\frac{\\pi}{3}\\right)$"
      ],
      "text/plain": [
       "                        2                     \n",
       "       ⎛    π⎞   ⎛    π⎞                      \n",
       "    √3⋅⎜x - ─⎟   ⎜x - ─⎟     ⎛       3       ⎞\n",
       "1      ⎝    3⎠   ⎝    3⎠     ⎜⎛    π⎞       π⎟\n",
       "─ - ────────── - ──────── + O⎜⎜x - ─⎟ ; x → ─⎟\n",
       "2       2           4        ⎝⎝    3⎠       3⎠"
      ]
     },
     "execution_count": 67,
     "metadata": {},
     "output_type": "execute_result"
    }
   ],
   "source": [
    "sy.series(f1,x,sy.pi/3,3)"
   ]
  },
  {
   "cell_type": "code",
   "execution_count": 68,
   "id": "102bd36c",
   "metadata": {},
   "outputs": [
    {
     "data": {
      "image/png": "[encoded data removed]",
      "text/latex": [
       "$\\displaystyle 1 + n x + \\frac{n x^{2} \\left(n - 1\\right)}{2} + O\\left(x^{3}\\right)$"
      ],
      "text/plain": [
       "             2                \n",
       "          n⋅x ⋅(n - 1)    ⎛ 3⎞\n",
       "1 + n⋅x + ──────────── + O⎝x ⎠\n",
       "               2              "
      ]
     },
     "execution_count": 68,
     "metadata": {},
     "output_type": "execute_result"
    }
   ],
   "source": [
    "sy.series(f2,x,0,3)"
   ]
  },
  {
   "cell_type": "markdown",
   "id": "4bdb8c5b",
   "metadata": {},
   "source": [
    "## 9. Calcular el límite de $f(x)$"
   ]
  },
  {
   "cell_type": "code",
   "execution_count": 76,
   "id": "d32367df",
   "metadata": {},
   "outputs": [],
   "source": [
    "f1=1-(A**2/x**2)**(x**2)"
   ]
  },
  {
   "cell_type": "code",
   "execution_count": 77,
   "id": "3af80948",
   "metadata": {},
   "outputs": [
    {
     "data": {
      "image/png": "[encoded data removed]",
      "text/latex": [
       "$\\displaystyle 1$"
      ],
      "text/plain": [
       "1"
      ]
     },
     "execution_count": 77,
     "metadata": {},
     "output_type": "execute_result"
    }
   ],
   "source": [
    "sy.limit(f1,x,sy.oo)"
   ]
  },
  {
   "cell_type": "markdown",
   "id": "e46b8586",
   "metadata": {},
   "source": [
    "# Tarea 5b"
   ]
  },
  {
   "cell_type": "markdown",
   "id": "adeb454b",
   "metadata": {},
   "source": [
    "https://docs.sympy.org/latest/modules/physics/vector/vectors.html\n",
    "\n",
    "https://docs.sympy.org/latest/modules/vector/coordsys.html\n",
    "\n",
    "https://docs.sympy.org/latest/tutorial/matrices.html"
   ]
  },
  {
   "cell_type": "code",
   "execution_count": 113,
   "id": "29ed4f9b",
   "metadata": {},
   "outputs": [],
   "source": [
    "from sympy.vector import CoordSys3D\n",
    "from sympy.physics.vector import ReferenceFrame"
   ]
  },
  {
   "cell_type": "code",
   "execution_count": 177,
   "id": "0a44c17e",
   "metadata": {},
   "outputs": [],
   "source": [
    "R3 = CoordSys3D('R3')\n",
    "N = ReferenceFrame('N')"
   ]
  },
  {
   "cell_type": "markdown",
   "id": "f83cecfe",
   "metadata": {},
   "source": [
    "## 1. Area del paralelogramo"
   ]
  },
  {
   "cell_type": "code",
   "execution_count": 175,
   "id": "52b1dc66",
   "metadata": {},
   "outputs": [
    {
     "data": {
      "image/png": "[encoded data removed]",
      "text/latex": [
       "$\\displaystyle \\mathbf{\\hat{i}_{R3}}$"
      ],
      "text/plain": [
       "i_R3"
      ]
     },
     "execution_count": 175,
     "metadata": {},
     "output_type": "execute_result"
    }
   ],
   "source": [
    "R3.i"
   ]
  },
  {
   "cell_type": "code",
   "execution_count": 176,
   "id": "0b5c9b77",
   "metadata": {},
   "outputs": [
    {
     "data": {
      "image/png": "[encoded data removed]",
      "text/latex": [
       "$\\displaystyle \\mathbf{\\hat{n}_x}$"
      ],
      "text/plain": [
       "n_x"
      ]
     },
     "execution_count": 176,
     "metadata": {},
     "output_type": "execute_result"
    }
   ],
   "source": [
    "N.x"
   ]
  },
  {
   "cell_type": "markdown",
   "id": "b684db54",
   "metadata": {},
   "source": [
    "Notemos que, dependiendo qué sistema de coordenadas de sympy usemos (sympy.physics.vector.ReferenceFrame o sympy.vector.CoordSys3D) es la notación que se permite usar. En el primero, el sistema coordenado tiene vectores unitarios $(x,y,z)$, los vectores unitarios del segundo (CoordSys3D) son $(i,j,k)$.\n",
    "\n",
    "Nosotros usaremos este último para estos ejercicios"
   ]
  },
  {
   "cell_type": "code",
   "execution_count": 178,
   "id": "f9809af0",
   "metadata": {},
   "outputs": [],
   "source": [
    "a=R3.i+2*R3.j+3*R3.k\n",
    "b=4*R3.i+5*R3.j+6*R3.k"
   ]
  },
  {
   "cell_type": "code",
   "execution_count": 179,
   "id": "bb41a2b0",
   "metadata": {},
   "outputs": [
    {
     "data": {
      "image/png": "[encoded data removed]",
      "text/latex": [
       "$\\displaystyle \\left( \\mathbf{\\hat{i}_{R3}} + (2)\\mathbf{\\hat{j}_{R3}} + (3)\\mathbf{\\hat{k}_{R3}}, \\  (4)\\mathbf{\\hat{i}_{R3}} + (5)\\mathbf{\\hat{j}_{R3}} + (6)\\mathbf{\\hat{k}_{R3}}\\right)$"
      ],
      "text/plain": [
       "(i_R3 + (2) j_R3 + (3) k_R3, (4) i_R3 + (5) j_R3 + (6) k_R3)"
      ]
     },
     "execution_count": 179,
     "metadata": {},
     "output_type": "execute_result"
    }
   ],
   "source": [
    "(a,b)"
   ]
  },
  {
   "cell_type": "markdown",
   "id": "8f13b5f6",
   "metadata": {},
   "source": [
    "Hay dos formas de hacer producto vectorial(cruz):\n",
    "\n",
    "- a.cross(b)\n",
    "- a^b\n",
    "\n",
    "Y dos formas de hacer producto escalar(punto):\n",
    "\n",
    "- a.dot(b)\n",
    "- a&b"
   ]
  },
  {
   "cell_type": "code",
   "execution_count": 180,
   "id": "32664740",
   "metadata": {},
   "outputs": [
    {
     "data": {
      "image/png": "[encoded data removed]",
      "text/latex": [
       "$\\displaystyle (-3)\\mathbf{\\hat{i}_{R3}} + (6)\\mathbf{\\hat{j}_{R3}} + (-3)\\mathbf{\\hat{k}_{R3}}$"
      ],
      "text/plain": [
       "(-3) i_R3 + (6) j_R3 + (-3) k_R3"
      ]
     },
     "execution_count": 180,
     "metadata": {},
     "output_type": "execute_result"
    }
   ],
   "source": [
    "a.cross(b)"
   ]
  },
  {
   "cell_type": "code",
   "execution_count": 181,
   "id": "a37d8294",
   "metadata": {},
   "outputs": [
    {
     "data": {
      "image/png": "[encoded data removed]",
      "text/latex": [
       "$\\displaystyle (-3)\\mathbf{\\hat{i}_{R3}} + (6)\\mathbf{\\hat{j}_{R3}} + (-3)\\mathbf{\\hat{k}_{R3}}$"
      ],
      "text/plain": [
       "(-3) i_R3 + (6) j_R3 + (-3) k_R3"
      ]
     },
     "execution_count": 181,
     "metadata": {},
     "output_type": "execute_result"
    }
   ],
   "source": [
    "a^b"
   ]
  },
  {
   "cell_type": "code",
   "execution_count": 182,
   "id": "35258768",
   "metadata": {},
   "outputs": [
    {
     "data": {
      "image/png": "[encoded data removed]",
      "text/latex": [
       "$\\displaystyle 3 \\sqrt{6}$"
      ],
      "text/plain": [
       "3⋅√6"
      ]
     },
     "execution_count": 182,
     "metadata": {},
     "output_type": "execute_result"
    }
   ],
   "source": [
    "(a^b).magnitude()"
   ]
  },
  {
   "cell_type": "markdown",
   "id": "b889f1aa",
   "metadata": {},
   "source": [
    "## 2. Encontrar $D=A+2B-C$ con las respectivas matrices  "
   ]
  },
  {
   "cell_type": "code",
   "execution_count": 128,
   "id": "e8810636",
   "metadata": {},
   "outputs": [],
   "source": [
    "from sympy import Matrix"
   ]
  },
  {
   "cell_type": "code",
   "execution_count": 130,
   "id": "40b58ece",
   "metadata": {},
   "outputs": [],
   "source": [
    "A=Matrix([[2,-1],[3,1]])\n",
    "B=Matrix([[1,0],[0,-2]])\n",
    "C=Matrix([[-2,1],[-1,1]])"
   ]
  },
  {
   "cell_type": "code",
   "execution_count": 131,
   "id": "22f9e8a4",
   "metadata": {},
   "outputs": [
    {
     "data": {
      "image/png": "[encoded data removed]",
      "text/latex": [
       "$\\displaystyle \\left[\\begin{matrix}6 & -2\\\\4 & -4\\end{matrix}\\right]$"
      ],
      "text/plain": [
       "⎡6  -2⎤\n",
       "⎢     ⎥\n",
       "⎣4  -4⎦"
      ]
     },
     "execution_count": 131,
     "metadata": {},
     "output_type": "execute_result"
    }
   ],
   "source": [
    "A+(2*B)-C"
   ]
  },
  {
   "cell_type": "markdown",
   "id": "15fdf486",
   "metadata": {},
   "source": [
    "## 3. Encontrar $P=AB$ y $Q=BA$ con las respectivas matrices"
   ]
  },
  {
   "cell_type": "code",
   "execution_count": 132,
   "id": "4a15ddd2",
   "metadata": {},
   "outputs": [],
   "source": [
    "A=Matrix([[3,2,-1],[0,3,2],[1,-3,4]])\n",
    "B=Matrix([[2,-2,3],[1,1,0],[3,2,1]])"
   ]
  },
  {
   "cell_type": "code",
   "execution_count": 133,
   "id": "bae0bda4",
   "metadata": {},
   "outputs": [
    {
     "data": {
      "image/png": "[encoded data removed]",
      "text/latex": [
       "$\\displaystyle \\left[\\begin{matrix}5 & -6 & 8\\\\9 & 7 & 2\\\\11 & 3 & 7\\end{matrix}\\right]$"
      ],
      "text/plain": [
       "⎡5   -6  8⎤\n",
       "⎢         ⎥\n",
       "⎢9   7   2⎥\n",
       "⎢         ⎥\n",
       "⎣11  3   7⎦"
      ]
     },
     "execution_count": 133,
     "metadata": {},
     "output_type": "execute_result"
    }
   ],
   "source": [
    "P=A*B\n",
    "P"
   ]
  },
  {
   "cell_type": "code",
   "execution_count": 135,
   "id": "e90994df",
   "metadata": {},
   "outputs": [
    {
     "data": {
      "image/png": "[encoded data removed]",
      "text/latex": [
       "$\\displaystyle \\left[\\begin{matrix}9 & -11 & 6\\\\3 & 5 & 1\\\\10 & 9 & 5\\end{matrix}\\right]$"
      ],
      "text/plain": [
       "⎡9   -11  6⎤\n",
       "⎢          ⎥\n",
       "⎢3    5   1⎥\n",
       "⎢          ⎥\n",
       "⎣10   9   5⎦"
      ]
     },
     "execution_count": 135,
     "metadata": {},
     "output_type": "execute_result"
    }
   ],
   "source": [
    "Q=B*A\n",
    "Q"
   ]
  },
  {
   "cell_type": "markdown",
   "id": "a3c5f47b",
   "metadata": {},
   "source": [
    "## 4. Encontrar la transpuesta"
   ]
  },
  {
   "cell_type": "code",
   "execution_count": 138,
   "id": "6be88e26",
   "metadata": {},
   "outputs": [
    {
     "data": {
      "image/png": "[encoded data removed]",
      "text/latex": [
       "$\\displaystyle \\left[\\begin{matrix}3 & 1 & 2\\\\0 & 4 & 1\\end{matrix}\\right]$"
      ],
      "text/plain": [
       "⎡3  1  2⎤\n",
       "⎢       ⎥\n",
       "⎣0  4  1⎦"
      ]
     },
     "execution_count": 138,
     "metadata": {},
     "output_type": "execute_result"
    }
   ],
   "source": [
    "A=Matrix([[3,1,2],[0,4,1]])\n",
    "A"
   ]
  },
  {
   "cell_type": "code",
   "execution_count": 137,
   "id": "de649c18",
   "metadata": {},
   "outputs": [
    {
     "data": {
      "image/png": "[encoded data removed]",
      "text/latex": [
       "$\\displaystyle \\left[\\begin{matrix}3 & 0\\\\1 & 4\\\\2 & 1\\end{matrix}\\right]$"
      ],
      "text/plain": [
       "⎡3  0⎤\n",
       "⎢    ⎥\n",
       "⎢1  4⎥\n",
       "⎢    ⎥\n",
       "⎣2  1⎦"
      ]
     },
     "execution_count": 137,
     "metadata": {},
     "output_type": "execute_result"
    }
   ],
   "source": [
    "A.transpose()"
   ]
  },
  {
   "cell_type": "markdown",
   "id": "56178fcc",
   "metadata": {},
   "source": [
    "## 5. Encontrar complejo conjugado"
   ]
  },
  {
   "cell_type": "code",
   "execution_count": 143,
   "id": "a39eb3a0",
   "metadata": {},
   "outputs": [
    {
     "data": {
      "image/png": "[encoded data removed]",
      "text/latex": [
       "$\\displaystyle \\left[\\begin{matrix}1 & 2 & 3 i\\\\1 + i & 1 & 0\\end{matrix}\\right]$"
      ],
      "text/plain": [
       "⎡  1    2  3⋅ⅈ⎤\n",
       "⎢             ⎥\n",
       "⎣1 + ⅈ  1   0 ⎦"
      ]
     },
     "execution_count": 143,
     "metadata": {},
     "output_type": "execute_result"
    }
   ],
   "source": [
    "A=Matrix([[1,2,3*sy.I],[1+sy.I,1,0]])\n",
    "A"
   ]
  },
  {
   "cell_type": "code",
   "execution_count": 144,
   "id": "f97bafd5",
   "metadata": {},
   "outputs": [
    {
     "data": {
      "image/png": "[encoded data removed]",
      "text/latex": [
       "$\\displaystyle \\left[\\begin{matrix}1 & 2 & - 3 i\\\\1 - i & 1 & 0\\end{matrix}\\right]$"
      ],
      "text/plain": [
       "⎡  1    2  -3⋅ⅈ⎤\n",
       "⎢              ⎥\n",
       "⎣1 - ⅈ  1   0  ⎦"
      ]
     },
     "execution_count": 144,
     "metadata": {},
     "output_type": "execute_result"
    }
   ],
   "source": [
    "A.conjugate()"
   ]
  },
  {
   "cell_type": "markdown",
   "id": "1520fb80",
   "metadata": {},
   "source": [
    "## 6. Encontrar el determinante"
   ]
  },
  {
   "cell_type": "code",
   "execution_count": 146,
   "id": "f6f05007",
   "metadata": {},
   "outputs": [
    {
     "data": {
      "image/png": "[encoded data removed]",
      "text/latex": [
       "$\\displaystyle \\left[\\begin{matrix}1 & 0 & 2 & 3\\\\0 & 1 & -2 & 1\\\\3 & -3 & 4 & -2\\\\-2 & 1 & -2 & -1\\end{matrix}\\right]$"
      ],
      "text/plain": [
       "⎡1   0   2   3 ⎤\n",
       "⎢              ⎥\n",
       "⎢0   1   -2  1 ⎥\n",
       "⎢              ⎥\n",
       "⎢3   -3  4   -2⎥\n",
       "⎢              ⎥\n",
       "⎣-2  1   -2  -1⎦"
      ]
     },
     "execution_count": 146,
     "metadata": {},
     "output_type": "execute_result"
    }
   ],
   "source": [
    "A=Matrix([[1,0,2,3],[0,1,-2,1],[3,-3,4,-2],[-2,1,-2,-1]])\n",
    "A"
   ]
  },
  {
   "cell_type": "code",
   "execution_count": 147,
   "id": "dd3944d9",
   "metadata": {},
   "outputs": [
    {
     "data": {
      "image/png": "[encoded data removed]",
      "text/latex": [
       "$\\displaystyle 0$"
      ],
      "text/plain": [
       "0"
      ]
     },
     "execution_count": 147,
     "metadata": {},
     "output_type": "execute_result"
    }
   ],
   "source": [
    "A.det()"
   ]
  },
  {
   "cell_type": "markdown",
   "id": "5612a86f",
   "metadata": {},
   "source": [
    "## 7. Encontrar la inversa"
   ]
  },
  {
   "cell_type": "code",
   "execution_count": 148,
   "id": "f9ec2fc8",
   "metadata": {},
   "outputs": [
    {
     "data": {
      "image/png": "[encoded data removed]",
      "text/latex": [
       "$\\displaystyle \\left[\\begin{matrix}2 & 4 & 3\\\\1 & -2 & -2\\\\-3 & 3 & 2\\end{matrix}\\right]$"
      ],
      "text/plain": [
       "⎡2   4   3 ⎤\n",
       "⎢          ⎥\n",
       "⎢1   -2  -2⎥\n",
       "⎢          ⎥\n",
       "⎣-3  3   2 ⎦"
      ]
     },
     "execution_count": 148,
     "metadata": {},
     "output_type": "execute_result"
    }
   ],
   "source": [
    "A=Matrix([[2,4,3],[1,-2,-2],[-3,3,2]])\n",
    "A"
   ]
  },
  {
   "cell_type": "code",
   "execution_count": 149,
   "id": "cf119a1d",
   "metadata": {},
   "outputs": [
    {
     "data": {
      "image/png": "[encoded data removed]",
      "text/latex": [
       "$\\displaystyle \\left[\\begin{matrix}\\frac{2}{11} & \\frac{1}{11} & - \\frac{2}{11}\\\\\\frac{4}{11} & \\frac{13}{11} & \\frac{7}{11}\\\\- \\frac{3}{11} & - \\frac{18}{11} & - \\frac{8}{11}\\end{matrix}\\right]$"
      ],
      "text/plain": [
       "⎡2/11   1/11  -2/11⎤\n",
       "⎢                  ⎥\n",
       "⎢        13        ⎥\n",
       "⎢4/11    ──   7/11 ⎥\n",
       "⎢        11        ⎥\n",
       "⎢                  ⎥\n",
       "⎢       -18        ⎥\n",
       "⎢-3/11  ────  -8/11⎥\n",
       "⎣        11        ⎦"
      ]
     },
     "execution_count": 149,
     "metadata": {},
     "output_type": "execute_result"
    }
   ],
   "source": [
    "A.inv()"
   ]
  },
  {
   "cell_type": "markdown",
   "id": "d3b7794b",
   "metadata": {},
   "source": [
    "## 8. Encontrar eigenvalores y eigenvectores, normalizados"
   ]
  },
  {
   "cell_type": "code",
   "execution_count": 154,
   "id": "79a9b6ac",
   "metadata": {},
   "outputs": [],
   "source": [
    "import numpy as np"
   ]
  },
  {
   "cell_type": "code",
   "execution_count": 150,
   "id": "6cccefe2",
   "metadata": {},
   "outputs": [
    {
     "data": {
      "image/png": "[encoded data removed]",
      "text/latex": [
       "$\\displaystyle \\left[\\begin{matrix}1 & 1 & 3\\\\1 & 1 & -3\\\\3 & -3 & -3\\end{matrix}\\right]$"
      ],
      "text/plain": [
       "⎡1  1   3 ⎤\n",
       "⎢         ⎥\n",
       "⎢1  1   -3⎥\n",
       "⎢         ⎥\n",
       "⎣3  -3  -3⎦"
      ]
     },
     "execution_count": 150,
     "metadata": {},
     "output_type": "execute_result"
    }
   ],
   "source": [
    "A=Matrix([[1,1,3],[1,1,-3],[3,-3,-3]])\n",
    "A"
   ]
  },
  {
   "cell_type": "code",
   "execution_count": 159,
   "id": "6bf0d811",
   "metadata": {},
   "outputs": [
    {
     "data": {
      "image/png": "[encoded data removed]",
      "text/latex": [
       "$\\displaystyle \\left\\{ -6 : 1, \\  2 : 1, \\  3 : 1\\right\\}$"
      ],
      "text/plain": [
       "{-6: 1, 2: 1, 3: 1}"
      ]
     },
     "execution_count": 159,
     "metadata": {},
     "output_type": "execute_result"
    }
   ],
   "source": [
    "A.eigenvals()"
   ]
  },
  {
   "cell_type": "markdown",
   "id": "57150446",
   "metadata": {},
   "source": [
    "Según la documentación (https://docs.sympy.org/latest/tutorial/matrices.html), la notación es $\\{\\text{eigenvalor},\\text{multiplicidad}\\}$. Así que los eigenvalores son:\n",
    "- $-6$\n",
    "- $2$\n",
    "- $3$"
   ]
  },
  {
   "cell_type": "code",
   "execution_count": 166,
   "id": "aff1955f",
   "metadata": {},
   "outputs": [
    {
     "data": {
      "image/png": "[encoded data removed]",
      "text/latex": [
       "$\\displaystyle \\left[ \\left( -6, \\  1, \\  \\left[ \\left[\\begin{matrix}- \\frac{1}{2}\\\\\\frac{1}{2}\\\\1\\end{matrix}\\right]\\right]\\right), \\  \\left( 2, \\  1, \\  \\left[ \\left[\\begin{matrix}1\\\\1\\\\0\\end{matrix}\\right]\\right]\\right), \\  \\left( 3, \\  1, \\  \\left[ \\left[\\begin{matrix}1\\\\-1\\\\1\\end{matrix}\\right]\\right]\\right)\\right]$"
      ],
      "text/plain": [
       "⎡⎛       ⎡⎡-1/2⎤⎤⎞  ⎛      ⎡⎡1⎤⎤⎞  ⎛      ⎡⎡1 ⎤⎤⎞⎤\n",
       "⎢⎜       ⎢⎢    ⎥⎥⎟  ⎜      ⎢⎢ ⎥⎥⎟  ⎜      ⎢⎢  ⎥⎥⎟⎥\n",
       "⎢⎜-6, 1, ⎢⎢1/2 ⎥⎥⎟, ⎜2, 1, ⎢⎢1⎥⎥⎟, ⎜3, 1, ⎢⎢-1⎥⎥⎟⎥\n",
       "⎢⎜       ⎢⎢    ⎥⎥⎟  ⎜      ⎢⎢ ⎥⎥⎟  ⎜      ⎢⎢  ⎥⎥⎟⎥\n",
       "⎣⎝       ⎣⎣ 1  ⎦⎦⎠  ⎝      ⎣⎣0⎦⎦⎠  ⎝      ⎣⎣1 ⎦⎦⎠⎦"
      ]
     },
     "execution_count": 166,
     "metadata": {},
     "output_type": "execute_result"
    }
   ],
   "source": [
    "eivec=A.eigenvects()\n",
    "eivec"
   ]
  },
  {
   "cell_type": "markdown",
   "id": "cf4a563d",
   "metadata": {},
   "source": [
    "Según la documentación, la notación es $\\{\\text{eigenvalor, multiplicidad, eigenvector}\\}$"
   ]
  },
  {
   "cell_type": "markdown",
   "id": "76b36d9b",
   "metadata": {},
   "source": [
    "No supe extraer los vectores del objeto \"eivec\" entonces los haré a mano"
   ]
  },
  {
   "cell_type": "code",
   "execution_count": 191,
   "id": "dc7b62d8",
   "metadata": {},
   "outputs": [],
   "source": [
    "v1=(-0.5)*R3.i+(0.5)*R3.j+R3.k\n",
    "v2=R3.i+R3.j+(0)*R3.k\n",
    "v3=R3.i+(-1)*R3.j+R3.k"
   ]
  },
  {
   "cell_type": "code",
   "execution_count": 190,
   "id": "a5700708",
   "metadata": {},
   "outputs": [
    {
     "data": {
      "image/png": "[encoded data removed]",
      "text/latex": [
       "$\\displaystyle \\left( (-0.5)\\mathbf{\\hat{i}_{R3}} + (0.5)\\mathbf{\\hat{j}_{R3}} + \\mathbf{\\hat{k}_{R3}}, \\  \\mathbf{\\hat{i}_{R3}} + \\mathbf{\\hat{j}_{R3}}, \\  \\mathbf{\\hat{i}_{R3}} - \\mathbf{\\hat{j}_{R3}} + \\mathbf{\\hat{k}_{R3}}\\right)$"
      ],
      "text/plain": [
       "((-0.5) i_R3 + (0.5) j_R3 + k_R3, i_R3 + j_R3, i_R3 + (-1) j_R3 + k_R3)"
      ]
     },
     "execution_count": 190,
     "metadata": {},
     "output_type": "execute_result"
    }
   ],
   "source": [
    "(v1,v2,v3)"
   ]
  },
  {
   "cell_type": "code",
   "execution_count": 192,
   "id": "1bf02684",
   "metadata": {},
   "outputs": [
    {
     "data": {
      "image/png": "[encoded data removed]",
      "text/latex": [
       "$\\displaystyle (-0.408248290463863)\\mathbf{\\hat{i}_{R3}} + (0.408248290463863)\\mathbf{\\hat{j}_{R3}} + (0.816496580927726)\\mathbf{\\hat{k}_{R3}}$"
      ],
      "text/plain": [
       "(-0.408248290463863) i_R3 + (0.408248290463863) j_R3 + (0.816496580927726) k_R3"
      ]
     },
     "execution_count": 192,
     "metadata": {},
     "output_type": "execute_result"
    }
   ],
   "source": [
    "v1.normalize()"
   ]
  },
  {
   "cell_type": "code",
   "execution_count": 193,
   "id": "d0c89e10",
   "metadata": {},
   "outputs": [
    {
     "data": {
      "image/png": "[encoded data removed]",
      "text/latex": [
       "$\\displaystyle (\\frac{\\sqrt{2}}{2})\\mathbf{\\hat{i}_{R3}} + (\\frac{\\sqrt{2}}{2})\\mathbf{\\hat{j}_{R3}}$"
      ],
      "text/plain": [
       "⎛√2⎞        ⎛√2⎞     \n",
       "⎜──⎟ i_R3 + ⎜──⎟ j_R3\n",
       "⎝2 ⎠        ⎝2 ⎠     "
      ]
     },
     "execution_count": 193,
     "metadata": {},
     "output_type": "execute_result"
    }
   ],
   "source": [
    "v2.normalize()"
   ]
  },
  {
   "cell_type": "code",
   "execution_count": 194,
   "id": "dcc29848",
   "metadata": {},
   "outputs": [
    {
     "data": {
      "image/png": "[encoded data removed]",
      "text/latex": [
       "$\\displaystyle (\\frac{\\sqrt{3}}{3})\\mathbf{\\hat{i}_{R3}} + (- \\frac{\\sqrt{3}}{3})\\mathbf{\\hat{j}_{R3}} + (\\frac{\\sqrt{3}}{3})\\mathbf{\\hat{k}_{R3}}$"
      ],
      "text/plain": [
       "⎛√3⎞        ⎛-√3 ⎞        ⎛√3⎞     \n",
       "⎜──⎟ i_R3 + ⎜────⎟ j_R3 + ⎜──⎟ k_R3\n",
       "⎝3 ⎠        ⎝ 3  ⎠        ⎝3 ⎠     "
      ]
     },
     "execution_count": 194,
     "metadata": {},
     "output_type": "execute_result"
    }
   ],
   "source": [
    "v3.normalize()"
   ]
  },
  {
   "cell_type": "markdown",
   "id": "86f9dae2",
   "metadata": {},
   "source": [
    "## 9. Encontrar la solución del sistema de ecuaciones"
   ]
  },
  {
   "cell_type": "code",
   "execution_count": 195,
   "id": "c441a214",
   "metadata": {},
   "outputs": [],
   "source": [
    "x1,x2,x3=sy.symbols('x_1 x_2 x_3')"
   ]
  },
  {
   "cell_type": "code",
   "execution_count": 196,
   "id": "96bfca88",
   "metadata": {},
   "outputs": [],
   "source": [
    "e1=2*x1+4*x2+3*x3-4\n",
    "e2=x1-2*x2-2*x3\n",
    "e3=-3*x1+3*x2+2*x3+7"
   ]
  },
  {
   "cell_type": "code",
   "execution_count": 202,
   "id": "ff2993df",
   "metadata": {},
   "outputs": [
    {
     "data": {
      "image/png": "[encoded data removed]",
      "text/latex": [
       "$\\displaystyle \\left\\{\\left( 2, \\  -3, \\  4\\right)\\right\\}$"
      ],
      "text/plain": [
       "{(2, -3, 4)}"
      ]
     },
     "execution_count": 202,
     "metadata": {},
     "output_type": "execute_result"
    }
   ],
   "source": [
    "sy.linsolve([e1,e2,e3],(x1,x2,x3))"
   ]
  },
  {
   "cell_type": "markdown",
   "id": "db1fe968",
   "metadata": {},
   "source": [
    "i.e. $$x_1=2$$ $$x_2=-3$$ $$x_3=4$$"
   ]
  }
 ],
 "metadata": {
  "kernelspec": {
   "display_name": "Python 3 (ipykernel)",
   "language": "python",
   "name": "python3"
  },
  "language_info": {
   "codemirror_mode": {
    "name": "ipython",
    "version": 3
   },
   "file_extension": ".py",
   "mimetype": "text/x-python",
   "name": "python",
   "nbconvert_exporter": "python",
   "pygments_lexer": "ipython3",
   "version": "3.9.7"
  }
 },
 "nbformat": 4,
 "nbformat_minor": 5
}
