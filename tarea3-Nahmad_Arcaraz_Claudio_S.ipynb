{
 "cells": [
  {
   "cell_type": "code",
   "execution_count": 1,
   "metadata": {},
   "outputs": [],
   "source": [
    "#PREAMBLE\n",
    "\n",
    "import matplotlib.pyplot as plt\n",
    "from scipy import optimize,  interpolate, integrate\n",
    "import seaborn as sns\n",
    "import numpy as np\n",
    "import pandas as pd\n",
    "\n",
    "%matplotlib inline\n",
    "#%matplotlib notebook"
   ]
  },
  {
   "cell_type": "code",
   "execution_count": 2,
   "metadata": {},
   "outputs": [],
   "source": [
    "#tex PREAMBLE\n",
    "\n",
    "from matplotlib import rc\n",
    "#******************************************************\n",
    "\n",
    "rc('font',**{'family':'serif','serif':['Times']})\n",
    "## for Palatino and other serif fonts use:\n",
    "#rc('font',**{'family':'serif','serif':['Palatino']})\n",
    "rc('text', usetex=True)\n",
    "\n",
    "#LaTeX\n",
    "plt.rc('text', usetex=True)\n",
    "plt.rc('font', family='serif')\n",
    "\n",
    "#*******************************************************"
   ]
  },
  {
   "cell_type": "markdown",
   "metadata": {},
   "source": [
    "# Usar SEABORN para graficar"
   ]
  },
  {
   "cell_type": "code",
   "execution_count": 3,
   "metadata": {},
   "outputs": [],
   "source": [
    "sns.set()"
   ]
  },
  {
   "cell_type": "markdown",
   "metadata": {
    "collapsed": true
   },
   "source": [
    "# Leer archivos con PANDAS y almacenar"
   ]
  },
  {
   "cell_type": "code",
   "execution_count": 4,
   "metadata": {},
   "outputs": [],
   "source": [
    "f=pd.read_csv('./tarea3/file_f.csv', header=0, usecols=(1,2))\n",
    "g=pd.read_csv('./tarea3/file_g.csv', header=0, usecols=(1,2))"
   ]
  },
  {
   "cell_type": "code",
   "execution_count": 5,
   "metadata": {},
   "outputs": [
    {
     "data": {
      "text/html": [
       "<div>\n",
       "<style scoped>\n",
       "    .dataframe tbody tr th:only-of-type {\n",
       "        vertical-align: middle;\n",
       "    }\n",
       "\n",
       "    .dataframe tbody tr th {\n",
       "        vertical-align: top;\n",
       "    }\n",
       "\n",
       "    .dataframe thead th {\n",
       "        text-align: right;\n",
       "    }\n",
       "</style>\n",
       "<table border=\"1\" class=\"dataframe\">\n",
       "  <thead>\n",
       "    <tr style=\"text-align: right;\">\n",
       "      <th></th>\n",
       "      <th>x</th>\n",
       "      <th>y</th>\n",
       "    </tr>\n",
       "  </thead>\n",
       "  <tbody>\n",
       "    <tr>\n",
       "      <th>0</th>\n",
       "      <td>-2.000000</td>\n",
       "      <td>43.800852</td>\n",
       "    </tr>\n",
       "    <tr>\n",
       "      <th>1</th>\n",
       "      <td>-1.939394</td>\n",
       "      <td>42.049952</td>\n",
       "    </tr>\n",
       "    <tr>\n",
       "      <th>2</th>\n",
       "      <td>-1.878788</td>\n",
       "      <td>38.473135</td>\n",
       "    </tr>\n",
       "    <tr>\n",
       "      <th>3</th>\n",
       "      <td>-1.818182</td>\n",
       "      <td>36.070861</td>\n",
       "    </tr>\n",
       "    <tr>\n",
       "      <th>4</th>\n",
       "      <td>-1.757576</td>\n",
       "      <td>34.152866</td>\n",
       "    </tr>\n",
       "    <tr>\n",
       "      <th>5</th>\n",
       "      <td>-1.696970</td>\n",
       "      <td>31.354811</td>\n",
       "    </tr>\n",
       "  </tbody>\n",
       "</table>\n",
       "</div>"
      ],
      "text/plain": [
       "          x          y\n",
       "0 -2.000000  43.800852\n",
       "1 -1.939394  42.049952\n",
       "2 -1.878788  38.473135\n",
       "3 -1.818182  36.070861\n",
       "4 -1.757576  34.152866\n",
       "5 -1.696970  31.354811"
      ]
     },
     "execution_count": 5,
     "metadata": {},
     "output_type": "execute_result"
    }
   ],
   "source": [
    "g.head(6)"
   ]
  },
  {
   "cell_type": "markdown",
   "metadata": {},
   "source": [
    "# Graficar archivos"
   ]
  },
  {
   "cell_type": "code",
   "execution_count": 6,
   "metadata": {},
   "outputs": [
    {
     "data": {
      "image/png": "[encoded data removed]",
      "text/plain": [
       "<Figure size 576x360 with 1 Axes>"
      ]
     },
     "metadata": {},
     "output_type": "display_data"
    }
   ],
   "source": [
    "fig, a = plt.subplots(figsize = (8,5) #,dpi=100\"\n",
    "                     )\n",
    "a=sns.scatterplot(data=f, x='x', y='y')\n",
    "a=sns.scatterplot(data=g, x='x', y='y')"
   ]
  },
  {
   "cell_type": "markdown",
   "metadata": {},
   "source": [
    "## Extra: con Matplotlib"
   ]
  },
  {
   "cell_type": "code",
   "execution_count": null,
   "metadata": {
    "scrolled": true
   },
   "outputs": [],
   "source": [
    "fig, ax1 = plt.subplots(figsize=(8,5))\n",
    "\n",
    "ax1.plot(f['x'],f['y'],'.',label=r'Dataset F')\n",
    "ax1.plot(g['x'],g['y'],'+',label=r'Dataset G')\n",
    "\n",
    "ax1.set_xlabel(r'$x$',fontsize=10)\n",
    "ax1.set_ylabel(r'$y$',fontsize=10,rotation=0,labelpad=20)\n",
    "#--------------------------------------------------------------------------------------\n",
    "ax1.legend(loc='best', fancybox=True, framealpha=1, fontsize=13)\n",
    "ax1.grid(which='both',ls=\":\", c='black', alpha=0.4);\n",
    "#--------------------------------------------------------------------------------------\n",
    "#plt.savefig('{0}.pdf'.format(nombre))"
   ]
  },
  {
   "cell_type": "markdown",
   "metadata": {},
   "source": [
    "# Sumar componentes y's y graficar"
   ]
  },
  {
   "cell_type": "code",
   "execution_count": 7,
   "metadata": {},
   "outputs": [
    {
     "data": {
      "image/png": "[encoded data removed]",
      "text/plain": [
       "<Figure size 576x360 with 1 Axes>"
      ]
     },
     "metadata": {},
     "output_type": "display_data"
    }
   ],
   "source": [
    "#f=pd.read_csv('./tarea3/file_f.csv', header=0, usecols=(1,2))\n",
    "#g=pd.read_csv('./tarea3/file_g.csv', header=0, usecols=(1,2))\n",
    "\n",
    "#armando un dataframe con la suma de las entradas en Y\n",
    "suma=f['y']+g['y']\n",
    "datos2=[f['x'],suma]\n",
    "headers = [\"x\", \"y\"]\n",
    "dfsuma = pd.concat(datos2, axis=1, keys=headers)\n",
    "\n",
    "fig, a = plt.subplots(figsize = (8,5)#, dpi = 100\n",
    "                     )\n",
    "a=sns.scatterplot(data=dfsuma, x='x', y='y')"
   ]
  },
  {
   "cell_type": "markdown",
   "metadata": {},
   "source": [
    "## Extra: con Matplotlib"
   ]
  },
  {
   "cell_type": "code",
   "execution_count": null,
   "metadata": {},
   "outputs": [],
   "source": [
    "fig, ax1 = plt.subplots(figsize=(8,5)#,dpi=100\n",
    "                       )\n",
    "\n",
    "ax1.plot(f['x'],f['y']+g['y'],'.',label=r'F+G')\n",
    "\n",
    "ax1.set_xlabel(r'$x$',fontsize=20)\n",
    "ax1.set_ylabel(r'$y$',fontsize=20,rotation=0,labelpad=20)\n",
    "#--------------------------------------------------------------------------------------\n",
    "ax1.legend(loc='best', fancybox=True, framealpha=1, fontsize=13)\n",
    "ax1.grid(which='both',ls=\":\", c='black', alpha=0.4);\n",
    "#--------------------------------------------------------------------------------------\n",
    "#plt.savefig('{0}.pdf'.format(nombre))"
   ]
  },
  {
   "cell_type": "markdown",
   "metadata": {
    "collapsed": true
   },
   "source": [
    "\n",
    "## Ajustar una funcion cuadratica y encontrar coeficientes"
   ]
  },
  {
   "cell_type": "code",
   "execution_count": 8,
   "metadata": {},
   "outputs": [],
   "source": [
    "#USAMOS MEJOR SCIPY.OPTIMIZE.CURVE_FIT, abajo\n",
    "\n",
    "#Primero encontremos los valores de los coeficientes a,b y c para nuestro conjunto de datos dfsuma (la suma en Y)\n",
    "\n",
    "#quadratic_coeff=np.polyfit(dfsuma['x'],dfsuma['y'],2)\n",
    "#la funcion polyfit de numpy encuentra un ajuste polinomial de grado p para un conjunto de datos x,y.\n",
    "#sintaxis: np.polyfit(x,y,p)\n",
    "#quadratic_coeff"
   ]
  },
  {
   "cell_type": "code",
   "execution_count": 19,
   "metadata": {},
   "outputs": [],
   "source": [
    "## Ahora definamos una función que nos calcule la función cuadrática, dados los coeficientes a, b y c; sobre un\n",
    "## parámetro t.\n",
    "quadfunct = lambda t,a,b,c: (a*(t**2)) + (b*t) + c"
   ]
  },
  {
   "cell_type": "code",
   "execution_count": 20,
   "metadata": {},
   "outputs": [
    {
     "name": "stdout",
     "output_type": "stream",
     "text": [
      "los coeficientes son [ 4.55037324 -7.95814613 -4.55137109]\n",
      "la matriz de covarianza es \n",
      " [[ 0.00885751 -0.01771503 -0.01825184]\n",
      " [-0.01771503  0.05711103  0.01482271]\n",
      " [-0.01825184  0.01482271  0.12564777]]\n"
     ]
    }
   ],
   "source": [
    "#matriz de covarianza\n",
    "coeff, cov = optimize.curve_fit(quadfunct,f['x'],dfsuma['y'],)\n",
    "print('los coeficientes son',coeff)\n",
    "print('la matriz de covarianza es \\n',cov)"
   ]
  },
  {
   "cell_type": "markdown",
   "metadata": {},
   "source": [
    "## Graficar coeficientes y matriz de covarianza"
   ]
  },
  {
   "cell_type": "code",
   "execution_count": 57,
   "metadata": {},
   "outputs": [
    {
     "data": {
      "text/plain": [
       "<AxesSubplot:>"
      ]
     },
     "execution_count": 57,
     "metadata": {},
     "output_type": "execute_result"
    },
    {
     "data": {
      "image/png": "[encoded data removed]",
      "text/plain": [
       "<Figure size 432x288 with 2 Axes>"
      ]
     },
     "metadata": {},
     "output_type": "display_data"
    }
   ],
   "source": [
    "#corr = dataframe.corr()\n",
    "cov=pd.DataFrame(cov)\n",
    "cov.columns=[\"mean 1\", \"mean 2\", \"mean 3\"]\n",
    "sns.heatmap(cov, \n",
    "            xticklabels=cov.columns.values,\n",
    "            yticklabels=cov.columns.values,\n",
    "            annot=True, linewidths=.5)"
   ]
  },
  {
   "cell_type": "code",
   "execution_count": 53,
   "metadata": {},
   "outputs": [
    {
     "data": {
      "text/html": [
       "<div>\n",
       "<style scoped>\n",
       "    .dataframe tbody tr th:only-of-type {\n",
       "        vertical-align: middle;\n",
       "    }\n",
       "\n",
       "    .dataframe tbody tr th {\n",
       "        vertical-align: top;\n",
       "    }\n",
       "\n",
       "    .dataframe thead th {\n",
       "        text-align: right;\n",
       "    }\n",
       "</style>\n",
       "<table border=\"1\" class=\"dataframe\">\n",
       "  <thead>\n",
       "    <tr style=\"text-align: right;\">\n",
       "      <th></th>\n",
       "      <th>0</th>\n",
       "      <th>1</th>\n",
       "      <th>2</th>\n",
       "    </tr>\n",
       "  </thead>\n",
       "  <tbody>\n",
       "    <tr>\n",
       "      <th>0</th>\n",
       "      <td>0.008858</td>\n",
       "      <td>-0.017715</td>\n",
       "      <td>-0.018252</td>\n",
       "    </tr>\n",
       "    <tr>\n",
       "      <th>1</th>\n",
       "      <td>-0.017715</td>\n",
       "      <td>0.057111</td>\n",
       "      <td>0.014823</td>\n",
       "    </tr>\n",
       "    <tr>\n",
       "      <th>2</th>\n",
       "      <td>-0.018252</td>\n",
       "      <td>0.014823</td>\n",
       "      <td>0.125648</td>\n",
       "    </tr>\n",
       "  </tbody>\n",
       "</table>\n",
       "</div>"
      ],
      "text/plain": [
       "          0         1         2\n",
       "0  0.008858 -0.017715 -0.018252\n",
       "1 -0.017715  0.057111  0.014823\n",
       "2 -0.018252  0.014823  0.125648"
      ]
     },
     "execution_count": 53,
     "metadata": {},
     "output_type": "execute_result"
    }
   ],
   "source": [
    "datos2=[f['x'],suma]\n",
    "headers = [\"mean 1\", \"mean 2\", \"mean 3\"]\n",
    "dfsuma = pd.concat(datos2, axis=1, keys=headers)"
   ]
  },
  {
   "cell_type": "markdown",
   "metadata": {},
   "source": [
    "## Graficar mejor ajuste de la cuadratica"
   ]
  },
  {
   "cell_type": "code",
   "execution_count": 155,
   "metadata": {},
   "outputs": [],
   "source": [
    "quad=quadfunct(f['x'],coeff[0],coeff[1],coeff[2])\n",
    "#calculamos la función cuadrática"
   ]
  },
  {
   "cell_type": "code",
   "execution_count": 156,
   "metadata": {},
   "outputs": [
    {
     "data": {
      "text/html": [
       "<div>\n",
       "<style scoped>\n",
       "    .dataframe tbody tr th:only-of-type {\n",
       "        vertical-align: middle;\n",
       "    }\n",
       "\n",
       "    .dataframe tbody tr th {\n",
       "        vertical-align: top;\n",
       "    }\n",
       "\n",
       "    .dataframe thead th {\n",
       "        text-align: right;\n",
       "    }\n",
       "</style>\n",
       "<table border=\"1\" class=\"dataframe\">\n",
       "  <thead>\n",
       "    <tr style=\"text-align: right;\">\n",
       "      <th></th>\n",
       "      <th>x</th>\n",
       "      <th>y</th>\n",
       "    </tr>\n",
       "  </thead>\n",
       "  <tbody>\n",
       "    <tr>\n",
       "      <th>0</th>\n",
       "      <td>-2.000000</td>\n",
       "      <td>29.566414</td>\n",
       "    </tr>\n",
       "    <tr>\n",
       "      <th>1</th>\n",
       "      <td>-1.939394</td>\n",
       "      <td>27.997695</td>\n",
       "    </tr>\n",
       "    <tr>\n",
       "      <th>2</th>\n",
       "      <td>-1.878788</td>\n",
       "      <td>26.462405</td>\n",
       "    </tr>\n",
       "    <tr>\n",
       "      <th>3</th>\n",
       "      <td>-1.818182</td>\n",
       "      <td>24.960542</td>\n",
       "    </tr>\n",
       "    <tr>\n",
       "      <th>4</th>\n",
       "      <td>-1.757576</td>\n",
       "      <td>23.492107</td>\n",
       "    </tr>\n",
       "    <tr>\n",
       "      <th>...</th>\n",
       "      <td>...</td>\n",
       "      <td>...</td>\n",
       "    </tr>\n",
       "    <tr>\n",
       "      <th>95</th>\n",
       "      <td>3.757576</td>\n",
       "      <td>29.793721</td>\n",
       "    </tr>\n",
       "    <tr>\n",
       "      <th>96</th>\n",
       "      <td>3.818182</td>\n",
       "      <td>31.400653</td>\n",
       "    </tr>\n",
       "    <tr>\n",
       "      <th>97</th>\n",
       "      <td>3.878788</td>\n",
       "      <td>33.041013</td>\n",
       "    </tr>\n",
       "    <tr>\n",
       "      <th>98</th>\n",
       "      <td>3.939394</td>\n",
       "      <td>34.714800</td>\n",
       "    </tr>\n",
       "    <tr>\n",
       "      <th>99</th>\n",
       "      <td>4.000000</td>\n",
       "      <td>36.422016</td>\n",
       "    </tr>\n",
       "  </tbody>\n",
       "</table>\n",
       "<p>100 rows × 2 columns</p>\n",
       "</div>"
      ],
      "text/plain": [
       "           x          y\n",
       "0  -2.000000  29.566414\n",
       "1  -1.939394  27.997695\n",
       "2  -1.878788  26.462405\n",
       "3  -1.818182  24.960542\n",
       "4  -1.757576  23.492107\n",
       "..       ...        ...\n",
       "95  3.757576  29.793721\n",
       "96  3.818182  31.400653\n",
       "97  3.878788  33.041013\n",
       "98  3.939394  34.714800\n",
       "99  4.000000  36.422016\n",
       "\n",
       "[100 rows x 2 columns]"
      ]
     },
     "execution_count": 156,
     "metadata": {},
     "output_type": "execute_result"
    }
   ],
   "source": [
    "#armando un dataframe con el ajuste\n",
    "datos3=[f['x'],quad]\n",
    "headers = [\"x\", \"y\"]\n",
    "adjust_to_data = pd.concat(datos3, axis=1, keys=headers)\n",
    "adjust_to_data"
   ]
  },
  {
   "cell_type": "code",
   "execution_count": 36,
   "metadata": {},
   "outputs": [
    {
     "data": {
      "image/png": "[encoded data removed]",
      "text/plain": [
       "<Figure size 576x360 with 1 Axes>"
      ]
     },
     "metadata": {},
     "output_type": "display_data"
    }
   ],
   "source": [
    "#graficamos los datos (azul) y su ajuste (rojo)\n",
    "fig, a = plt.subplots(figsize = (8,5)#, dpi = 100\n",
    "                     )\n",
    "a=sns.scatterplot(data=dfsuma, x='x', y='y')\n",
    "a=sns.lineplot(data=adjust_to_data, x='x',y='y', color='red')"
   ]
  },
  {
   "cell_type": "markdown",
   "metadata": {
    "collapsed": true
   },
   "source": [
    "# El mejor ajuste, convertir a una funcion (interpolar)"
   ]
  },
  {
   "cell_type": "markdown",
   "metadata": {},
   "source": [
    "## a) Encontrar raices"
   ]
  },
  {
   "cell_type": "code",
   "execution_count": 37,
   "metadata": {},
   "outputs": [
    {
     "name": "stdout",
     "output_type": "stream",
     "text": [
      "      converged: True\n",
      "           flag: 'converged'\n",
      " function_calls: 11\n",
      "     iterations: 10\n",
      "           root: 2.2029383531366866 \n",
      "       converged: True\n",
      "           flag: 'converged'\n",
      " function_calls: 10\n",
      "     iterations: 9\n",
      "           root: -0.45403871091014236\n"
     ]
    }
   ],
   "source": [
    "quad_wcoeff = lambda t: (coeff[0]*(t**2)) + (coeff[1]*t) + coeff[2]\n",
    "#definimos esta funcion cuadrática con coeficientes para evitar estar metiendo los coeficientes cada que queramos\n",
    "#correrla, también para evitar errores de 'series' al calcular raíces y el mínimo\n",
    "\n",
    "root1=optimize.root_scalar(quad_wcoeff,bracket=[1,4])\n",
    "root2=optimize.root_scalar(quad_wcoeff,bracket=[-2,1])\n",
    "print(root1,\"\\n\", root2)"
   ]
  },
  {
   "cell_type": "code",
   "execution_count": 38,
   "metadata": {},
   "outputs": [],
   "source": [
    "root1=2.2029383531366866 \n",
    "root2=-0.45403871091014236"
   ]
  },
  {
   "cell_type": "markdown",
   "metadata": {},
   "source": [
    "## b) Encontrar minimo"
   ]
  },
  {
   "cell_type": "code",
   "execution_count": 39,
   "metadata": {},
   "outputs": [
    {
     "data": {
      "text/plain": [
       "     fun: -8.030870821319354\n",
       "    nfev: 9\n",
       "     nit: 5\n",
       " success: True\n",
       "       x: 0.8744498081614176"
      ]
     },
     "execution_count": 39,
     "metadata": {},
     "output_type": "execute_result"
    }
   ],
   "source": [
    "minimum=optimize.minimize_scalar(quad_wcoeff)\n",
    "minimum"
   ]
  },
  {
   "cell_type": "markdown",
   "metadata": {},
   "source": [
    "## c) Calcular derivadas"
   ]
  },
  {
   "cell_type": "code",
   "execution_count": 30,
   "metadata": {},
   "outputs": [
    {
     "name": "stdout",
     "output_type": "stream",
     "text": [
      "en x=2.2029383531366866 la pendiente es 12.090237330219965\n",
      "en x=-0.45403871091014236 la pendiente es -12.090237330220017\n"
     ]
    }
   ],
   "source": [
    "from scipy import misc\n",
    "\n",
    "pendiente1=misc.derivative(quad_wcoeff,root1)\n",
    "pendiente2=misc.derivative(quad_wcoeff,root2)\n",
    "\n",
    "print('en x={} la pendiente es {}'.format(root1,pendiente1))\n",
    "print('en x={} la pendiente es {}'.format(root2,pendiente2))"
   ]
  },
  {
   "cell_type": "code",
   "execution_count": 31,
   "metadata": {},
   "outputs": [],
   "source": [
    "y1 = lambda x: pendiente1*(x-root1)+(quad_wcoeff(root1))\n",
    "y2 = lambda x: pendiente2*(x-root2)+(quad_wcoeff(root2))"
   ]
  },
  {
   "cell_type": "code",
   "execution_count": 113,
   "metadata": {},
   "outputs": [
    {
     "data": {
      "text/plain": [
       "0    -50.814522\n",
       "1    -50.081781\n",
       "2    -49.349039\n",
       "3    -48.616297\n",
       "4    -47.883556\n",
       "        ...    \n",
       "95    18.795935\n",
       "96    19.528677\n",
       "97    20.261418\n",
       "98    20.994160\n",
       "99    21.726902\n",
       "Name: x, Length: 100, dtype: float64"
      ]
     },
     "execution_count": 113,
     "metadata": {},
     "output_type": "execute_result"
    }
   ],
   "source": [
    "y1x=y1(f['x'])\n",
    "y2x=y2(f['x'])\n",
    "y1(f['x'])"
   ]
  },
  {
   "cell_type": "code",
   "execution_count": 114,
   "metadata": {},
   "outputs": [],
   "source": [
    "#convirtiendo las ecuaciones de tangente en dataframes \n",
    "datos=[f['x'],y1x]\n",
    "headers = [\"x\", \"y\"]\n",
    "tan1 = pd.concat(datos, axis=1, keys=headers)\n",
    "\n",
    "datos=[f['x'],y2x]\n",
    "headers = [\"x\", \"y\"]\n",
    "tan2 = pd.concat(datos, axis=1, keys=headers)"
   ]
  },
  {
   "cell_type": "markdown",
   "metadata": {},
   "source": [
    "# Graficar tangentes a raices y funcion "
   ]
  },
  {
   "cell_type": "code",
   "execution_count": 59,
   "metadata": {},
   "outputs": [
    {
     "data": {
      "text/plain": [
       "<matplotlib.legend.Legend at 0x7f1017c17640>"
      ]
     },
     "execution_count": 59,
     "metadata": {},
     "output_type": "execute_result"
    },
    {
     "data": {
      "image/png": "[encoded data removed]",
      "text/plain": [
       "<Figure size 576x360 with 1 Axes>"
      ]
     },
     "metadata": {},
     "output_type": "display_data"
    }
   ],
   "source": [
    "fig, a = plt.subplots(figsize = (8,5)#, dpi = 100\n",
    "                     )\n",
    "a=sns.lineplot(data=adjust_to_data, x='x',y='y', color='red',label='fitted')\n",
    "a=sns.lineplot(data=tan1, x='x',y='y', color='green',label='tan1')\n",
    "a=sns.lineplot(data=tan2, x='x',y='y', color='black',label='tan2')\n",
    "a.set_ylim(bottom=-17)\n",
    "#a.set_xlim(left=-2.2,right=4.2)\n",
    "a.legend(loc='lower left', fancybox=True, framealpha=1, fontsize=10)"
   ]
  },
  {
   "cell_type": "code",
   "execution_count": null,
   "metadata": {},
   "outputs": [],
   "source": [
    "fig, a = plt.subplots(figsize = (8,5)#, dpi = 100\n",
    "                     )\n",
    "a=sns.lineplot(data=adjust_to_data, x='x',y='y', color='red',label='fitted')\n",
    "a=sns.lineplot(data=tan1, x='x',y='y', color='green',label='tan1')\n",
    "a=sns.lineplot(data=tan2, x='x',y='y', color='black',label='tan2')\n",
    "a.set_ylim(bottom=-17)\n",
    "#a.set_xlim(left=-2.2,right=4.2)\n",
    "a.legend(loc='lower left', fancybox=True, framealpha=1, fontsize=10)"
   ]
  },
  {
   "cell_type": "markdown",
   "metadata": {},
   "source": [
    "# Graficar area entre parabola y tangentes"
   ]
  },
  {
   "cell_type": "code",
   "execution_count": 103,
   "metadata": {},
   "outputs": [],
   "source": [
    "#calculemos el area bajo la curva ajustada desde x=root1 hasta x(minimum)\n",
    "#y luego desde x(minimum) hasta x=root2\n",
    "area_fit1=integrate.quad(quad_wcoeff,root1,0.8744498081614176)\n",
    "area_fit2=integrate.quad(quad_wcoeff,root2,0.8744498081614176)\n",
    "#print(area_fit1[0], area_fit2[0])\n",
    "\n",
    "area_tan1=integrate.quad(y1,root1,0.8744498081614176)\n",
    "area_tan2=integrate.quad(y2,root2,0.8744498081614176)\n",
    "\n",
    "#...y restamos (las entradas 0 pues integrate.quad da dos resultados, el area y el error)\n",
    "a_tot1=area_tan1[0]-area_fit1[0]\n",
    "a_tot2=area_fit2[0]-area_tan2[0]"
   ]
  },
  {
   "cell_type": "code",
   "execution_count": 166,
   "metadata": {},
   "outputs": [
    {
     "data": {
      "text/plain": [
       "<matplotlib.legend.Legend at 0x7f1015d0aa90>"
      ]
     },
     "execution_count": 166,
     "metadata": {},
     "output_type": "execute_result"
    },
    {
     "data": {
      "image/png": "[encoded data removed]",
      "text/plain": [
       "<Figure size 576x360 with 1 Axes>"
      ]
     },
     "metadata": {},
     "output_type": "display_data"
    }
   ],
   "source": [
    "fig, a = plt.subplots(figsize = (8,5)#, dpi = 100\n",
    "                     )\n",
    "a=sns.lineplot(data=adjust_to_data, x='x',y='y', color='red',label='fitted')\n",
    "a=sns.lineplot(data=tan1, x='x',y='y', color='green',label='tan1')\n",
    "a=sns.lineplot(data=tan2, x='x',y='y', color='black',label='tan2')\n",
    "\n",
    "a.plot(f['x'],quad_wcoeff(f['x']))\n",
    "a.fill_between(np.linspace(root1,0.8744498081614176),quad_wcoeff(np.linspace(root1,0.8744498081614176)),y1(np.linspace(root1,0.8744498081614176)))\n",
    "a.fill_between(np.linspace(root2,0.8744498081614176),quad_wcoeff(np.linspace(root2,0.8744498081614176)),y2(np.linspace(root2,0.8744498081614176)))\n",
    "\n",
    "a.set_ylim(bottom=-17,top=0)\n",
    "a.set_xlim(left=-0.8,right=2.3)\n",
    "a.legend(loc='lower left', fancybox=True, framealpha=1, fontsize=10)"
   ]
  },
  {
   "cell_type": "markdown",
   "metadata": {},
   "source": [
    "# Encotrar area total "
   ]
  },
  {
   "cell_type": "code",
   "execution_count": 100,
   "metadata": {},
   "outputs": [
    {
     "name": "stdout",
     "output_type": "stream",
     "text": [
      "area = 7.112613192189448\n"
     ]
    }
   ],
   "source": [
    "print(\"area =\", a_tot1+a_tot2) #lo mismo daría multiplicar a_tot1*2 pues el ajuste es una función simétrica en x"
   ]
  }
 ],
 "metadata": {
  "kernelspec": {
   "display_name": "Python 3 (ipykernel)",
   "language": "python",
   "name": "python3"
  },
  "language_info": {
   "codemirror_mode": {
    "name": "ipython",
    "version": 3
   },
   "file_extension": ".py",
   "mimetype": "text/x-python",
   "name": "python",
   "nbconvert_exporter": "python",
   "pygments_lexer": "ipython3",
   "version": "3.9.7"
  }
 },
 "nbformat": 4,
 "nbformat_minor": 1
}
